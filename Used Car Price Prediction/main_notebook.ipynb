{
 "cells": [
  {
   "cell_type": "markdown",
   "metadata": {},
   "source": [
    "# Exercises"
   ]
  },
  {
   "cell_type": "code",
   "execution_count": 1,
   "metadata": {},
   "outputs": [],
   "source": [
    "import pandas as pd"
   ]
  },
  {
   "cell_type": "code",
   "execution_count": 15,
   "metadata": {},
   "outputs": [],
   "source": [
    "class MyLineReg:\n",
    "    def __init__(self, n_iter=100, learning_rate=0.1):\n",
    "        self.n_iter = n_iter\n",
    "        self.learning_rate = learning_rate\n",
    "    \n",
    "    def __str__(self): \n",
    "        return f\"MyLineReg class: n_iter={self.n_iter}, learning_rate={self.learning_rate}\""
   ]
  },
  {
   "cell_type": "code",
   "execution_count": 16,
   "metadata": {},
   "outputs": [],
   "source": [
    "a = MyLineReg(10, 0.5)"
   ]
  },
  {
   "cell_type": "code",
   "execution_count": null,
   "metadata": {},
   "outputs": [],
   "source": []
  },
  {
   "cell_type": "markdown",
   "metadata": {},
   "source": [
    "# Import"
   ]
  },
  {
   "cell_type": "code",
   "execution_count": 1,
   "metadata": {},
   "outputs": [],
   "source": [
    "import pandas as pd\n",
    "import numpy as np\n",
    "\n",
    "from datetime import datetime\n",
    "\n",
    "import ast\n",
    "import copy\n",
    "import matplotlib.pyplot as plt\n",
    "import re\n",
    "import seaborn as sns\n",
    "import warnings\n",
    "\n",
    "import nltk\n",
    "\n",
    "from nltk.stem.snowball import SnowballStemmer \n",
    "\n",
    "sns.set()\n",
    "#pd.set_option('max_columns', None)\n",
    "warnings.filterwarnings('ignore')"
   ]
  },
  {
   "cell_type": "markdown",
   "metadata": {},
   "source": [
    "# Task Description\n",
    "\n",
    "I need to predict the price of a used cars based on its features. Obviously, this is a regression problem. As a control metric, I will choose Mean Absolute Percentage Error (MAPE). It is the mean of all absolute percentage errors between the predicted and actual values.\n",
    "It both easy for end users to understand and simpler to compare model accuracy across use cases and datasets. \n",
    "\n",
    "Since the target is the price of a car in the hundreds of thousands of rubles, these values are far from 0, so I can use this metric without worrying about dividing by 0 when calculating the metric."
   ]
  },
  {
   "cell_type": "markdown",
   "metadata": {},
   "source": [
    "# Overview"
   ]
  },
  {
   "cell_type": "code",
   "execution_count": 2,
   "metadata": {},
   "outputs": [
    {
     "data": {
      "text/html": [
       "<div>\n",
       "<style scoped>\n",
       "    .dataframe tbody tr th:only-of-type {\n",
       "        vertical-align: middle;\n",
       "    }\n",
       "\n",
       "    .dataframe tbody tr th {\n",
       "        vertical-align: top;\n",
       "    }\n",
       "\n",
       "    .dataframe thead th {\n",
       "        text-align: right;\n",
       "    }\n",
       "</style>\n",
       "<table border=\"1\" class=\"dataframe\">\n",
       "  <thead>\n",
       "    <tr style=\"text-align: right;\">\n",
       "      <th></th>\n",
       "      <th>bodyType</th>\n",
       "      <th>brand</th>\n",
       "      <th>car_url</th>\n",
       "      <th>color</th>\n",
       "      <th>complectation_dict</th>\n",
       "      <th>description</th>\n",
       "      <th>engineDisplacement</th>\n",
       "      <th>enginePower</th>\n",
       "      <th>equipment_dict</th>\n",
       "      <th>fuelType</th>\n",
       "      <th>...</th>\n",
       "      <th>Владение</th>\n",
       "      <th>ПТС</th>\n",
       "      <th>Привод</th>\n",
       "      <th>Руль</th>\n",
       "      <th>Состояние</th>\n",
       "      <th>Таможня</th>\n",
       "      <th>views</th>\n",
       "      <th>date_added</th>\n",
       "      <th>region</th>\n",
       "      <th>price</th>\n",
       "    </tr>\n",
       "  </thead>\n",
       "  <tbody>\n",
       "    <tr>\n",
       "      <th>0</th>\n",
       "      <td>лифтбек</td>\n",
       "      <td>SKODA</td>\n",
       "      <td>https://auto.ru/cars/used/sale/skoda/octavia/1...</td>\n",
       "      <td>белый</td>\n",
       "      <td>['cruise-control', 'multi-wheel', 'xenon', 'he...</td>\n",
       "      <td>Автомобиль приобретался у официального дилера ...</td>\n",
       "      <td>1.8 LTR</td>\n",
       "      <td>180 N12</td>\n",
       "      <td>{'cruise-control': True, 'asr': True, 'tinted-...</td>\n",
       "      <td>бензин</td>\n",
       "      <td>...</td>\n",
       "      <td>NaN</td>\n",
       "      <td>Оригинал</td>\n",
       "      <td>передний</td>\n",
       "      <td>Левый</td>\n",
       "      <td>Не требует ремонта</td>\n",
       "      <td>Растаможен</td>\n",
       "      <td>76.0</td>\n",
       "      <td>24 сентября</td>\n",
       "      <td>в Тюмени</td>\n",
       "      <td>999000.0</td>\n",
       "    </tr>\n",
       "    <tr>\n",
       "      <th>1</th>\n",
       "      <td>лифтбек</td>\n",
       "      <td>SKODA</td>\n",
       "      <td>https://auto.ru/cars/used/sale/skoda/rapid/110...</td>\n",
       "      <td>белый</td>\n",
       "      <td>['cruise-control', 'multi-wheel', 'heated-wash...</td>\n",
       "      <td>Группа компаний Элан Моторс официальный дилер ...</td>\n",
       "      <td>1.6 LTR</td>\n",
       "      <td>110 N12</td>\n",
       "      <td>{'cruise-control': True, 'glonass': True, 'asr...</td>\n",
       "      <td>бензин</td>\n",
       "      <td>...</td>\n",
       "      <td>NaN</td>\n",
       "      <td>Оригинал</td>\n",
       "      <td>передний</td>\n",
       "      <td>Левый</td>\n",
       "      <td>Не требует ремонта</td>\n",
       "      <td>Растаможен</td>\n",
       "      <td>259.0</td>\n",
       "      <td>24 сентября</td>\n",
       "      <td>в Санкт-Петербурге</td>\n",
       "      <td>1179000.0</td>\n",
       "    </tr>\n",
       "    <tr>\n",
       "      <th>2</th>\n",
       "      <td>лифтбек</td>\n",
       "      <td>SKODA</td>\n",
       "      <td>https://auto.ru/cars/new/group/skoda/rapid/217...</td>\n",
       "      <td>белый</td>\n",
       "      <td>['cruise-control', 'heated-wash-system', 'airb...</td>\n",
       "      <td>Специальные предложения на автомобили в наличи...</td>\n",
       "      <td>1.6 LTR</td>\n",
       "      <td>90 N12</td>\n",
       "      <td>{'cruise-control': True, 'glonass': True, 'esp...</td>\n",
       "      <td>бензин</td>\n",
       "      <td>...</td>\n",
       "      <td>NaN</td>\n",
       "      <td>NaN</td>\n",
       "      <td>NaN</td>\n",
       "      <td>NaN</td>\n",
       "      <td>NaN</td>\n",
       "      <td>NaN</td>\n",
       "      <td>NaN</td>\n",
       "      <td>NaN</td>\n",
       "      <td>NaN</td>\n",
       "      <td>1464100.0</td>\n",
       "    </tr>\n",
       "    <tr>\n",
       "      <th>3</th>\n",
       "      <td>лифтбек</td>\n",
       "      <td>SKODA</td>\n",
       "      <td>https://auto.ru/cars/used/sale/skoda/octavia/1...</td>\n",
       "      <td>синий</td>\n",
       "      <td>['cruise-control', 'multi-wheel', 'heated-wash...</td>\n",
       "      <td>Купим Ваш автомобиль ДОРОГО Гарантированная с...</td>\n",
       "      <td>1.4 LTR</td>\n",
       "      <td>150 N12</td>\n",
       "      <td>{'cruise-control': True, 'esp': True, 'usb': T...</td>\n",
       "      <td>бензин</td>\n",
       "      <td>...</td>\n",
       "      <td>NaN</td>\n",
       "      <td>Оригинал</td>\n",
       "      <td>передний</td>\n",
       "      <td>Левый</td>\n",
       "      <td>Не требует ремонта</td>\n",
       "      <td>Растаможен</td>\n",
       "      <td>31.0</td>\n",
       "      <td>25 сентября</td>\n",
       "      <td>в Тюмени</td>\n",
       "      <td>1420000.0</td>\n",
       "    </tr>\n",
       "    <tr>\n",
       "      <th>4</th>\n",
       "      <td>внедорожник 5 дв.</td>\n",
       "      <td>SKODA</td>\n",
       "      <td>https://auto.ru/cars/new/group/skoda/karoq/217...</td>\n",
       "      <td>серый</td>\n",
       "      <td>['cruise-control', 'multi-wheel', 'heated-wash...</td>\n",
       "      <td>ЛОТ 01267595 Скидка на автомобиль при покупке ...</td>\n",
       "      <td>1.4 LTR</td>\n",
       "      <td>150 N12</td>\n",
       "      <td>{'cruise-control': True, 'asr': True, 'esp': T...</td>\n",
       "      <td>бензин</td>\n",
       "      <td>...</td>\n",
       "      <td>NaN</td>\n",
       "      <td>NaN</td>\n",
       "      <td>NaN</td>\n",
       "      <td>NaN</td>\n",
       "      <td>NaN</td>\n",
       "      <td>NaN</td>\n",
       "      <td>NaN</td>\n",
       "      <td>NaN</td>\n",
       "      <td>NaN</td>\n",
       "      <td>2653190.0</td>\n",
       "    </tr>\n",
       "  </tbody>\n",
       "</table>\n",
       "<p>5 rows × 36 columns</p>\n",
       "</div>"
      ],
      "text/plain": [
       "            bodyType  brand  \\\n",
       "0            лифтбек  SKODA   \n",
       "1            лифтбек  SKODA   \n",
       "2            лифтбек  SKODA   \n",
       "3            лифтбек  SKODA   \n",
       "4  внедорожник 5 дв.  SKODA   \n",
       "\n",
       "                                             car_url  color  \\\n",
       "0  https://auto.ru/cars/used/sale/skoda/octavia/1...  белый   \n",
       "1  https://auto.ru/cars/used/sale/skoda/rapid/110...  белый   \n",
       "2  https://auto.ru/cars/new/group/skoda/rapid/217...  белый   \n",
       "3  https://auto.ru/cars/used/sale/skoda/octavia/1...  синий   \n",
       "4  https://auto.ru/cars/new/group/skoda/karoq/217...  серый   \n",
       "\n",
       "                                  complectation_dict  \\\n",
       "0  ['cruise-control', 'multi-wheel', 'xenon', 'he...   \n",
       "1  ['cruise-control', 'multi-wheel', 'heated-wash...   \n",
       "2  ['cruise-control', 'heated-wash-system', 'airb...   \n",
       "3  ['cruise-control', 'multi-wheel', 'heated-wash...   \n",
       "4  ['cruise-control', 'multi-wheel', 'heated-wash...   \n",
       "\n",
       "                                         description engineDisplacement  \\\n",
       "0  Автомобиль приобретался у официального дилера ...            1.8 LTR   \n",
       "1  Группа компаний Элан Моторс официальный дилер ...            1.6 LTR   \n",
       "2  Специальные предложения на автомобили в наличи...            1.6 LTR   \n",
       "3   Купим Ваш автомобиль ДОРОГО Гарантированная с...            1.4 LTR   \n",
       "4  ЛОТ 01267595 Скидка на автомобиль при покупке ...            1.4 LTR   \n",
       "\n",
       "  enginePower                                     equipment_dict fuelType  \\\n",
       "0     180 N12  {'cruise-control': True, 'asr': True, 'tinted-...   бензин   \n",
       "1     110 N12  {'cruise-control': True, 'glonass': True, 'asr...   бензин   \n",
       "2      90 N12  {'cruise-control': True, 'glonass': True, 'esp...   бензин   \n",
       "3     150 N12  {'cruise-control': True, 'esp': True, 'usb': T...   бензин   \n",
       "4     150 N12  {'cruise-control': True, 'asr': True, 'esp': T...   бензин   \n",
       "\n",
       "   ... Владение       ПТС    Привод   Руль           Состояние     Таможня  \\\n",
       "0  ...      NaN  Оригинал  передний  Левый  Не требует ремонта  Растаможен   \n",
       "1  ...      NaN  Оригинал  передний  Левый  Не требует ремонта  Растаможен   \n",
       "2  ...      NaN       NaN       NaN    NaN                 NaN         NaN   \n",
       "3  ...      NaN  Оригинал  передний  Левый  Не требует ремонта  Растаможен   \n",
       "4  ...      NaN       NaN       NaN    NaN                 NaN         NaN   \n",
       "\n",
       "   views   date_added               region      price  \n",
       "0   76.0  24 сентября             в Тюмени   999000.0  \n",
       "1  259.0  24 сентября   в Санкт-Петербурге  1179000.0  \n",
       "2    NaN          NaN                  NaN  1464100.0  \n",
       "3   31.0  25 сентября             в Тюмени  1420000.0  \n",
       "4    NaN          NaN                  NaN  2653190.0  \n",
       "\n",
       "[5 rows x 36 columns]"
      ]
     },
     "execution_count": 2,
     "metadata": {},
     "output_type": "execute_result"
    }
   ],
   "source": [
    "data = pd.read_csv('data/data.csv')\n",
    "data.head()"
   ]
  },
  {
   "cell_type": "code",
   "execution_count": 3,
   "metadata": {},
   "outputs": [
    {
     "data": {
      "text/plain": [
       "(130201, 36)"
      ]
     },
     "execution_count": 3,
     "metadata": {},
     "output_type": "execute_result"
    }
   ],
   "source": [
    "data.shape"
   ]
  },
  {
   "cell_type": "code",
   "execution_count": 4,
   "metadata": {},
   "outputs": [
    {
     "name": "stdout",
     "output_type": "stream",
     "text": [
      "<class 'pandas.core.frame.DataFrame'>\n",
      "RangeIndex: 130201 entries, 0 to 130200\n",
      "Data columns (total 36 columns):\n",
      " #   Column                Non-Null Count   Dtype  \n",
      "---  ------                --------------   -----  \n",
      " 0   bodyType              129986 non-null  object \n",
      " 1   brand                 129988 non-null  object \n",
      " 2   car_url               129969 non-null  object \n",
      " 3   color                 129988 non-null  object \n",
      " 4   complectation_dict    105267 non-null  object \n",
      " 5   description           129988 non-null  object \n",
      " 6   engineDisplacement    129988 non-null  object \n",
      " 7   enginePower           129988 non-null  object \n",
      " 8   equipment_dict        129969 non-null  object \n",
      " 9   fuelType              129986 non-null  object \n",
      " 10  image                 130065 non-null  object \n",
      " 11  mileage               103034 non-null  float64\n",
      " 12  modelDate             129986 non-null  float64\n",
      " 13  model_info            0 non-null       float64\n",
      " 14  model_name            103034 non-null  object \n",
      " 15  name                  130153 non-null  object \n",
      " 16  numberOfDoors         129987 non-null  float64\n",
      " 17  parsing_unixtime      130154 non-null  float64\n",
      " 18  priceCurrency         130153 non-null  object \n",
      " 19  productionDate        129988 non-null  float64\n",
      " 20  sell_id               129969 non-null  float64\n",
      " 21  super_gen             130135 non-null  object \n",
      " 22  vehicleConfiguration  129987 non-null  object \n",
      " 23  vehicleTransmission   129986 non-null  object \n",
      " 24  vendor                0 non-null       float64\n",
      " 25  Владельцы             103034 non-null  object \n",
      " 26  Владение              14286 non-null   object \n",
      " 27  ПТС                   103034 non-null  object \n",
      " 28  Привод                103032 non-null  object \n",
      " 29  Руль                  103033 non-null  object \n",
      " 30  Состояние             103032 non-null  object \n",
      " 31  Таможня               103030 non-null  object \n",
      " 32  views                 101998 non-null  float64\n",
      " 33  date_added            103034 non-null  object \n",
      " 34  region                103034 non-null  object \n",
      " 35  price                 109765 non-null  float64\n",
      "dtypes: float64(10), object(26)\n",
      "memory usage: 35.8+ MB\n"
     ]
    }
   ],
   "source": [
    "data.info()"
   ]
  },
  {
   "cell_type": "code",
   "execution_count": 5,
   "metadata": {},
   "outputs": [
    {
     "data": {
      "text/plain": [
       "Index(['bodyType', 'brand', 'car_url', 'color', 'complectation_dict',\n",
       "       'description', 'engineDisplacement', 'enginePower', 'equipment_dict',\n",
       "       'fuelType', 'image', 'mileage', 'modelDate', 'model_info', 'model_name',\n",
       "       'name', 'numberOfDoors', 'parsing_unixtime', 'priceCurrency',\n",
       "       'productionDate', 'sell_id', 'super_gen', 'vehicleConfiguration',\n",
       "       'vehicleTransmission', 'vendor', 'Владельцы', 'Владение', 'ПТС',\n",
       "       'Привод', 'Руль', 'Состояние', 'Таможня', 'views', 'date_added',\n",
       "       'region', 'price'],\n",
       "      dtype='object')"
      ]
     },
     "execution_count": 5,
     "metadata": {},
     "output_type": "execute_result"
    }
   ],
   "source": [
    "data.columns"
   ]
  },
  {
   "cell_type": "code",
   "execution_count": 6,
   "metadata": {},
   "outputs": [
    {
     "data": {
      "text/plain": [
       "bodyType                   215\n",
       "brand                      213\n",
       "car_url                    232\n",
       "color                      213\n",
       "complectation_dict       24934\n",
       "description                213\n",
       "engineDisplacement         213\n",
       "enginePower                213\n",
       "equipment_dict             232\n",
       "fuelType                   215\n",
       "image                      136\n",
       "mileage                  27167\n",
       "modelDate                  215\n",
       "model_info              130201\n",
       "model_name               27167\n",
       "name                        48\n",
       "numberOfDoors              214\n",
       "parsing_unixtime            47\n",
       "priceCurrency               48\n",
       "productionDate             213\n",
       "sell_id                    232\n",
       "super_gen                   66\n",
       "vehicleConfiguration       214\n",
       "vehicleTransmission        215\n",
       "vendor                  130201\n",
       "Владельцы                27167\n",
       "Владение                115915\n",
       "ПТС                      27167\n",
       "Привод                   27169\n",
       "Руль                     27168\n",
       "Состояние                27169\n",
       "Таможня                  27171\n",
       "views                    28203\n",
       "date_added               27167\n",
       "region                   27167\n",
       "price                    20436\n",
       "dtype: int64"
      ]
     },
     "execution_count": 6,
     "metadata": {},
     "output_type": "execute_result"
    }
   ],
   "source": [
    "data.isnull().sum()"
   ]
  },
  {
   "cell_type": "code",
   "execution_count": 7,
   "metadata": {},
   "outputs": [
    {
     "data": {
      "text/html": [
       "<div>\n",
       "<style scoped>\n",
       "    .dataframe tbody tr th:only-of-type {\n",
       "        vertical-align: middle;\n",
       "    }\n",
       "\n",
       "    .dataframe tbody tr th {\n",
       "        vertical-align: top;\n",
       "    }\n",
       "\n",
       "    .dataframe thead th {\n",
       "        text-align: right;\n",
       "    }\n",
       "</style>\n",
       "<table border=\"1\" class=\"dataframe\">\n",
       "  <thead>\n",
       "    <tr style=\"text-align: right;\">\n",
       "      <th></th>\n",
       "      <th>mileage</th>\n",
       "      <th>modelDate</th>\n",
       "      <th>model_info</th>\n",
       "      <th>numberOfDoors</th>\n",
       "      <th>parsing_unixtime</th>\n",
       "      <th>productionDate</th>\n",
       "      <th>sell_id</th>\n",
       "      <th>vendor</th>\n",
       "      <th>views</th>\n",
       "      <th>price</th>\n",
       "    </tr>\n",
       "  </thead>\n",
       "  <tbody>\n",
       "    <tr>\n",
       "      <th>count</th>\n",
       "      <td>103034.000000</td>\n",
       "      <td>129986.000000</td>\n",
       "      <td>0.0</td>\n",
       "      <td>129987.000000</td>\n",
       "      <td>1.301540e+05</td>\n",
       "      <td>129988.000000</td>\n",
       "      <td>1.299690e+05</td>\n",
       "      <td>0.0</td>\n",
       "      <td>101998.000000</td>\n",
       "      <td>1.097650e+05</td>\n",
       "    </tr>\n",
       "    <tr>\n",
       "      <th>mean</th>\n",
       "      <td>116610.915407</td>\n",
       "      <td>2012.934578</td>\n",
       "      <td>NaN</td>\n",
       "      <td>4.643164</td>\n",
       "      <td>1.632842e+09</td>\n",
       "      <td>2015.083854</td>\n",
       "      <td>1.104866e+09</td>\n",
       "      <td>NaN</td>\n",
       "      <td>564.982284</td>\n",
       "      <td>2.801223e+06</td>\n",
       "    </tr>\n",
       "    <tr>\n",
       "      <th>std</th>\n",
       "      <td>85154.492046</td>\n",
       "      <td>6.017749</td>\n",
       "      <td>NaN</td>\n",
       "      <td>0.619354</td>\n",
       "      <td>1.316360e+05</td>\n",
       "      <td>5.929774</td>\n",
       "      <td>1.779786e+06</td>\n",
       "      <td>NaN</td>\n",
       "      <td>1814.036025</td>\n",
       "      <td>2.689068e+06</td>\n",
       "    </tr>\n",
       "    <tr>\n",
       "      <th>min</th>\n",
       "      <td>1.000000</td>\n",
       "      <td>1938.000000</td>\n",
       "      <td>NaN</td>\n",
       "      <td>2.000000</td>\n",
       "      <td>1.632613e+09</td>\n",
       "      <td>1952.000000</td>\n",
       "      <td>1.003139e+09</td>\n",
       "      <td>NaN</td>\n",
       "      <td>2.000000</td>\n",
       "      <td>2.300000e+04</td>\n",
       "    </tr>\n",
       "    <tr>\n",
       "      <th>25%</th>\n",
       "      <td>51000.000000</td>\n",
       "      <td>2010.000000</td>\n",
       "      <td>NaN</td>\n",
       "      <td>4.000000</td>\n",
       "      <td>1.632725e+09</td>\n",
       "      <td>2012.000000</td>\n",
       "      <td>1.104900e+09</td>\n",
       "      <td>NaN</td>\n",
       "      <td>127.000000</td>\n",
       "      <td>1.000000e+06</td>\n",
       "    </tr>\n",
       "    <tr>\n",
       "      <th>50%</th>\n",
       "      <td>100000.000000</td>\n",
       "      <td>2014.000000</td>\n",
       "      <td>NaN</td>\n",
       "      <td>5.000000</td>\n",
       "      <td>1.632821e+09</td>\n",
       "      <td>2016.000000</td>\n",
       "      <td>1.105219e+09</td>\n",
       "      <td>NaN</td>\n",
       "      <td>245.000000</td>\n",
       "      <td>2.045000e+06</td>\n",
       "    </tr>\n",
       "    <tr>\n",
       "      <th>75%</th>\n",
       "      <td>161000.000000</td>\n",
       "      <td>2017.000000</td>\n",
       "      <td>NaN</td>\n",
       "      <td>5.000000</td>\n",
       "      <td>1.632973e+09</td>\n",
       "      <td>2020.000000</td>\n",
       "      <td>1.105376e+09</td>\n",
       "      <td>NaN</td>\n",
       "      <td>511.000000</td>\n",
       "      <td>3.649000e+06</td>\n",
       "    </tr>\n",
       "    <tr>\n",
       "      <th>max</th>\n",
       "      <td>1000000.000000</td>\n",
       "      <td>2021.000000</td>\n",
       "      <td>NaN</td>\n",
       "      <td>5.000000</td>\n",
       "      <td>1.633049e+09</td>\n",
       "      <td>2021.000000</td>\n",
       "      <td>1.105403e+09</td>\n",
       "      <td>NaN</td>\n",
       "      <td>148149.000000</td>\n",
       "      <td>3.999000e+07</td>\n",
       "    </tr>\n",
       "  </tbody>\n",
       "</table>\n",
       "</div>"
      ],
      "text/plain": [
       "              mileage      modelDate  model_info  numberOfDoors  \\\n",
       "count   103034.000000  129986.000000         0.0  129987.000000   \n",
       "mean    116610.915407    2012.934578         NaN       4.643164   \n",
       "std      85154.492046       6.017749         NaN       0.619354   \n",
       "min          1.000000    1938.000000         NaN       2.000000   \n",
       "25%      51000.000000    2010.000000         NaN       4.000000   \n",
       "50%     100000.000000    2014.000000         NaN       5.000000   \n",
       "75%     161000.000000    2017.000000         NaN       5.000000   \n",
       "max    1000000.000000    2021.000000         NaN       5.000000   \n",
       "\n",
       "       parsing_unixtime  productionDate       sell_id  vendor          views  \\\n",
       "count      1.301540e+05   129988.000000  1.299690e+05     0.0  101998.000000   \n",
       "mean       1.632842e+09     2015.083854  1.104866e+09     NaN     564.982284   \n",
       "std        1.316360e+05        5.929774  1.779786e+06     NaN    1814.036025   \n",
       "min        1.632613e+09     1952.000000  1.003139e+09     NaN       2.000000   \n",
       "25%        1.632725e+09     2012.000000  1.104900e+09     NaN     127.000000   \n",
       "50%        1.632821e+09     2016.000000  1.105219e+09     NaN     245.000000   \n",
       "75%        1.632973e+09     2020.000000  1.105376e+09     NaN     511.000000   \n",
       "max        1.633049e+09     2021.000000  1.105403e+09     NaN  148149.000000   \n",
       "\n",
       "              price  \n",
       "count  1.097650e+05  \n",
       "mean   2.801223e+06  \n",
       "std    2.689068e+06  \n",
       "min    2.300000e+04  \n",
       "25%    1.000000e+06  \n",
       "50%    2.045000e+06  \n",
       "75%    3.649000e+06  \n",
       "max    3.999000e+07  "
      ]
     },
     "execution_count": 7,
     "metadata": {},
     "output_type": "execute_result"
    }
   ],
   "source": [
    "data.describe()"
   ]
  },
  {
   "cell_type": "markdown",
   "metadata": {},
   "source": [
    "### Subtotal\n",
    "\n",
    "- There are 130201 rows in this dataset.\n",
    "- Target \"price\" contains 20436 missing values. It's bad, because I can't use this examples for model training, so I will remove them.\n",
    "- Here a lot of categorical features, like as fuelType, brand, color and so on.\n",
    "- There are description of announcement. It is text data and interesting, will I extract any valuable information from this feature.\n",
    "- Here two features with links - car_url and image. I will not analyze image links because I will not work with CV techniques in this project. Also I will not use car_url, because I have already a good list of parameters for every case.\n",
    "- complectation_dict - this feature contains useful information (for example, 'cruise-control', 'multi-wheel' and so on). Moreover, some parameters from this feature are duplicated in the main dataset. Next, I will analyze this feature in more detail."
   ]
  },
  {
   "cell_type": "markdown",
   "metadata": {},
   "source": [
    "# Help Functions"
   ]
  },
  {
   "cell_type": "code",
   "execution_count": 8,
   "metadata": {},
   "outputs": [],
   "source": [
    "'''Text normalization'''\n",
    "def norm_string(string: str, stemming_flag = 0):\n",
    "    stemmer = SnowballStemmer(\"russian\") \n",
    "\n",
    "    punc = '''!()-[]{};:'\"\\,<>./?@#$%^&*_~«»»\"–+»+\"-\"”№'''\n",
    "    string = re.sub('\\,|\\.|\\/|\\-', ' ', string)\n",
    "    string = re.sub('\\s+', ' ', string)\n",
    "    string = [i for i in string if i not in punc] # punc delete\n",
    "    string = ''.join(string).lower()\n",
    "\n",
    "    if stemming_flag == 1:\n",
    "        string = nltk.word_tokenize(string)\n",
    "        string = [stemmer.stem(w) if len(w) > 6 else w for w in string]\n",
    "        string = ' '.join(string).lower()\n",
    "\n",
    "    return string\n",
    "\n",
    "'''Building of histogram and box plot for numerical features'''\n",
    "def show_hist_boxplot(feature: pd.Series):\n",
    "    sns_plot = sns.distplot(feature)\n",
    "    sns_plot.get_figure()\n",
    "    plt.show()\n",
    "\n",
    "    sns.boxplot(y=feature, width=0.4, palette=\"Greens\");\n",
    "    plt.show()"
   ]
  },
  {
   "cell_type": "markdown",
   "metadata": {},
   "source": [
    "# Data Preprocessing"
   ]
  },
  {
   "cell_type": "code",
   "execution_count": 9,
   "metadata": {},
   "outputs": [],
   "source": [
    "# Deleting rows with missing values in target\n",
    "data = data[data['price'].notna()].reset_index(drop=True)"
   ]
  },
  {
   "cell_type": "code",
   "execution_count": 10,
   "metadata": {},
   "outputs": [
    {
     "name": "stdout",
     "output_type": "stream",
     "text": [
      "109765\n",
      "109765\n"
     ]
    }
   ],
   "source": [
    "# Let's remove (little bit later) model_info and vendor features, because they are empty\n",
    "print(data['model_info'].isna().sum())\n",
    "print(data['vendor'].isna().sum())"
   ]
  },
  {
   "cell_type": "code",
   "execution_count": 11,
   "metadata": {},
   "outputs": [
    {
     "name": "stdout",
     "output_type": "stream",
     "text": [
      "1632613481.0\n"
     ]
    }
   ],
   "source": [
    "# Data has downloaded in one session. So let's check first value in parsing_unixtime column.\n",
    "# Date of data parsing is 2021-09-26 \n",
    "print(data['parsing_unixtime'][0])"
   ]
  },
  {
   "cell_type": "code",
   "execution_count": 12,
   "metadata": {},
   "outputs": [
    {
     "name": "stdout",
     "output_type": "stream",
     "text": [
      "RUB    109765\n",
      "Name: priceCurrency, dtype: int64\n"
     ]
    }
   ],
   "source": [
    "# Feature priceCurrency is constant. Let's remove it\n",
    "print(data['priceCurrency'].value_counts())"
   ]
  },
  {
   "cell_type": "code",
   "execution_count": 13,
   "metadata": {},
   "outputs": [
    {
     "name": "stdout",
     "output_type": "stream",
     "text": [
      "0                    LIFTBACK ROBOT 1.8\n",
      "1                LIFTBACK AUTOMATIC 1.6\n",
      "2               LIFTBACK MECHANICAL 1.6\n",
      "3                    LIFTBACK ROBOT 1.4\n",
      "4         ALLROAD_5_DOORS AUTOMATIC 1.4\n",
      "                      ...              \n",
      "109760             SEDAN MECHANICAL 2.0\n",
      "109761     ALLROAD_5_DOORS VARIATOR 2.4\n",
      "109762     ALLROAD_5_DOORS VARIATOR 2.0\n",
      "109763     ALLROAD_5_DOORS VARIATOR 2.4\n",
      "109764             SEDAN MECHANICAL 1.6\n",
      "Name: vehicleConfiguration, Length: 109765, dtype: object\n"
     ]
    }
   ],
   "source": [
    "# This feature is unnecessary, because dataset already has this content (body type, transmission, engine displacement). \n",
    "# Let's remove it\n",
    "print(data['vehicleConfiguration'])"
   ]
  },
  {
   "cell_type": "code",
   "execution_count": 14,
   "metadata": {},
   "outputs": [
    {
     "name": "stdout",
     "output_type": "stream",
     "text": [
      "97597\n",
      "Missing values qty: 88.91%\n"
     ]
    }
   ],
   "source": [
    "# Let's remove this feature, because missing values qty > 88%\n",
    "print(data['Владение'].isna().sum())\n",
    "print(f'Missing values qty: {round((data.Владение.isna().sum() / len(data)) * 100, 2)}%')"
   ]
  },
  {
   "cell_type": "code",
   "execution_count": 15,
   "metadata": {},
   "outputs": [
    {
     "name": "stdout",
     "output_type": "stream",
     "text": [
      "21153\n",
      "Не требует ремонта    88612\n",
      "Name: Состояние, dtype: int64\n"
     ]
    }
   ],
   "source": [
    "# Let's remove this feature, because it contains only one constant value and missing values\n",
    "print(data['Состояние'].isna().sum())\n",
    "print(data['Состояние'].value_counts())"
   ]
  },
  {
   "cell_type": "code",
   "execution_count": 16,
   "metadata": {},
   "outputs": [
    {
     "name": "stdout",
     "output_type": "stream",
     "text": [
      "21156\n",
      "Растаможен    88609\n",
      "Name: Таможня, dtype: int64\n"
     ]
    }
   ],
   "source": [
    "# Let's remove this feature, because it contains only one constant value and missing values\n",
    "print(data['Таможня'].isna().sum())\n",
    "print(data['Таможня'].value_counts())"
   ]
  },
  {
   "cell_type": "code",
   "execution_count": 17,
   "metadata": {},
   "outputs": [],
   "source": [
    "# Deleting unnecessary features \n",
    "data = data.drop(columns=['car_url', 'image', 'model_info', 'vendor', 'parsing_unixtime', 'priceCurrency', 'vehicleConfiguration', \n",
    "                          'Владение', 'Таможня', 'Состояние', 'sell_id'])"
   ]
  },
  {
   "cell_type": "code",
   "execution_count": 18,
   "metadata": {},
   "outputs": [],
   "source": [
    "data.columns = ['body_type', 'brand', 'color', 'complectation_dict', 'description',\n",
    "                'engine_displacement', 'engine_power', 'equipment_dict', 'fuel_type',\n",
    "                'mileage', 'model_date', 'model_name', 'name', 'doors_number',\n",
    "                'production_date', 'super_gen', 'vehicle_transmission',\n",
    "                'owners', 'vehicle_passport', 'wheel_drive', 'steering_wheel', 'views', \n",
    "                'date_added', 'region', 'price']"
   ]
  },
  {
   "cell_type": "markdown",
   "metadata": {},
   "source": [
    "### body_type"
   ]
  },
  {
   "cell_type": "code",
   "execution_count": 19,
   "metadata": {},
   "outputs": [
    {
     "data": {
      "text/html": [
       "<div>\n",
       "<style scoped>\n",
       "    .dataframe tbody tr th:only-of-type {\n",
       "        vertical-align: middle;\n",
       "    }\n",
       "\n",
       "    .dataframe tbody tr th {\n",
       "        vertical-align: top;\n",
       "    }\n",
       "\n",
       "    .dataframe thead th {\n",
       "        text-align: right;\n",
       "    }\n",
       "</style>\n",
       "<table border=\"1\" class=\"dataframe\">\n",
       "  <thead>\n",
       "    <tr style=\"text-align: right;\">\n",
       "      <th></th>\n",
       "      <th>body_type</th>\n",
       "    </tr>\n",
       "  </thead>\n",
       "  <tbody>\n",
       "    <tr>\n",
       "      <th>внедорожник 5 дв.</th>\n",
       "      <td>60847</td>\n",
       "    </tr>\n",
       "    <tr>\n",
       "      <th>седан</th>\n",
       "      <td>27685</td>\n",
       "    </tr>\n",
       "    <tr>\n",
       "      <th>лифтбек</th>\n",
       "      <td>6192</td>\n",
       "    </tr>\n",
       "    <tr>\n",
       "      <th>минивэн</th>\n",
       "      <td>3581</td>\n",
       "    </tr>\n",
       "    <tr>\n",
       "      <th>хэтчбек 5 дв.</th>\n",
       "      <td>3183</td>\n",
       "    </tr>\n",
       "    <tr>\n",
       "      <th>купе</th>\n",
       "      <td>2666</td>\n",
       "    </tr>\n",
       "    <tr>\n",
       "      <th>универсал 5 дв.</th>\n",
       "      <td>1542</td>\n",
       "    </tr>\n",
       "    <tr>\n",
       "      <th>компактвэн</th>\n",
       "      <td>1356</td>\n",
       "    </tr>\n",
       "    <tr>\n",
       "      <th>пикап двойная кабина</th>\n",
       "      <td>1248</td>\n",
       "    </tr>\n",
       "    <tr>\n",
       "      <th>хэтчбек 3 дв.</th>\n",
       "      <td>677</td>\n",
       "    </tr>\n",
       "    <tr>\n",
       "      <th>фургон</th>\n",
       "      <td>460</td>\n",
       "    </tr>\n",
       "    <tr>\n",
       "      <th>внедорожник 3 дв.</th>\n",
       "      <td>92</td>\n",
       "    </tr>\n",
       "    <tr>\n",
       "      <th>кабриолет</th>\n",
       "      <td>82</td>\n",
       "    </tr>\n",
       "    <tr>\n",
       "      <th>купе-хардтоп</th>\n",
       "      <td>58</td>\n",
       "    </tr>\n",
       "    <tr>\n",
       "      <th>родстер</th>\n",
       "      <td>48</td>\n",
       "    </tr>\n",
       "    <tr>\n",
       "      <th>микровэн</th>\n",
       "      <td>30</td>\n",
       "    </tr>\n",
       "    <tr>\n",
       "      <th>пикап одинарная кабина</th>\n",
       "      <td>7</td>\n",
       "    </tr>\n",
       "    <tr>\n",
       "      <th>пикап полуторная кабина</th>\n",
       "      <td>4</td>\n",
       "    </tr>\n",
       "    <tr>\n",
       "      <th>седан-хардтоп</th>\n",
       "      <td>3</td>\n",
       "    </tr>\n",
       "    <tr>\n",
       "      <th>внедорожник открытый</th>\n",
       "      <td>2</td>\n",
       "    </tr>\n",
       "    <tr>\n",
       "      <th>лимузин</th>\n",
       "      <td>1</td>\n",
       "    </tr>\n",
       "  </tbody>\n",
       "</table>\n",
       "</div>"
      ],
      "text/plain": [
       "                         body_type\n",
       "внедорожник 5 дв.            60847\n",
       "седан                        27685\n",
       "лифтбек                       6192\n",
       "минивэн                       3581\n",
       "хэтчбек 5 дв.                 3183\n",
       "купе                          2666\n",
       "универсал 5 дв.               1542\n",
       "компактвэн                    1356\n",
       "пикап двойная кабина          1248\n",
       "хэтчбек 3 дв.                  677\n",
       "фургон                         460\n",
       "внедорожник 3 дв.               92\n",
       "кабриолет                       82\n",
       "купе-хардтоп                    58\n",
       "родстер                         48\n",
       "микровэн                        30\n",
       "пикап одинарная кабина           7\n",
       "пикап полуторная кабина          4\n",
       "седан-хардтоп                    3\n",
       "внедорожник открытый             2\n",
       "лимузин                          1"
      ]
     },
     "execution_count": 19,
     "metadata": {},
     "output_type": "execute_result"
    }
   ],
   "source": [
    "counts_df = data['body_type'].value_counts().to_frame()\n",
    "counts_df"
   ]
  },
  {
   "cell_type": "code",
   "execution_count": 20,
   "metadata": {},
   "outputs": [],
   "source": [
    "'''Let's replace unpopular body types in df (in comparison with other types) on 'other' type'''\n",
    "unpopular_types = list(counts_df.loc[counts_df['body_type'] < 100].index)\n",
    "data['body_type'] = ['other' if i in unpopular_types else i for i in data['body_type'].tolist()]"
   ]
  },
  {
   "cell_type": "code",
   "execution_count": 21,
   "metadata": {},
   "outputs": [
    {
     "data": {
      "text/plain": [
       "внедорожник 5 дв.       60847\n",
       "седан                   27685\n",
       "лифтбек                  6192\n",
       "минивэн                  3581\n",
       "хэтчбек 5 дв.            3183\n",
       "купе                     2666\n",
       "универсал 5 дв.          1542\n",
       "компактвэн               1356\n",
       "пикап двойная кабина     1248\n",
       "хэтчбек 3 дв.             677\n",
       "фургон                    460\n",
       "other                     327\n",
       "Name: body_type, dtype: int64"
      ]
     },
     "execution_count": 21,
     "metadata": {},
     "output_type": "execute_result"
    }
   ],
   "source": [
    "data['body_type'].value_counts()"
   ]
  },
  {
   "cell_type": "code",
   "execution_count": 22,
   "metadata": {},
   "outputs": [
    {
     "data": {
      "text/plain": [
       "<AxesSubplot:xlabel='count', ylabel='body_type'>"
      ]
     },
     "execution_count": 22,
     "metadata": {},
     "output_type": "execute_result"
    },
    {
     "data": {
      "image/png": "[encoded data removed]",
      "text/plain": [
       "<Figure size 432x288 with 1 Axes>"
      ]
     },
     "metadata": {},
     "output_type": "display_data"
    }
   ],
   "source": [
    "sns.countplot(data=data, y=\"body_type\", palette=\"ch:.100\")"
   ]
  },
  {
   "cell_type": "code",
   "execution_count": 23,
   "metadata": {},
   "outputs": [
    {
     "name": "stdout",
     "output_type": "stream",
     "text": [
      "Missing values in body_type: 1\n"
     ]
    }
   ],
   "source": [
    "'''Since the length of the dataset is > 109K rows, I can afford to delete one row'''\n",
    "print('Missing values in body_type:', data['body_type'].isna().sum())\n",
    "data = data.dropna(axis=0, subset=['body_type']).reset_index(drop=True)"
   ]
  },
  {
   "cell_type": "code",
   "execution_count": null,
   "metadata": {},
   "outputs": [],
   "source": []
  },
  {
   "cell_type": "markdown",
   "metadata": {},
   "source": [
    "### brand"
   ]
  },
  {
   "cell_type": "code",
   "execution_count": 24,
   "metadata": {},
   "outputs": [
    {
     "data": {
      "text/html": [
       "<div>\n",
       "<style scoped>\n",
       "    .dataframe tbody tr th:only-of-type {\n",
       "        vertical-align: middle;\n",
       "    }\n",
       "\n",
       "    .dataframe tbody tr th {\n",
       "        vertical-align: top;\n",
       "    }\n",
       "\n",
       "    .dataframe thead th {\n",
       "        text-align: right;\n",
       "    }\n",
       "</style>\n",
       "<table border=\"1\" class=\"dataframe\">\n",
       "  <thead>\n",
       "    <tr style=\"text-align: right;\">\n",
       "      <th></th>\n",
       "      <th>brand</th>\n",
       "    </tr>\n",
       "  </thead>\n",
       "  <tbody>\n",
       "    <tr>\n",
       "      <th>TOYOTA</th>\n",
       "      <td>16124</td>\n",
       "    </tr>\n",
       "    <tr>\n",
       "      <th>MERCEDES</th>\n",
       "      <td>14591</td>\n",
       "    </tr>\n",
       "    <tr>\n",
       "      <th>BMW</th>\n",
       "      <td>13743</td>\n",
       "    </tr>\n",
       "    <tr>\n",
       "      <th>NISSAN</th>\n",
       "      <td>13463</td>\n",
       "    </tr>\n",
       "    <tr>\n",
       "      <th>VOLKSWAGEN</th>\n",
       "      <td>12864</td>\n",
       "    </tr>\n",
       "    <tr>\n",
       "      <th>AUDI</th>\n",
       "      <td>9983</td>\n",
       "    </tr>\n",
       "    <tr>\n",
       "      <th>MITSUBISHI</th>\n",
       "      <td>8280</td>\n",
       "    </tr>\n",
       "    <tr>\n",
       "      <th>SKODA</th>\n",
       "      <td>8241</td>\n",
       "    </tr>\n",
       "    <tr>\n",
       "      <th>HONDA</th>\n",
       "      <td>4330</td>\n",
       "    </tr>\n",
       "    <tr>\n",
       "      <th>VOLVO</th>\n",
       "      <td>3400</td>\n",
       "    </tr>\n",
       "    <tr>\n",
       "      <th>LEXUS</th>\n",
       "      <td>3275</td>\n",
       "    </tr>\n",
       "    <tr>\n",
       "      <th>INFINITI</th>\n",
       "      <td>1470</td>\n",
       "    </tr>\n",
       "  </tbody>\n",
       "</table>\n",
       "</div>"
      ],
      "text/plain": [
       "            brand\n",
       "TOYOTA      16124\n",
       "MERCEDES    14591\n",
       "BMW         13743\n",
       "NISSAN      13463\n",
       "VOLKSWAGEN  12864\n",
       "AUDI         9983\n",
       "MITSUBISHI   8280\n",
       "SKODA        8241\n",
       "HONDA        4330\n",
       "VOLVO        3400\n",
       "LEXUS        3275\n",
       "INFINITI     1470"
      ]
     },
     "execution_count": 24,
     "metadata": {},
     "output_type": "execute_result"
    }
   ],
   "source": [
    "data['brand'].value_counts().to_frame()"
   ]
  },
  {
   "cell_type": "code",
   "execution_count": 25,
   "metadata": {},
   "outputs": [
    {
     "data": {
      "text/plain": [
       "<AxesSubplot:xlabel='count', ylabel='brand'>"
      ]
     },
     "execution_count": 25,
     "metadata": {},
     "output_type": "execute_result"
    },
    {
     "data": {
      "image/png": "[encoded data removed]",
      "text/plain": [
       "<Figure size 432x288 with 1 Axes>"
      ]
     },
     "metadata": {},
     "output_type": "display_data"
    }
   ],
   "source": [
    "sns.countplot(data=data, y=\"brand\", palette=\"ch:.100\")"
   ]
  },
  {
   "cell_type": "code",
   "execution_count": 26,
   "metadata": {},
   "outputs": [
    {
     "data": {
      "text/plain": [
       "<seaborn.axisgrid.FacetGrid at 0x7f96f48b55b0>"
      ]
     },
     "execution_count": 26,
     "metadata": {},
     "output_type": "execute_result"
    },
    {
     "data": {
      "image/png": "[encoded data removed]",
      "text/plain": [
       "<Figure size 360x360 with 1 Axes>"
      ]
     },
     "metadata": {},
     "output_type": "display_data"
    }
   ],
   "source": [
    "'''Top 3 expensive car brands are Mercedes, BMW and Lexus'''\n",
    "sns.catplot(data=data, x=\"price\", y=\"brand\", kind=\"bar\")"
   ]
  },
  {
   "cell_type": "markdown",
   "metadata": {},
   "source": [
    "### color"
   ]
  },
  {
   "cell_type": "code",
   "execution_count": 27,
   "metadata": {},
   "outputs": [
    {
     "data": {
      "text/html": [
       "<div>\n",
       "<style scoped>\n",
       "    .dataframe tbody tr th:only-of-type {\n",
       "        vertical-align: middle;\n",
       "    }\n",
       "\n",
       "    .dataframe tbody tr th {\n",
       "        vertical-align: top;\n",
       "    }\n",
       "\n",
       "    .dataframe thead th {\n",
       "        text-align: right;\n",
       "    }\n",
       "</style>\n",
       "<table border=\"1\" class=\"dataframe\">\n",
       "  <thead>\n",
       "    <tr style=\"text-align: right;\">\n",
       "      <th></th>\n",
       "      <th>color</th>\n",
       "    </tr>\n",
       "  </thead>\n",
       "  <tbody>\n",
       "    <tr>\n",
       "      <th>чёрный</th>\n",
       "      <td>34600</td>\n",
       "    </tr>\n",
       "    <tr>\n",
       "      <th>белый</th>\n",
       "      <td>27212</td>\n",
       "    </tr>\n",
       "    <tr>\n",
       "      <th>серый</th>\n",
       "      <td>14656</td>\n",
       "    </tr>\n",
       "    <tr>\n",
       "      <th>синий</th>\n",
       "      <td>9717</td>\n",
       "    </tr>\n",
       "    <tr>\n",
       "      <th>серебристый</th>\n",
       "      <td>7966</td>\n",
       "    </tr>\n",
       "    <tr>\n",
       "      <th>красный</th>\n",
       "      <td>4786</td>\n",
       "    </tr>\n",
       "    <tr>\n",
       "      <th>коричневый</th>\n",
       "      <td>3801</td>\n",
       "    </tr>\n",
       "    <tr>\n",
       "      <th>бежевый</th>\n",
       "      <td>2443</td>\n",
       "    </tr>\n",
       "    <tr>\n",
       "      <th>зелёный</th>\n",
       "      <td>2026</td>\n",
       "    </tr>\n",
       "    <tr>\n",
       "      <th>голубой</th>\n",
       "      <td>1241</td>\n",
       "    </tr>\n",
       "    <tr>\n",
       "      <th>пурпурный</th>\n",
       "      <td>346</td>\n",
       "    </tr>\n",
       "    <tr>\n",
       "      <th>оранжевый</th>\n",
       "      <td>317</td>\n",
       "    </tr>\n",
       "    <tr>\n",
       "      <th>фиолетовый</th>\n",
       "      <td>260</td>\n",
       "    </tr>\n",
       "    <tr>\n",
       "      <th>жёлтый</th>\n",
       "      <td>192</td>\n",
       "    </tr>\n",
       "    <tr>\n",
       "      <th>золотистый</th>\n",
       "      <td>188</td>\n",
       "    </tr>\n",
       "    <tr>\n",
       "      <th>розовый</th>\n",
       "      <td>13</td>\n",
       "    </tr>\n",
       "  </tbody>\n",
       "</table>\n",
       "</div>"
      ],
      "text/plain": [
       "             color\n",
       "чёрный       34600\n",
       "белый        27212\n",
       "серый        14656\n",
       "синий         9717\n",
       "серебристый   7966\n",
       "красный       4786\n",
       "коричневый    3801\n",
       "бежевый       2443\n",
       "зелёный       2026\n",
       "голубой       1241\n",
       "пурпурный      346\n",
       "оранжевый      317\n",
       "фиолетовый     260\n",
       "жёлтый         192\n",
       "золотистый     188\n",
       "розовый         13"
      ]
     },
     "execution_count": 27,
     "metadata": {},
     "output_type": "execute_result"
    }
   ],
   "source": [
    "data['color'].value_counts().to_frame()"
   ]
  },
  {
   "cell_type": "code",
   "execution_count": 28,
   "metadata": {},
   "outputs": [
    {
     "data": {
      "text/plain": [
       "<AxesSubplot:xlabel='count', ylabel='color'>"
      ]
     },
     "execution_count": 28,
     "metadata": {},
     "output_type": "execute_result"
    },
    {
     "data": {
      "image/png": "[encoded data removed]",
      "text/plain": [
       "<Figure size 432x288 with 1 Axes>"
      ]
     },
     "metadata": {},
     "output_type": "display_data"
    }
   ],
   "source": [
    "'''Most popular colors are black and white'''\n",
    "sns.countplot(data=data, y=\"color\", palette=\"ch:.100\")"
   ]
  },
  {
   "cell_type": "markdown",
   "metadata": {},
   "source": [
    "### fuel_type"
   ]
  },
  {
   "cell_type": "code",
   "execution_count": 29,
   "metadata": {},
   "outputs": [
    {
     "data": {
      "text/html": [
       "<div>\n",
       "<style scoped>\n",
       "    .dataframe tbody tr th:only-of-type {\n",
       "        vertical-align: middle;\n",
       "    }\n",
       "\n",
       "    .dataframe tbody tr th {\n",
       "        vertical-align: top;\n",
       "    }\n",
       "\n",
       "    .dataframe thead th {\n",
       "        text-align: right;\n",
       "    }\n",
       "</style>\n",
       "<table border=\"1\" class=\"dataframe\">\n",
       "  <thead>\n",
       "    <tr style=\"text-align: right;\">\n",
       "      <th></th>\n",
       "      <th>fuel_type</th>\n",
       "    </tr>\n",
       "  </thead>\n",
       "  <tbody>\n",
       "    <tr>\n",
       "      <th>бензин</th>\n",
       "      <td>83931</td>\n",
       "    </tr>\n",
       "    <tr>\n",
       "      <th>дизель</th>\n",
       "      <td>24748</td>\n",
       "    </tr>\n",
       "    <tr>\n",
       "      <th>гибрид</th>\n",
       "      <td>985</td>\n",
       "    </tr>\n",
       "    <tr>\n",
       "      <th>электро</th>\n",
       "      <td>99</td>\n",
       "    </tr>\n",
       "    <tr>\n",
       "      <th>газ</th>\n",
       "      <td>1</td>\n",
       "    </tr>\n",
       "  </tbody>\n",
       "</table>\n",
       "</div>"
      ],
      "text/plain": [
       "         fuel_type\n",
       "бензин       83931\n",
       "дизель       24748\n",
       "гибрид         985\n",
       "электро         99\n",
       "газ              1"
      ]
     },
     "execution_count": 29,
     "metadata": {},
     "output_type": "execute_result"
    }
   ],
   "source": [
    "counts_df = data['fuel_type'].value_counts().to_frame()\n",
    "counts_df"
   ]
  },
  {
   "cell_type": "code",
   "execution_count": 30,
   "metadata": {},
   "outputs": [],
   "source": [
    "'''Let's replace unpopular fuel types in df (in comparison with other types) on 'other' type'''\n",
    "unpopular_types = list(counts_df.loc[counts_df['fuel_type'] < 1000].index)\n",
    "data['fuel_type'] = ['other' if i in unpopular_types else i for i in data['fuel_type'].tolist()]"
   ]
  },
  {
   "cell_type": "code",
   "execution_count": 31,
   "metadata": {},
   "outputs": [
    {
     "data": {
      "text/plain": [
       "бензин    83931\n",
       "дизель    24748\n",
       "other      1085\n",
       "Name: fuel_type, dtype: int64"
      ]
     },
     "execution_count": 31,
     "metadata": {},
     "output_type": "execute_result"
    }
   ],
   "source": [
    "data['fuel_type'].value_counts()"
   ]
  },
  {
   "cell_type": "code",
   "execution_count": 32,
   "metadata": {},
   "outputs": [
    {
     "data": {
      "text/plain": [
       "<AxesSubplot:xlabel='count', ylabel='fuel_type'>"
      ]
     },
     "execution_count": 32,
     "metadata": {},
     "output_type": "execute_result"
    },
    {
     "data": {
      "image/png": "[encoded data removed]",
      "text/plain": [
       "<Figure size 432x288 with 1 Axes>"
      ]
     },
     "metadata": {},
     "output_type": "display_data"
    }
   ],
   "source": [
    "'''Most popular fuel type is gasoline'''\n",
    "sns.countplot(data=data, y=\"fuel_type\", palette=\"ch:.100\")"
   ]
  },
  {
   "cell_type": "code",
   "execution_count": 33,
   "metadata": {},
   "outputs": [
    {
     "data": {
      "text/plain": [
       "<seaborn.axisgrid.FacetGrid at 0x7f96cc2889d0>"
      ]
     },
     "execution_count": 33,
     "metadata": {},
     "output_type": "execute_result"
    },
    {
     "data": {
      "image/png": "[encoded data removed]",
      "text/plain": [
       "<Figure size 360x360 with 1 Axes>"
      ]
     },
     "metadata": {},
     "output_type": "display_data"
    }
   ],
   "source": [
    "'''But more expensive cars with diesel fuel type'''\n",
    "sns.catplot(data=data, x=\"price\", y=\"fuel_type\", kind=\"bar\")"
   ]
  },
  {
   "cell_type": "markdown",
   "metadata": {},
   "source": [
    "### model_name"
   ]
  },
  {
   "cell_type": "code",
   "execution_count": 34,
   "metadata": {},
   "outputs": [
    {
     "data": {
      "text/html": [
       "<div>\n",
       "<style scoped>\n",
       "    .dataframe tbody tr th:only-of-type {\n",
       "        vertical-align: middle;\n",
       "    }\n",
       "\n",
       "    .dataframe tbody tr th {\n",
       "        vertical-align: top;\n",
       "    }\n",
       "\n",
       "    .dataframe thead th {\n",
       "        text-align: right;\n",
       "    }\n",
       "</style>\n",
       "<table border=\"1\" class=\"dataframe\">\n",
       "  <thead>\n",
       "    <tr style=\"text-align: right;\">\n",
       "      <th></th>\n",
       "      <th>model_name</th>\n",
       "    </tr>\n",
       "  </thead>\n",
       "  <tbody>\n",
       "    <tr>\n",
       "      <th>Tiguan</th>\n",
       "      <td>4162</td>\n",
       "    </tr>\n",
       "    <tr>\n",
       "      <th>X-Trail</th>\n",
       "      <td>3583</td>\n",
       "    </tr>\n",
       "    <tr>\n",
       "      <th>Touareg</th>\n",
       "      <td>2851</td>\n",
       "    </tr>\n",
       "    <tr>\n",
       "      <th>Camry</th>\n",
       "      <td>2767</td>\n",
       "    </tr>\n",
       "    <tr>\n",
       "      <th>Land Cruiser</th>\n",
       "      <td>2405</td>\n",
       "    </tr>\n",
       "    <tr>\n",
       "      <th>...</th>\n",
       "      <td>...</td>\n",
       "    </tr>\n",
       "    <tr>\n",
       "      <th>I</th>\n",
       "      <td>1</td>\n",
       "    </tr>\n",
       "    <tr>\n",
       "      <th>Succeed</th>\n",
       "      <td>1</td>\n",
       "    </tr>\n",
       "    <tr>\n",
       "      <th>Sprinter Carib</th>\n",
       "      <td>1</td>\n",
       "    </tr>\n",
       "    <tr>\n",
       "      <th>Carina ED</th>\n",
       "      <td>1</td>\n",
       "    </tr>\n",
       "    <tr>\n",
       "      <th>L400</th>\n",
       "      <td>1</td>\n",
       "    </tr>\n",
       "  </tbody>\n",
       "</table>\n",
       "<p>504 rows × 1 columns</p>\n",
       "</div>"
      ],
      "text/plain": [
       "                model_name\n",
       "Tiguan                4162\n",
       "X-Trail               3583\n",
       "Touareg               2851\n",
       "Camry                 2767\n",
       "Land Cruiser          2405\n",
       "...                    ...\n",
       "I                        1\n",
       "Succeed                  1\n",
       "Sprinter Carib           1\n",
       "Carina ED                1\n",
       "L400                     1\n",
       "\n",
       "[504 rows x 1 columns]"
      ]
     },
     "execution_count": 34,
     "metadata": {},
     "output_type": "execute_result"
    }
   ],
   "source": [
    "data['model_name'].value_counts().to_frame()"
   ]
  },
  {
   "cell_type": "code",
   "execution_count": 35,
   "metadata": {},
   "outputs": [
    {
     "data": {
      "text/plain": [
       "21152"
      ]
     },
     "execution_count": 35,
     "metadata": {},
     "output_type": "execute_result"
    }
   ],
   "source": [
    "'''There are a lot of missing values in this feature, so it's a good idea to remove it. But for now, I won't do it'''\n",
    "data['model_name'].isna().sum()"
   ]
  },
  {
   "cell_type": "markdown",
   "metadata": {},
   "source": [
    "### name"
   ]
  },
  {
   "cell_type": "code",
   "execution_count": 36,
   "metadata": {},
   "outputs": [
    {
     "data": {
      "text/plain": [
       "0                        Skoda Octavia III (A7)\n",
       "1                                Skoda Rapid II\n",
       "2                                Skoda Rapid II\n",
       "3             Skoda Octavia III (A7) Рестайлинг\n",
       "4                                 Skoda Karoq I\n",
       "                          ...                  \n",
       "109759                      Mitsubishi Lancer X\n",
       "109760      Mitsubishi Outlander III Рестайлинг\n",
       "109761    Mitsubishi Outlander III Рестайлинг 3\n",
       "109762       Mitsubishi Outlander II Рестайлинг\n",
       "109763           Mitsubishi Lancer X Рестайлинг\n",
       "Name: name, Length: 109764, dtype: object"
      ]
     },
     "execution_count": 36,
     "metadata": {},
     "output_type": "execute_result"
    }
   ],
   "source": [
    "'''This feature contains information about brand, model and something else.\n",
    "Let's try to extract car model from this feature. I parsed car models manually and keep them in brand_dict.\n",
    "I'm fixing the car model if model from brand_dict contains in the feature name'''\n",
    "data['name']"
   ]
  },
  {
   "cell_type": "code",
   "execution_count": 37,
   "metadata": {},
   "outputs": [],
   "source": [
    "brand_dict = {\n",
    "    'skoda': ['Citigo', 'Rapid', 'Octavia', 'Fabia', 'Superb', 'Kodiaq', 'Karoq', 'Scala', 'Kamiq', 'Enyaq', 'Kushaq', 'Slavia', 'Yeti', 'Felicia',\n",
    "             'Roomster', 'Favorit', '105'],\n",
    "    \n",
    "    'audi': ['A1', 'A2', 'A3', 'A4', 'A5', 'A6', 'A7', 'A8', 'Cabriolet', 'TT', 'Coupe', 'Roadster', 'Q2', 'Q3', 'Q5', 'Q7', 'R8', 'e-tron', 'R8', \n",
    "             'Sportback', 'S1', 'S2', 'S3', 'S4', 'S5', 'S6', 'S7', 'S8', 'SQ2', 'SQ5', 'SQ7', 'TTS', '100', '200', '80', '90', 'e', 'q8', 'rs', 'sq8', 'v8'],\n",
    "    \n",
    "    'honda': ['Accord', 'Avancier', 'City', 'Civic', 'Concerto', 'CR-V', 'CR-X', 'CR-Z', 'Crossroad', 'Crosstour', 'Element', 'Elevate', 'Elysion', \n",
    "              'Clarity', 'Fit', 'FR-V', 'Freed', 'Grace', 'HR-V', 'Integra', 'S660', 'Vigor', 'Insight', 'Insight', 'Jazz', 'Legend', 'Logo', 'Slash', \n",
    "              'N-ONE', 'N-WGN', 'NSX', 'Odyssey', 'Orthia', 'Pilot', 'Prelude', 'Rafaga', 'Ridgeline', 'S-MX', 'S2000', 'Shirui', 'Shuttle', 'Stream',\n",
    "              'Torneo', 'Zest', 'ZR-V', 'stepwgn', 'acty', 'airwave', 'ascot', 'capa', 'cr', 'domani', 'edix', 'fr', 'hr', 'inspire', 'jade', 'life', \n",
    "              'mobilio', 'n', 'partner', 's', 'saber', 'stepwgn', 'today', 'vamos', 'vezel', 'z'],\n",
    "    \n",
    "    'volvo': ['66', '140', '200', '300', '460', '480', '700', '850', '900', '940', '960', 'Amazon', 'Brage', 'C30', 'C70', 'C202', 'EX30', 'EX90', 'F4', \n",
    "              'F10', 'F85', 'F88', 'FE', 'FH', 'FL', 'FM', 'FMX', 'L340', 'Longnose', 'LV4', 'LV60', 'LV66', 'LV71', 'LV76', 'LV81', 'LV120', 'PV4', \n",
    "              'P1800', 'P1900', 'Carioca', 'PV444', 'S40', 'S60', 'S70', 'S80', 'S90', 'Sharpnose', 'Snabbe', 'T6', 'Titan', 'V60', 'Viking', 'VM', 'VN', \n",
    "              'VHD', 'VT', 'XC40', 'XC60', 'V70', 'XC90', '240', '440', '740', '760', 'v40', 'v50', 'v90', 'xc70'],\n",
    "    \n",
    "    'bmw': ['328', '501', '503', '507', '700', '3200', 'ActiveHybrid', 'E3', 'E9', 'E12', 'E21', 'E23', 'E24', 'E28', 'E30', 'E31', 'E32', 'E34', 'E34', \n",
    "            'E36', 'E38', 'E39', 'E46', 'E60', 'E65', 'E87', 'E90', 'E92', 'F01', 'F10', 'F22', 'F23', 'F26', 'F30', 'F34', 'F82', 'G02', 'G11', 'G15', \n",
    "            'G20', 'G30', 'G60', 'G70', 'G82', 'GINA', 'Hydrogen', 'Vision', 'i3', 'i7', 'i8', 'Isetta', 'iX', 'M1', 'M3', 'M5', 'M6', 'Klasse', 'X', \n",
    "            'X1', 'X2', 'X3', 'X4', 'X5', 'X6', 'X7', 'XM', 'Z', 'Z1', 'Z4', 'Z8', 'm2', 'm8', 'z3', '320d', 'gran', '330i', '645i', 'f87', '318i', \n",
    "            '640d', '640i','116d', '116i', '118i', '120d', '135i', '316d', '316i', '318d', '320i', '328i', '330d', '335i', '420d', '420i', '428i', \n",
    "            '430i', '435i', '630i', '650i', 'active', 'm340i'],\n",
    "    \n",
    "    'nissan': ['180SX', '300ZX', '350Z', '370Z', 'Almera', 'Hybrid', 'Armada', 'Atlas', 'Atleon', 'Avenir', 'Thumb', 'Bluebird', 'Sylphy', 'C80', 'Caball', \n",
    "               'Caravan', 'Elgrand', 'Cedric', 'Cefiro', 'Condor', 'Cube', 'Cherry', 'DeltaWing', 'Z', 'Figaro', 'Fuga', 'Gloria', 'GT-R', 'Nismo', 'Truck', \n",
    "               'II', 'Juke', 'Kicks', 'Laurel', 'Spirit', 'LEAF', 'Leopard', 'Liberty', 'Livina', 'Logan', 'Magnite', 'Maxima', 'Micra', 'Mixim', 'Murano', \n",
    "               'Navara', 'NP300', 'NT400', 'NT500', 'NV200', 'NV250', 'NV400', 'III', 'Pao', 'Pathfinder', 'Patrol', 'Pintara', 'Pivo', 'A-Star', 'Presage', \n",
    "               'President', 'Primera', 'Homer', 'Royal', 'Pulsar', 'GTI-R', 'Qashqai', 'Quest', 'Quon', 'R’nessa', 'Rasheen', 'Project', 'S30', 'Sakura', \n",
    "               'Sentra', 'Serena', 'Silvia', 'Skyline', 'Stagea', 'Stanza', 'Sunny', 'Wagon', 'Teana', 'Terrano', 'Tiida', 'Titan', 'Townstar', 'Trade', \n",
    "               'Truck', 'Vanette', 'Wingroad', 'X-Trail', 'Xterra', 'bassara', 'dayz', 'dualis', 'expert', 'gt', 'kix', 'march', 'note', 'nv100', \n",
    "               'qashqai2', 'rnessa', 'tino', 'x'],\n",
    "    \n",
    "    'infiniti': ['Q50', 'Q60', 'Q70', 'QX30', 'QX50 ', 'QX60', 'QX80', 'M30', 'M45', 'G20', 'J30', 'QX4', 'I', 'Q45', 'FX35', 'QX56', 'QX70', 'G25', \n",
    "                 'G35', 'G37', 'fx', 'jx', 'm', 'q30', 'qx50', 'qx55'],\n",
    "    \n",
    "    'mercedes': ['300SL', '500K', '770', 'R129', 'A-класс', 'GT', 'Atron', 'B-класс', 'Patent-Motorwagen', 'C-класс', 'C111', 'C215', 'C218', 'w188',\n",
    "                 'C219', 'C112', 'C117', 'C257', 'Citan', 'CL-класс', 'CLA-класс', 'CLC-класс', 'GTR', 'CLS-класс', 'E-класс', 'SUV', 'F-Cell', 'G-класс', \n",
    "                 'G4', 'GLB-класс', 'GLE-класс', 'GLK-класс', 'GLS-класс', 'MB100', 'D', 'SLR', '6.3', '6.9', 'AMG', 'V167', 'X167', 'L206', 'E7.4RS', \n",
    "                 'TN', 'Vaneo', 'W108', 'W111', 'W112', 'W180', 'R171', 'R-класс', 'ONE', 'R107', 'C107', 'R170', 'R172', 'R230', 'R231', 'S', 'S-класс', \n",
    "                 'McLaren', 'SL-класс', 'AMG', 'SLC-класс', 'SLK-класс', 'AMG', 'Sprinter', 'T80', 'Т-класс', 'Transporter', '300', 'b', 'cl', 'w128',\n",
    "                 'V-класс', 'W21', 'W212', 'CLK-класс', 'W100', 'W109', 'W110', 'W113', 'W114', 'W115', 'W116', '190SL', 'W120', 'W123', 'W124', 'eqc',\n",
    "                 'Rekordwagen', 'W126', 'W136', 'W140', 'W143', 'W163', 'W164', 'W166', 'W177', 'W194', 'W198', 'W201', 'W202', 'W203', 'W204', 'cl',\n",
    "                 'W205', 'W208', 'W209', 'W210', 'W211', 'W213', 'W214', 'W220', 'W221', 'W222', 'W223', 'W245', 'W246', 'W251', 'W460', 'W463', 'glb', \n",
    "                 'Vito', 'W901', 'W906', 'W907', 'X-класс', 'GLA-класс', 'X164', 'X166', 'maybach', 'glc', 'gla', 'gle', 'glk', 'viano', 'clc', 'cla', 'a',\n",
    "                 'w638'],\n",
    "    \n",
    "    'toyota': ['4Runner', '2000GT', 'AA', 'AE86', 'Agya', 'Allion', 'Alphard', 'Aqua', 'Aurion', 'Auris', 'Avalon', 'Avensis', 'Aygo', 'X', 'bB', \n",
    "               'Belta', 'Brevis', 'bZ3', 'Caldina', 'Camry', 'Solara', 'Carina', 'ED', 'Celica', 'Camry', 'GT-Four', 'Century', 'CH-R', 'Chaser', 'Corolla', \n",
    "               'E140', 'E170', 'Cross', 'Spacio', 'Corona', 'Cressida', 'Cresta', 'Crown', 'Majesta', 'Curren', 'Cynos', 'Duet', 'Dyna', 'eCom', 'Fine-N', \n",
    "               'Fine-X', 'Cruiser', 'Fortuner', 'FT-HS', 'Gaia', 'Highlander', 'Harrier', 'Hiace', 'Highlander', 'Hilux', 'X', 'Ipsum', 'iQ', 'Isis', 'iX4', \n",
    "               'Cruiser', 'Prado', 'LiteAce', 'II', 'Qualis', 'X', 'Matrix', 'Mirai', 'MR2', 'Nadia', 'Noah', 'Opa', 'Passo', 'Picnic', 'Epoch', 'Space', 'PM', \n",
    "               'Porte', 'Premio', 'Previa', 'Prius','PHV', 'α', 'ProAce', 'Probox', 'Progres', 'Publica', 'Ractis', 'Raum', 'RAV4', 'EV', 'Rush', 'SA', \n",
    "               'SAI', 'Sequoia', 'Sienna', 'Soarer', '800', 'Sprinter', 'Marino', 'Stout', 'Succeed', 'Supra', 'Tacoma', 'Tercel', 'Ace', 'Toyoace', \n",
    "               'Avanza', 'Hybrid', 'Cross', 'Hybrid', 'Tundra', 'Cruiser', 'Venza', 'Verossa', 'Vista', 'V20', 'Wish', 'Yaris', 'allex', 'c', \n",
    "               'cavalier', 'esquire', 'estima', 'funcargo', 'platz', 'regius', 'sienta', 'spade', 'starlet', 'verso', 'vitz', 'voxy', 'windom'],\n",
    "    \n",
    "    'lexus': ['ES', 'LS', 'LX', 'GX', 'NX', 'RX', 'UX', 'ct', 'gs', 'hs', 'is', 'lc', 'rc', 'sc'], \n",
    "\n",
    "    'volkswagen': ['Golf', 'CrossFox', 'Eos', 'GLI', 'Gol', 'Golf', 'GTI', 'Jetta', 'Wagon', 'Beetle', 'Passat', 'CC', 'Routan', 'SportVan', 'Tiguan', \n",
    "                   'Touareg', 'Caddy', 'Fox', 'Gol', 'GTI', 'Parati', 'Polo', 'Saveiro','amarok', 'arteon', 'bora', 'california', 'caravelle', \n",
    "                   'multivan', 'phaeton', 'pointer', 'scirocco', 'sharan', 'taos', 'teramont', 'touran', 'transporter', 'type'],\n",
    "    \n",
    "    'mitsubishi': ['ASX', 'Attrage', 'Carisma', 'Delica', 'Diamante', 'Dingo', 'Dion', 'E-More', 'Eclipse', 'Endeavor', 'Eupheme', 'EV', 'Galant', 'Lambda', \n",
    "                   'Jingang', 'Jeep', 'L200', 'Lancer', 'Evolution', 'Minica', 'Mirage', '500', 'Cross', 'Canter', 'Fighter', 'Rosa', 'Great', 'HSR', 'Magna', \n",
    "                   'Minicab', 'Raider', 'Outlander', 'Pajero', 'Mini', 'Sport', 'Runner', 'Star', 'Starion', 'Box', 'Tredia', '73', 'Harrier', 'Hiace', \n",
    "                   'Highlander', 'Hilux', 'X', 'Ipsum', 'iQ', 'Isis', 'iX4', 'Cruiser', 'Prado', 'LiteAce', 'II', 'Qualis', 'X', 'Matrix', 'Mirai', 'MR2', 'Nadia',  \n",
    "                   'Opa', 'Passo', 'Picnic', 'Epoch', 'Space', 'PM', 'Porte', 'Premio', 'Previa', 'Prius', 'PHV', 'ProAce', 'Probox', 'Progres', 'Publica', \n",
    "                   'Ractis', 'Raum', 'RAV4', 'EV', 'Rush', 'SA', 'SAI', 'Sequoia', 'Sienna', 'Soarer', '800', 'Sprinter', 'Marino', 'Stout', 'Succeed', 'Supra', \n",
    "                   'Tacoma', 'Tercel', 'Ace', 'Toyoace', 'Avanza', 'Hybrid', 'Cross', 'Hybrid', 'Tundra', 'Cruiser', 'Venza', 'Verossa', 'Vista', 'V20', \n",
    "                   'Wish', 'Yaris', 'Noah', '3000', 'airtrek', 'challenger', 'chariot', 'colt', 'ek', 'eterna', 'fto', 'grandis', 'i', 'l400', 'legnum', \n",
    "                   'libero', 'montero', 'rvr', 'toppo']\n",
    "}"
   ]
  },
  {
   "cell_type": "code",
   "execution_count": 38,
   "metadata": {},
   "outputs": [],
   "source": [
    "norm_name_list = [norm_string(s).split(' ') for s in data['name'].tolist()]\n",
    "model_list = []\n",
    "none_list = []\n",
    "\n",
    "for s, norm_name in enumerate(norm_name_list):\n",
    "    brand = norm_string(data['brand'][s])\n",
    "    brand_model_list = brand_dict.get(brand)\n",
    "\n",
    "    model = [a for a in brand_model_list if norm_string(a) in norm_name]\n",
    "    \n",
    "    if model:\n",
    "        model_list.append(model[0])\n",
    "\n",
    "    else:\n",
    "        model_list.append(None)\n",
    "        none_list.append(norm_name)"
   ]
  },
  {
   "cell_type": "code",
   "execution_count": 39,
   "metadata": {},
   "outputs": [
    {
     "name": "stdout",
     "output_type": "stream",
     "text": [
      "1 [['mercedes', 'benz', 'r', 'класс', '350', 'long', 'i']]\n"
     ]
    }
   ],
   "source": [
    "print(len(none_list), none_list)"
   ]
  },
  {
   "cell_type": "code",
   "execution_count": 40,
   "metadata": {},
   "outputs": [
    {
     "data": {
      "text/plain": [
       "0"
      ]
     },
     "execution_count": 40,
     "metadata": {},
     "output_type": "execute_result"
    }
   ],
   "source": [
    "'''Let's replace missing values in model_name feature by extracted values from name feature'''\n",
    "data['model_name'] = [i if str(i) != 'nan' else model_list[s] for s, i in enumerate(data['model_name'].tolist())]\n",
    "data['model_name'] = data['model_name'].apply(lambda x: norm_string(x))\n",
    "data['model_name'].isna().sum()"
   ]
  },
  {
   "cell_type": "code",
   "execution_count": 41,
   "metadata": {},
   "outputs": [
    {
     "data": {
      "text/html": [
       "<div>\n",
       "<style scoped>\n",
       "    .dataframe tbody tr th:only-of-type {\n",
       "        vertical-align: middle;\n",
       "    }\n",
       "\n",
       "    .dataframe tbody tr th {\n",
       "        vertical-align: top;\n",
       "    }\n",
       "\n",
       "    .dataframe thead th {\n",
       "        text-align: right;\n",
       "    }\n",
       "</style>\n",
       "<table border=\"1\" class=\"dataframe\">\n",
       "  <thead>\n",
       "    <tr style=\"text-align: right;\">\n",
       "      <th></th>\n",
       "      <th>model_name</th>\n",
       "    </tr>\n",
       "  </thead>\n",
       "  <tbody>\n",
       "    <tr>\n",
       "      <th>tiguan</th>\n",
       "      <td>4710</td>\n",
       "    </tr>\n",
       "    <tr>\n",
       "      <th>a6</th>\n",
       "      <td>3636</td>\n",
       "    </tr>\n",
       "    <tr>\n",
       "      <th>x trail</th>\n",
       "      <td>3583</td>\n",
       "    </tr>\n",
       "    <tr>\n",
       "      <th>camry</th>\n",
       "      <td>3372</td>\n",
       "    </tr>\n",
       "    <tr>\n",
       "      <th>outlander</th>\n",
       "      <td>3217</td>\n",
       "    </tr>\n",
       "    <tr>\n",
       "      <th>...</th>\n",
       "      <td>...</td>\n",
       "    </tr>\n",
       "    <tr>\n",
       "      <th>esquire</th>\n",
       "      <td>1</td>\n",
       "    </tr>\n",
       "    <tr>\n",
       "      <th>bassara</th>\n",
       "      <td>1</td>\n",
       "    </tr>\n",
       "    <tr>\n",
       "      <th>vellfire</th>\n",
       "      <td>1</td>\n",
       "    </tr>\n",
       "    <tr>\n",
       "      <th>edix</th>\n",
       "      <td>1</td>\n",
       "    </tr>\n",
       "    <tr>\n",
       "      <th>l400</th>\n",
       "      <td>1</td>\n",
       "    </tr>\n",
       "  </tbody>\n",
       "</table>\n",
       "<p>535 rows × 1 columns</p>\n",
       "</div>"
      ],
      "text/plain": [
       "           model_name\n",
       "tiguan           4710\n",
       "a6               3636\n",
       "x trail          3583\n",
       "camry            3372\n",
       "outlander        3217\n",
       "...               ...\n",
       "esquire             1\n",
       "bassara             1\n",
       "vellfire            1\n",
       "edix                1\n",
       "l400                1\n",
       "\n",
       "[535 rows x 1 columns]"
      ]
     },
     "execution_count": 41,
     "metadata": {},
     "output_type": "execute_result"
    }
   ],
   "source": [
    "data['model_name'].value_counts().to_frame()"
   ]
  },
  {
   "cell_type": "code",
   "execution_count": 42,
   "metadata": {},
   "outputs": [],
   "source": [
    "'''Let's remove name feature'''\n",
    "data = data.drop(columns=['name'])"
   ]
  },
  {
   "cell_type": "markdown",
   "metadata": {},
   "source": [
    "### engine_power"
   ]
  },
  {
   "cell_type": "code",
   "execution_count": 43,
   "metadata": {},
   "outputs": [
    {
     "data": {
      "text/plain": [
       "0    180 N12\n",
       "1    110 N12\n",
       "2     90 N12\n",
       "3    150 N12\n",
       "4    150 N12\n",
       "Name: engine_power, dtype: object"
      ]
     },
     "execution_count": 43,
     "metadata": {},
     "output_type": "execute_result"
    }
   ],
   "source": [
    "data['engine_power'].head()"
   ]
  },
  {
   "cell_type": "code",
   "execution_count": 44,
   "metadata": {},
   "outputs": [
    {
     "data": {
      "text/plain": [
       "{'N12'}"
      ]
     },
     "execution_count": 44,
     "metadata": {},
     "output_type": "execute_result"
    }
   ],
   "source": [
    "'''Let's check idea that N12 is static for every value. Yes, it's true'''\n",
    "set([i.split(' ')[1] for i in data['engine_power'].tolist()])"
   ]
  },
  {
   "cell_type": "code",
   "execution_count": 45,
   "metadata": {},
   "outputs": [],
   "source": [
    "'''Let's remove static part with N12 in every value of feature'''\n",
    "data['engine_power'] = [i.split(' ')[0] for i in data['engine_power'].tolist()]\n",
    "data['engine_power'] = data['engine_power'].astype(int)"
   ]
  },
  {
   "cell_type": "code",
   "execution_count": 46,
   "metadata": {},
   "outputs": [
    {
     "name": "stdout",
     "output_type": "stream",
     "text": [
      "Min value: 41\n",
      "Max value: 646\n",
      "Unique values qty: 302\n"
     ]
    },
    {
     "data": {
      "text/html": [
       "<div>\n",
       "<style scoped>\n",
       "    .dataframe tbody tr th:only-of-type {\n",
       "        vertical-align: middle;\n",
       "    }\n",
       "\n",
       "    .dataframe tbody tr th {\n",
       "        vertical-align: top;\n",
       "    }\n",
       "\n",
       "    .dataframe thead th {\n",
       "        text-align: right;\n",
       "    }\n",
       "</style>\n",
       "<table border=\"1\" class=\"dataframe\">\n",
       "  <thead>\n",
       "    <tr style=\"text-align: right;\">\n",
       "      <th></th>\n",
       "      <th>engine_power</th>\n",
       "    </tr>\n",
       "  </thead>\n",
       "  <tbody>\n",
       "    <tr>\n",
       "      <th>249</th>\n",
       "      <td>12225</td>\n",
       "    </tr>\n",
       "    <tr>\n",
       "      <th>150</th>\n",
       "      <td>8351</td>\n",
       "    </tr>\n",
       "    <tr>\n",
       "      <th>190</th>\n",
       "      <td>6291</td>\n",
       "    </tr>\n",
       "    <tr>\n",
       "      <th>181</th>\n",
       "      <td>3121</td>\n",
       "    </tr>\n",
       "    <tr>\n",
       "      <th>110</th>\n",
       "      <td>3041</td>\n",
       "    </tr>\n",
       "    <tr>\n",
       "      <th>144</th>\n",
       "      <td>2882</td>\n",
       "    </tr>\n",
       "    <tr>\n",
       "      <th>171</th>\n",
       "      <td>2787</td>\n",
       "    </tr>\n",
       "    <tr>\n",
       "      <th>170</th>\n",
       "      <td>2771</td>\n",
       "    </tr>\n",
       "    <tr>\n",
       "      <th>180</th>\n",
       "      <td>2618</td>\n",
       "    </tr>\n",
       "    <tr>\n",
       "      <th>146</th>\n",
       "      <td>2205</td>\n",
       "    </tr>\n",
       "    <tr>\n",
       "      <th>340</th>\n",
       "      <td>2085</td>\n",
       "    </tr>\n",
       "    <tr>\n",
       "      <th>333</th>\n",
       "      <td>1932</td>\n",
       "    </tr>\n",
       "    <tr>\n",
       "      <th>90</th>\n",
       "      <td>1808</td>\n",
       "    </tr>\n",
       "    <tr>\n",
       "      <th>245</th>\n",
       "      <td>1751</td>\n",
       "    </tr>\n",
       "    <tr>\n",
       "      <th>105</th>\n",
       "      <td>1736</td>\n",
       "    </tr>\n",
       "  </tbody>\n",
       "</table>\n",
       "</div>"
      ],
      "text/plain": [
       "     engine_power\n",
       "249         12225\n",
       "150          8351\n",
       "190          6291\n",
       "181          3121\n",
       "110          3041\n",
       "144          2882\n",
       "171          2787\n",
       "170          2771\n",
       "180          2618\n",
       "146          2205\n",
       "340          2085\n",
       "333          1932\n",
       "90           1808\n",
       "245          1751\n",
       "105          1736"
      ]
     },
     "execution_count": 46,
     "metadata": {},
     "output_type": "execute_result"
    }
   ],
   "source": [
    "'''Ok, this categorical feature contains 302 unique values, it's so much for the next operations with ML'''\n",
    "print('Min value:', data['engine_power'].min())\n",
    "print('Max value:', data['engine_power'].max())\n",
    "print('Unique values qty:', data['engine_power'].value_counts().shape[0])\n",
    "\n",
    "data['engine_power'].value_counts().to_frame().head(15)"
   ]
  },
  {
   "cell_type": "code",
   "execution_count": 50,
   "metadata": {},
   "outputs": [
    {
     "data": {
      "text/plain": [
       "<AxesSubplot:xlabel='engine_power', ylabel='Count'>"
      ]
     },
     "execution_count": 50,
     "metadata": {},
     "output_type": "execute_result"
    },
    {
     "data": {
      "image/png": "[encoded data removed]",
      "text/plain": [
       "<Figure size 432x288 with 1 Axes>"
      ]
     },
     "metadata": {},
     "output_type": "display_data"
    }
   ],
   "source": [
    "'''Most cars with engine power ~ 250 and ~150'''\n",
    "sns.histplot(data=data, x=\"engine_power\")"
   ]
  },
  {
   "cell_type": "code",
   "execution_count": 48,
   "metadata": {},
   "outputs": [
    {
     "data": {
      "image/png": "[encoded data removed]",
      "text/plain": [
       "<Figure size 432x288 with 1 Axes>"
      ]
     },
     "metadata": {},
     "output_type": "display_data"
    },
    {
     "data": {
      "image/png": "[encoded data removed]",
      "text/plain": [
       "<Figure size 432x288 with 1 Axes>"
      ]
     },
     "metadata": {},
     "output_type": "display_data"
    }
   ],
   "source": [
    "show_hist_boxplot(data['engine_power'])"
   ]
  },
  {
   "cell_type": "code",
   "execution_count": 56,
   "metadata": {},
   "outputs": [],
   "source": [
    "'''Let's bucketize this numerical feature for 6 classes. \n",
    "Since the distribution of the feature is uneven, I use buckets with quantile boundaries'''\n",
    "data['engine_power'] = pd.qcut(data['engine_power'], q=6)\n",
    "data['engine_power'].value_counts()"
   ]
  },
  {
   "cell_type": "code",
   "execution_count": 48,
   "metadata": {},
   "outputs": [],
   "source": [
    "'''Let's split this feature into 6 classes'''\n",
    "'''class_list = []\n",
    "brink_values = [0, 140, 240, 340, 440, 540]\n",
    "\n",
    "for s in data['engine_power'].tolist():\n",
    "    class_list.append([i for i, j in enumerate(brink_values) if s > j][-1])\n",
    "\n",
    "data['engine_power'] = class_list\n",
    "sns.countplot(data=data, x=\"engine_power\", palette=\"ch:.100\")'''"
   ]
  },
  {
   "cell_type": "markdown",
   "metadata": {},
   "source": [
    "### doors_number"
   ]
  },
  {
   "cell_type": "code",
   "execution_count": 58,
   "metadata": {},
   "outputs": [
    {
     "data": {
      "text/plain": [
       "5    75164\n",
       "4    30619\n",
       "2     2867\n",
       "3     1114\n",
       "Name: doors_number, dtype: int64"
      ]
     },
     "execution_count": 58,
     "metadata": {},
     "output_type": "execute_result"
    }
   ],
   "source": [
    "data['doors_number'] = data['doors_number'].astype(int)\n",
    "data['doors_number'].value_counts()"
   ]
  },
  {
   "cell_type": "markdown",
   "metadata": {},
   "source": [
    "### owners"
   ]
  },
  {
   "cell_type": "code",
   "execution_count": 59,
   "metadata": {},
   "outputs": [
    {
     "name": "stdout",
     "output_type": "stream",
     "text": [
      "Missing values qty: 21152\n"
     ]
    },
    {
     "data": {
      "text/plain": [
       "1 владелец     33304\n",
       "3 или более    30916\n",
       "2 владельца    24392\n",
       "Name: owners, dtype: int64"
      ]
     },
     "execution_count": 59,
     "metadata": {},
     "output_type": "execute_result"
    }
   ],
   "source": [
    "'''Quarter of all values missed'''\n",
    "print('Missing values qty:', data['owners'].isna().sum())\n",
    "\n",
    "data['owners'].value_counts()"
   ]
  },
  {
   "cell_type": "code",
   "execution_count": 60,
   "metadata": {},
   "outputs": [
    {
     "data": {
      "text/plain": [
       "<AxesSubplot:xlabel='owners', ylabel='count'>"
      ]
     },
     "execution_count": 60,
     "metadata": {},
     "output_type": "execute_result"
    },
    {
     "data": {
      "image/png": "[encoded data removed]",
      "text/plain": [
       "<Figure size 432x288 with 1 Axes>"
      ]
     },
     "metadata": {},
     "output_type": "display_data"
    }
   ],
   "source": [
    "sns.countplot(data=data, x=\"owners\", palette=\"ch:.100\")"
   ]
  },
  {
   "cell_type": "code",
   "execution_count": 61,
   "metadata": {},
   "outputs": [],
   "source": [
    "'''I won't fill missing values with most popular class, because it's almost uniform distribution with only 3 classes.\n",
    "Let's create 4th class \"other\"'''\n",
    "data['owners'] = data['owners'].fillna('other')"
   ]
  },
  {
   "cell_type": "code",
   "execution_count": 62,
   "metadata": {},
   "outputs": [
    {
     "data": {
      "text/plain": [
       "1 владелец     33304\n",
       "3 или более    30916\n",
       "2 владельца    24392\n",
       "other          21152\n",
       "Name: owners, dtype: int64"
      ]
     },
     "execution_count": 62,
     "metadata": {},
     "output_type": "execute_result"
    }
   ],
   "source": [
    "data['owners'].value_counts()"
   ]
  },
  {
   "cell_type": "markdown",
   "metadata": {},
   "source": [
    "### vehicle_transmission"
   ]
  },
  {
   "cell_type": "code",
   "execution_count": 63,
   "metadata": {},
   "outputs": [
    {
     "data": {
      "text/plain": [
       "автоматическая      64300\n",
       "вариатор            19988\n",
       "роботизированная    13941\n",
       "механическая        11535\n",
       "Name: vehicle_transmission, dtype: int64"
      ]
     },
     "execution_count": 63,
     "metadata": {},
     "output_type": "execute_result"
    }
   ],
   "source": [
    "'''Here everything is ok. I'll use One Hot Encoding for this feature later'''\n",
    "data['vehicle_transmission'].value_counts()"
   ]
  },
  {
   "cell_type": "markdown",
   "metadata": {},
   "source": [
    "### vehicle_passport"
   ]
  },
  {
   "cell_type": "code",
   "execution_count": 64,
   "metadata": {},
   "outputs": [
    {
     "name": "stdout",
     "output_type": "stream",
     "text": [
      "Missing values qty: 21152\n"
     ]
    },
    {
     "data": {
      "text/plain": [
       "Оригинал    78803\n",
       "Дубликат     9809\n",
       "Name: vehicle_passport, dtype: int64"
      ]
     },
     "execution_count": 64,
     "metadata": {},
     "output_type": "execute_result"
    }
   ],
   "source": [
    "print('Missing values qty:', data['vehicle_passport'].isna().sum())\n",
    "\n",
    "data['vehicle_passport'].value_counts()"
   ]
  },
  {
   "cell_type": "code",
   "execution_count": 65,
   "metadata": {},
   "outputs": [],
   "source": [
    "'''This feature contains 21152 of missing values and only 2 classes, where one of them is more popular than other one.\n",
    "Let's remove it'''\n",
    "data = data.drop(columns = ['vehicle_passport'])"
   ]
  },
  {
   "cell_type": "markdown",
   "metadata": {},
   "source": [
    "### wheel_drive"
   ]
  },
  {
   "cell_type": "code",
   "execution_count": 66,
   "metadata": {},
   "outputs": [
    {
     "name": "stdout",
     "output_type": "stream",
     "text": [
      "Missing values qty: 21152\n"
     ]
    },
    {
     "data": {
      "text/plain": [
       "полный      51288\n",
       "передний    31145\n",
       "задний       6179\n",
       "Name: wheel_drive, dtype: int64"
      ]
     },
     "execution_count": 66,
     "metadata": {},
     "output_type": "execute_result"
    }
   ],
   "source": [
    "print('Missing values qty:', data['wheel_drive'].isna().sum())\n",
    "\n",
    "data['wheel_drive'].value_counts()"
   ]
  },
  {
   "cell_type": "markdown",
   "metadata": {},
   "source": [
    "### engine_displacement"
   ]
  },
  {
   "cell_type": "code",
   "execution_count": 67,
   "metadata": {},
   "outputs": [
    {
     "data": {
      "text/plain": [
       "0    1.8 LTR\n",
       "1    1.6 LTR\n",
       "2    1.6 LTR\n",
       "3    1.4 LTR\n",
       "4    1.4 LTR\n",
       "Name: engine_displacement, dtype: object"
      ]
     },
     "execution_count": 67,
     "metadata": {},
     "output_type": "execute_result"
    }
   ],
   "source": [
    "data['engine_displacement'].head()"
   ]
  },
  {
   "cell_type": "code",
   "execution_count": 68,
   "metadata": {},
   "outputs": [],
   "source": [
    "data['engine_displacement'] = data['engine_displacement'].apply(lambda x: x.split()[0])"
   ]
  },
  {
   "cell_type": "code",
   "execution_count": 69,
   "metadata": {},
   "outputs": [
    {
     "name": "stdout",
     "output_type": "stream",
     "text": [
      "Missing values with \"LTR\": 99\n"
     ]
    }
   ],
   "source": [
    "print('Missing values with \"LTR\":', len(data[data['engine_displacement'] == 'LTR']))"
   ]
  },
  {
   "cell_type": "code",
   "execution_count": 70,
   "metadata": {},
   "outputs": [],
   "source": [
    "top_value = data['engine_displacement'].describe()['top']\n",
    "data['engine_displacement'] = [top_value if i == 'LTR' else i for i in data['engine_displacement'].tolist()]\n",
    "data['engine_displacement'] = data['engine_displacement'].astype(float)"
   ]
  },
  {
   "cell_type": "code",
   "execution_count": 71,
   "metadata": {},
   "outputs": [
    {
     "data": {
      "text/plain": [
       "0         1.8\n",
       "1         1.6\n",
       "2         1.6\n",
       "3         1.4\n",
       "4         1.4\n",
       "         ... \n",
       "109759    2.0\n",
       "109760    2.4\n",
       "109761    2.0\n",
       "109762    2.4\n",
       "109763    1.6\n",
       "Name: engine_displacement, Length: 109764, dtype: float64"
      ]
     },
     "execution_count": 71,
     "metadata": {},
     "output_type": "execute_result"
    }
   ],
   "source": [
    "data['engine_displacement']"
   ]
  },
  {
   "cell_type": "code",
   "execution_count": 72,
   "metadata": {},
   "outputs": [
    {
     "data": {
      "text/plain": [
       "<AxesSubplot:xlabel='count', ylabel='engine_displacement'>"
      ]
     },
     "execution_count": 72,
     "metadata": {},
     "output_type": "execute_result"
    },
    {
     "data": {
      "image/png": "[encoded data removed]",
      "text/plain": [
       "<Figure size 720x720 with 1 Axes>"
      ]
     },
     "metadata": {},
     "output_type": "display_data"
    }
   ],
   "source": [
    "fig, ax = plt.subplots(figsize=(10,10))\n",
    "sns.countplot(data=data, y=\"engine_displacement\", palette=\"ch:.100\", ax=ax)"
   ]
  },
  {
   "cell_type": "markdown",
   "metadata": {},
   "source": [
    "### equipment_dict"
   ]
  },
  {
   "cell_type": "code",
   "execution_count": 73,
   "metadata": {},
   "outputs": [
    {
     "data": {
      "text/plain": [
       "\"{'cruise-control': True, 'asr': True, 'tinted-glass': True, 'esp': True, 'adaptive-light': True, 'usb': True, 'multi-wheel': True, 'xenon': True, 'audiosystem-tv': True, 'heated-wash-system': True, 'ashtray-and-cigarette-lighter': True, 'airbag-passenger': True, 'front-centre-armrest': True, 'lock': True, 'door-sill-panel': True, 'servo': True, 'electro-mirrors': True, 'drl': True, 'electro-window-back': True, 'feedback-alarm': True, 'mirrors-heat': True, 'volume-sensor': True, '17-inch-wheels': True, 'dark-interior': True, 'park-assist-f': True, 'combo-interior': True, 'rear-seats-heat': True, 'cooling-box': True, 'seat-memory': True, 'music-super': True, 'park-assist-r': True, 'engine-proof': True, 'start-stop-function': True, 'airbag-driver': True, 'isofix': True, 'aux': True, 'drive-mode-sys': True, 'electro-window-front': True, 'light-sensor': True, 'hcc': True, 'automatic-lighting-control': True, 'airbag-curtain': True, 'passenger-seat-updown': True, 'computer': True, 'seat-transformation': True, 'passenger-seat-electric': True, 'alarm': True, 'light-cleaner': True, 'alloy-wheel-disks': True, 'leather-gear-stick': True, 'ptf': True, 'rain-sensor': True, 'airbag-side': True, 'tyre-pressure': True, 'voice-recognition': True, 'remote-engine-start': True, 'migration-flag': True, 'abs': True, 'front-seats-heat': True, 'bluetooth': True, 'wheel-configuration2': True, 'wheel-leather': True, 'wheel-configuration1': True, 'immo': True, 'light-interior': True, 'climate-control-2': True, 'auto-mirrors': True, '12v-socket': True}\""
      ]
     },
     "execution_count": 73,
     "metadata": {},
     "output_type": "execute_result"
    }
   ],
   "source": [
    "data['equipment_dict'][0]"
   ]
  },
  {
   "cell_type": "code",
   "execution_count": 74,
   "metadata": {},
   "outputs": [
    {
     "data": {
      "text/plain": [
       "0    {'cruise-control': True, 'asr': True, 'tinted-...\n",
       "1    {'cruise-control': True, 'glonass': True, 'asr...\n",
       "2    {'cruise-control': True, 'glonass': True, 'esp...\n",
       "3    {'cruise-control': True, 'esp': True, 'usb': T...\n",
       "4    {'cruise-control': True, 'asr': True, 'esp': T...\n",
       "Name: equipment_dict, dtype: object"
      ]
     },
     "execution_count": 74,
     "metadata": {},
     "output_type": "execute_result"
    }
   ],
   "source": [
    "data['equipment_dict'] = data['equipment_dict'].apply(lambda x: ast.literal_eval(x))\n",
    "data['equipment_dict'].head()"
   ]
  },
  {
   "cell_type": "code",
   "execution_count": 75,
   "metadata": {},
   "outputs": [
    {
     "data": {
      "text/plain": [
       "0    {'cruise-control': True, 'asr': True, 'tinted-...\n",
       "1    {'cruise-control': True, 'glonass': True, 'asr...\n",
       "2    {'cruise-control': True, 'glonass': True, 'esp...\n",
       "3    {'cruise-control': True, 'esp': True, 'usb': T...\n",
       "4    {'cruise-control': True, 'asr': True, 'esp': T...\n",
       "5    {'cruise-control': True, 'asr': True, 'esp': T...\n",
       "6    {'steel-wheels': True, 'esp': True, 'airbag-dr...\n",
       "7    {'cruise-control': True, 'glonass': True, 'esp...\n",
       "8    {'cruise-control': True, 'asr': True, 'tinted-...\n",
       "9    {'cruise-control': True, 'asr': True, 'esp': T...\n",
       "Name: equipment_dict, dtype: object"
      ]
     },
     "execution_count": 75,
     "metadata": {},
     "output_type": "execute_result"
    }
   ],
   "source": [
    "data['equipment_dict'].head(10)"
   ]
  },
  {
   "cell_type": "code",
   "execution_count": 76,
   "metadata": {},
   "outputs": [
    {
     "name": "stdout",
     "output_type": "stream",
     "text": [
      "{'cruise-control': True, 'asr': True, 'tinted-glass': True, 'esp': True, 'adaptive-light': True, 'usb': True, 'multi-wheel': True, 'xenon': True, 'audiosystem-tv': True, 'heated-wash-system': True, 'ashtray-and-cigarette-lighter': True, 'airbag-passenger': True, 'front-centre-armrest': True, 'lock': True, 'door-sill-panel': True, 'servo': True, 'electro-mirrors': True, 'drl': True, 'electro-window-back': True, 'feedback-alarm': True, 'mirrors-heat': True, 'volume-sensor': True, '17-inch-wheels': True, 'dark-interior': True, 'park-assist-f': True, 'combo-interior': True, 'rear-seats-heat': True, 'cooling-box': True, 'seat-memory': True, 'music-super': True, 'park-assist-r': True, 'engine-proof': True, 'start-stop-function': True, 'airbag-driver': True, 'isofix': True, 'aux': True, 'drive-mode-sys': True, 'electro-window-front': True, 'light-sensor': True, 'hcc': True, 'automatic-lighting-control': True, 'airbag-curtain': True, 'passenger-seat-updown': True, 'computer': True, 'seat-transformation': True, 'passenger-seat-electric': True, 'alarm': True, 'light-cleaner': True, 'alloy-wheel-disks': True, 'leather-gear-stick': True, 'ptf': True, 'rain-sensor': True, 'airbag-side': True, 'tyre-pressure': True, 'voice-recognition': True, 'remote-engine-start': True, 'migration-flag': True, 'abs': True, 'front-seats-heat': True, 'bluetooth': True, 'wheel-configuration2': True, 'wheel-leather': True, 'wheel-configuration1': True, 'immo': True, 'light-interior': True, 'climate-control-2': True, 'auto-mirrors': True, '12v-socket': True}\n"
     ]
    }
   ],
   "source": [
    "'''It's very interesting feature, because it contains dictionaries with a lot of binary characteristics.\n",
    "For example, \"cruise-control\", \"airbag-passenger\", \"navigation\" and so on. It contains only True values. \n",
    "I'll choose important characteristics of car in my opinion and include them to main dataframe.\n",
    "If feature doesn't contain characteristic I'll put False'''\n",
    "print(data['equipment_dict'][0])"
   ]
  },
  {
   "cell_type": "code",
   "execution_count": 77,
   "metadata": {},
   "outputs": [],
   "source": [
    "selected_features = ['cruise-control', 'electro-mirrors', 'computer', 'navigation', 'rain-sensor', 'alarm', 'auto-mirrors']\n",
    "\n",
    "for f in selected_features:\n",
    "    data[re.sub('-', '_', f)] = [True if i.get(f) is not None else False for i in data['equipment_dict'].tolist()]\n",
    "\n",
    "data['climate_control'] = [True if [s for s in list(i.keys()) if 'climate-control' in s] else False for i in data['equipment_dict'].tolist()]\n",
    "data['airbag'] = [True if [s for s in list(i.keys()) if 'airbag' in s] else False for i in data['equipment_dict'].tolist()]\n",
    "data['audio'] = [True if [s for s in list(i.keys()) if 'music' in s or 'audio' in s] else False for i in data['equipment_dict'].tolist()]"
   ]
  },
  {
   "cell_type": "code",
   "execution_count": 78,
   "metadata": {},
   "outputs": [
    {
     "data": {
      "image/png": "[encoded data removed]",
      "text/plain": [
       "<Figure size 1440x576 with 10 Axes>"
      ]
     },
     "metadata": {},
     "output_type": "display_data"
    }
   ],
   "source": [
    "fig, ax = plt.subplots(2,5, figsize=(20,8))\n",
    "\n",
    "sns.countplot(data=data, x='cruise_control', ax=ax[0,0])\n",
    "sns.countplot(data=data, x='electro_mirrors', ax=ax[0,1])\n",
    "sns.countplot(data=data, x='computer', ax=ax[0,2])\n",
    "sns.countplot(data=data, x='navigation', ax=ax[0,3])\n",
    "sns.countplot(data=data, x='airbag', ax=ax[0,4])\n",
    "\n",
    "sns.countplot(data=data, x='rain_sensor', ax=ax[1,0])\n",
    "sns.countplot(data=data, x='alarm', ax=ax[1,1])\n",
    "sns.countplot(data=data, x='auto_mirrors', ax=ax[1,2])\n",
    "sns.countplot(data=data, x='climate_control', ax=ax[1,3])\n",
    "sns.countplot(data=data, x='audio', ax=ax[1,4])\n",
    "\n",
    "fig.show()"
   ]
  },
  {
   "cell_type": "markdown",
   "metadata": {},
   "source": [
    "### steering_wheel"
   ]
  },
  {
   "cell_type": "code",
   "execution_count": 79,
   "metadata": {},
   "outputs": [
    {
     "name": "stdout",
     "output_type": "stream",
     "text": [
      "Missing values qty: 21153\n"
     ]
    },
    {
     "data": {
      "text/plain": [
       "Левый     85551\n",
       "Правый     3060\n",
       "Name: steering_wheel, dtype: int64"
      ]
     },
     "execution_count": 79,
     "metadata": {},
     "output_type": "execute_result"
    }
   ],
   "source": [
    "print('Missing values qty:', data['steering_wheel'].isna().sum())\n",
    "\n",
    "data['steering_wheel'].value_counts()"
   ]
  },
  {
   "cell_type": "code",
   "execution_count": 80,
   "metadata": {},
   "outputs": [],
   "source": [
    "data = data.drop(columns=['steering_wheel'])"
   ]
  },
  {
   "cell_type": "markdown",
   "metadata": {},
   "source": [
    "### mileage"
   ]
  },
  {
   "cell_type": "code",
   "execution_count": 81,
   "metadata": {},
   "outputs": [
    {
     "name": "stdout",
     "output_type": "stream",
     "text": [
      "Missing values qty: 21152\n"
     ]
    }
   ],
   "source": [
    "print('Missing values qty:', data['mileage'].isna().sum())"
   ]
  },
  {
   "cell_type": "code",
   "execution_count": null,
   "metadata": {},
   "outputs": [],
   "source": []
  },
  {
   "cell_type": "markdown",
   "metadata": {},
   "source": [
    "### date_added"
   ]
  },
  {
   "cell_type": "code",
   "execution_count": 82,
   "metadata": {},
   "outputs": [
    {
     "name": "stdout",
     "output_type": "stream",
     "text": [
      "Missing values qty: 21152\n"
     ]
    },
    {
     "data": {
      "text/html": [
       "<div>\n",
       "<style scoped>\n",
       "    .dataframe tbody tr th:only-of-type {\n",
       "        vertical-align: middle;\n",
       "    }\n",
       "\n",
       "    .dataframe tbody tr th {\n",
       "        vertical-align: top;\n",
       "    }\n",
       "\n",
       "    .dataframe thead th {\n",
       "        text-align: right;\n",
       "    }\n",
       "</style>\n",
       "<table border=\"1\" class=\"dataframe\">\n",
       "  <thead>\n",
       "    <tr style=\"text-align: right;\">\n",
       "      <th></th>\n",
       "      <th>date_added</th>\n",
       "    </tr>\n",
       "  </thead>\n",
       "  <tbody>\n",
       "    <tr>\n",
       "      <th>25 сентября</th>\n",
       "      <td>38377</td>\n",
       "    </tr>\n",
       "    <tr>\n",
       "      <th>26 сентября</th>\n",
       "      <td>6403</td>\n",
       "    </tr>\n",
       "    <tr>\n",
       "      <th>27 сентября</th>\n",
       "      <td>5889</td>\n",
       "    </tr>\n",
       "    <tr>\n",
       "      <th>24 сентября</th>\n",
       "      <td>4631</td>\n",
       "    </tr>\n",
       "    <tr>\n",
       "      <th>29 сентября</th>\n",
       "      <td>4624</td>\n",
       "    </tr>\n",
       "    <tr>\n",
       "      <th>...</th>\n",
       "      <td>...</td>\n",
       "    </tr>\n",
       "    <tr>\n",
       "      <th>9 ноября 2018</th>\n",
       "      <td>1</td>\n",
       "    </tr>\n",
       "    <tr>\n",
       "      <th>26 сентября 2019</th>\n",
       "      <td>1</td>\n",
       "    </tr>\n",
       "    <tr>\n",
       "      <th>28 сентября 2018</th>\n",
       "      <td>1</td>\n",
       "    </tr>\n",
       "    <tr>\n",
       "      <th>27 августа 2018</th>\n",
       "      <td>1</td>\n",
       "    </tr>\n",
       "    <tr>\n",
       "      <th>27 мая 2019</th>\n",
       "      <td>1</td>\n",
       "    </tr>\n",
       "  </tbody>\n",
       "</table>\n",
       "<p>920 rows × 1 columns</p>\n",
       "</div>"
      ],
      "text/plain": [
       "                  date_added\n",
       "25 сентября            38377\n",
       "26 сентября             6403\n",
       "27 сентября             5889\n",
       "24 сентября             4631\n",
       "29 сентября             4624\n",
       "...                      ...\n",
       "9 ноября 2018              1\n",
       "26 сентября 2019           1\n",
       "28 сентября 2018           1\n",
       "27 августа 2018            1\n",
       "27 мая 2019                1\n",
       "\n",
       "[920 rows x 1 columns]"
      ]
     },
     "execution_count": 82,
     "metadata": {},
     "output_type": "execute_result"
    }
   ],
   "source": [
    "'''This feature shows date when the ad for sale was published.\n",
    "Latest date actually indicates to date of data parsing.\n",
    "Also, I know the data was parsed in September 2021, so dates without a year are 2021.'''\n",
    "print('Missing values qty:', data['date_added'].isna().sum())\n",
    "\n",
    "data['date_added'].value_counts().to_frame()"
   ]
  },
  {
   "cell_type": "code",
   "execution_count": 83,
   "metadata": {},
   "outputs": [],
   "source": [
    "'''Let's add 2021 year to dates without year'''\n",
    "data['date_added'] = [i + ' 2021' if re.search('20\\d{2}', str(i).split()[-1]) is None and str(i) != 'nan' else i for i in data['date_added'].tolist()]"
   ]
  },
  {
   "cell_type": "code",
   "execution_count": 84,
   "metadata": {},
   "outputs": [
    {
     "data": {
      "text/plain": [
       "0         24 сентября 2021\n",
       "1         24 сентября 2021\n",
       "2                      NaN\n",
       "3         25 сентября 2021\n",
       "4                      NaN\n",
       "                ...       \n",
       "109759    25 сентября 2021\n",
       "109760    30 сентября 2021\n",
       "109761                 NaN\n",
       "109762    25 сентября 2021\n",
       "109763    30 сентября 2021\n",
       "Name: date_added, Length: 109764, dtype: object"
      ]
     },
     "execution_count": 84,
     "metadata": {},
     "output_type": "execute_result"
    }
   ],
   "source": [
    "data['date_added']"
   ]
  },
  {
   "cell_type": "code",
   "execution_count": 85,
   "metadata": {},
   "outputs": [],
   "source": [
    "'''Names and numbers of monthes'''\n",
    "month_dict = {\n",
    "    'января': '1',\n",
    "    'февраля': '2',\n",
    "    'марта': '3',\n",
    "    'апреля': '4',\n",
    "    'мая': '5',\n",
    "    'июня': '6',\n",
    "    'июля': '7',\n",
    "    'августа': '8',\n",
    "    'сентября': '9',\n",
    "    'октября': '10',\n",
    "    'ноября': '11',\n",
    "    'декабря': '12',\n",
    "}"
   ]
  },
  {
   "cell_type": "code",
   "execution_count": 86,
   "metadata": {},
   "outputs": [
    {
     "data": {
      "text/plain": [
       "datetime.date(2021, 9, 24)"
      ]
     },
     "execution_count": 86,
     "metadata": {},
     "output_type": "execute_result"
    }
   ],
   "source": [
    "'''Let's replace monthes words to numbers'''\n",
    "data['date_added'] = [i.split()[0] + '.' + month_dict.get(i.split()[1]) + '.' + i.split()[2] if str(i) != 'nan' else i for i in data['date_added'].tolist()]\n",
    "\n",
    "'''Converting string dates to datetime format'''\n",
    "data['date_added'] = data['date_added'].apply(lambda x: datetime.strptime(x, '%d.%m.%Y').date() if str(x) != 'nan' else x)\n",
    "data['date_added'][0]"
   ]
  },
  {
   "cell_type": "code",
   "execution_count": 87,
   "metadata": {},
   "outputs": [
    {
     "data": {
      "text/plain": [
       "2021-09-25    38377\n",
       "2021-09-26     6403\n",
       "2021-09-27     5889\n",
       "2021-09-24     4631\n",
       "2021-09-29     4624\n",
       "              ...  \n",
       "2018-11-09        1\n",
       "2019-09-26        1\n",
       "2018-09-28        1\n",
       "2018-08-27        1\n",
       "2019-05-27        1\n",
       "Name: date_added, Length: 920, dtype: int64"
      ]
     },
     "execution_count": 87,
     "metadata": {},
     "output_type": "execute_result"
    }
   ],
   "source": [
    "data['date_added'].value_counts()"
   ]
  },
  {
   "cell_type": "code",
   "execution_count": 88,
   "metadata": {},
   "outputs": [
    {
     "name": "stdout",
     "output_type": "stream",
     "text": [
      "Date of data parsing is 2021-09-30\n"
     ]
    }
   ],
   "source": [
    "parsing_date = max([i for i in data['date_added'].tolist() if str(i) != 'nan'])\n",
    "print('Date of data parsing is', parsing_date)\n",
    "\n",
    "'''Let's fill missing values in date_added by parsing_date'''\n",
    "data['date_added'] = data['date_added'].fillna(parsing_date)"
   ]
  },
  {
   "cell_type": "markdown",
   "metadata": {},
   "source": [
    "### model_date"
   ]
  },
  {
   "cell_type": "code",
   "execution_count": 89,
   "metadata": {},
   "outputs": [
    {
     "data": {
      "text/plain": [
       "0    2013.0\n",
       "1    2020.0\n",
       "2    2020.0\n",
       "3    2017.0\n",
       "4    2017.0\n",
       "Name: model_date, dtype: float64"
      ]
     },
     "execution_count": 89,
     "metadata": {},
     "output_type": "execute_result"
    }
   ],
   "source": [
    "data['model_date'].head()"
   ]
  },
  {
   "cell_type": "code",
   "execution_count": 90,
   "metadata": {},
   "outputs": [
    {
     "data": {
      "text/plain": [
       "0          8.0\n",
       "1          1.0\n",
       "2          1.0\n",
       "3          4.0\n",
       "4          4.0\n",
       "          ... \n",
       "109759    14.0\n",
       "109760     7.0\n",
       "109761     3.0\n",
       "109762    12.0\n",
       "109763    10.0\n",
       "Name: model_age, Length: 109764, dtype: float64"
      ]
     },
     "execution_count": 90,
     "metadata": {},
     "output_type": "execute_result"
    }
   ],
   "source": [
    "'''Let's create a new feature \"model_age\" based on \"model_date\"'''\n",
    "data['model_age'] = parsing_date.year - data['model_date']\n",
    "data['model_age']"
   ]
  },
  {
   "cell_type": "code",
   "execution_count": 91,
   "metadata": {},
   "outputs": [],
   "source": [
    "data = data.drop(columns=['model_date'])"
   ]
  },
  {
   "cell_type": "code",
   "execution_count": 92,
   "metadata": {},
   "outputs": [
    {
     "data": {
      "image/png": "[encoded data removed]",
      "text/plain": [
       "<Figure size 432x288 with 1 Axes>"
      ]
     },
     "metadata": {},
     "output_type": "display_data"
    },
    {
     "data": {
      "image/png": "[encoded data removed]",
      "text/plain": [
       "<Figure size 432x288 with 1 Axes>"
      ]
     },
     "metadata": {},
     "output_type": "display_data"
    }
   ],
   "source": [
    "'''Let's see on distribution and outliers of this feature'''\n",
    "show_hist_boxplot(data['model_age'])"
   ]
  },
  {
   "cell_type": "code",
   "execution_count": 93,
   "metadata": {},
   "outputs": [
    {
     "data": {
      "text/html": [
       "<div>\n",
       "<style scoped>\n",
       "    .dataframe tbody tr th:only-of-type {\n",
       "        vertical-align: middle;\n",
       "    }\n",
       "\n",
       "    .dataframe tbody tr th {\n",
       "        vertical-align: top;\n",
       "    }\n",
       "\n",
       "    .dataframe thead th {\n",
       "        text-align: right;\n",
       "    }\n",
       "</style>\n",
       "<table border=\"1\" class=\"dataframe\">\n",
       "  <thead>\n",
       "    <tr style=\"text-align: right;\">\n",
       "      <th></th>\n",
       "      <th>body_type</th>\n",
       "      <th>brand</th>\n",
       "      <th>color</th>\n",
       "      <th>complectation_dict</th>\n",
       "      <th>description</th>\n",
       "      <th>engine_displacement</th>\n",
       "      <th>engine_power</th>\n",
       "      <th>equipment_dict</th>\n",
       "      <th>fuel_type</th>\n",
       "      <th>mileage</th>\n",
       "      <th>...</th>\n",
       "      <th>electro_mirrors</th>\n",
       "      <th>computer</th>\n",
       "      <th>navigation</th>\n",
       "      <th>rain_sensor</th>\n",
       "      <th>alarm</th>\n",
       "      <th>auto_mirrors</th>\n",
       "      <th>climate_control</th>\n",
       "      <th>airbag</th>\n",
       "      <th>audio</th>\n",
       "      <th>model_age</th>\n",
       "    </tr>\n",
       "  </thead>\n",
       "  <tbody>\n",
       "    <tr>\n",
       "      <th>55502</th>\n",
       "      <td>купе</td>\n",
       "      <td>MERCEDES</td>\n",
       "      <td>зелёный</td>\n",
       "      <td>NaN</td>\n",
       "      <td>Автомобиль приобретался у официального дилера ...</td>\n",
       "      <td>2.8</td>\n",
       "      <td>2</td>\n",
       "      <td>{'electro-window-back': True, 'condition': Tru...</td>\n",
       "      <td>бензин</td>\n",
       "      <td>84369.0</td>\n",
       "      <td>...</td>\n",
       "      <td>False</td>\n",
       "      <td>False</td>\n",
       "      <td>False</td>\n",
       "      <td>False</td>\n",
       "      <td>False</td>\n",
       "      <td>False</td>\n",
       "      <td>False</td>\n",
       "      <td>False</td>\n",
       "      <td>False</td>\n",
       "      <td>62.0</td>\n",
       "    </tr>\n",
       "    <tr>\n",
       "      <th>55933</th>\n",
       "      <td>other</td>\n",
       "      <td>MERCEDES</td>\n",
       "      <td>коричневый</td>\n",
       "      <td>NaN</td>\n",
       "      <td>1959 Mercedes Benz 220 SE Более известный как ...</td>\n",
       "      <td>2.2</td>\n",
       "      <td>0</td>\n",
       "      <td>{}</td>\n",
       "      <td>бензин</td>\n",
       "      <td>50000.0</td>\n",
       "      <td>...</td>\n",
       "      <td>False</td>\n",
       "      <td>False</td>\n",
       "      <td>False</td>\n",
       "      <td>False</td>\n",
       "      <td>False</td>\n",
       "      <td>False</td>\n",
       "      <td>False</td>\n",
       "      <td>False</td>\n",
       "      <td>False</td>\n",
       "      <td>63.0</td>\n",
       "    </tr>\n",
       "    <tr>\n",
       "      <th>56560</th>\n",
       "      <td>other</td>\n",
       "      <td>MERCEDES</td>\n",
       "      <td>чёрный</td>\n",
       "      <td>NaN</td>\n",
       "      <td>Mercedes Benz 220 Cabriolet A 1952 W187 Благод...</td>\n",
       "      <td>3.0</td>\n",
       "      <td>1</td>\n",
       "      <td>{}</td>\n",
       "      <td>бензин</td>\n",
       "      <td>64200.0</td>\n",
       "      <td>...</td>\n",
       "      <td>False</td>\n",
       "      <td>False</td>\n",
       "      <td>False</td>\n",
       "      <td>False</td>\n",
       "      <td>False</td>\n",
       "      <td>False</td>\n",
       "      <td>False</td>\n",
       "      <td>False</td>\n",
       "      <td>False</td>\n",
       "      <td>70.0</td>\n",
       "    </tr>\n",
       "    <tr>\n",
       "      <th>90522</th>\n",
       "      <td>купе</td>\n",
       "      <td>VOLKSWAGEN</td>\n",
       "      <td>синий</td>\n",
       "      <td>NaN</td>\n",
       "      <td>Все сделано кроме покраски</td>\n",
       "      <td>1.6</td>\n",
       "      <td>0</td>\n",
       "      <td>{}</td>\n",
       "      <td>бензин</td>\n",
       "      <td>45000.0</td>\n",
       "      <td>...</td>\n",
       "      <td>False</td>\n",
       "      <td>False</td>\n",
       "      <td>False</td>\n",
       "      <td>False</td>\n",
       "      <td>False</td>\n",
       "      <td>False</td>\n",
       "      <td>False</td>\n",
       "      <td>False</td>\n",
       "      <td>False</td>\n",
       "      <td>83.0</td>\n",
       "    </tr>\n",
       "    <tr>\n",
       "      <th>104289</th>\n",
       "      <td>other</td>\n",
       "      <td>MITSUBISHI</td>\n",
       "      <td>зелёный</td>\n",
       "      <td>NaN</td>\n",
       "      <td>В хорошем состоянии</td>\n",
       "      <td>2.0</td>\n",
       "      <td>0</td>\n",
       "      <td>{}</td>\n",
       "      <td>бензин</td>\n",
       "      <td>100000.0</td>\n",
       "      <td>...</td>\n",
       "      <td>False</td>\n",
       "      <td>False</td>\n",
       "      <td>False</td>\n",
       "      <td>False</td>\n",
       "      <td>False</td>\n",
       "      <td>False</td>\n",
       "      <td>False</td>\n",
       "      <td>False</td>\n",
       "      <td>False</td>\n",
       "      <td>68.0</td>\n",
       "    </tr>\n",
       "  </tbody>\n",
       "</table>\n",
       "<p>5 rows × 32 columns</p>\n",
       "</div>"
      ],
      "text/plain": [
       "       body_type       brand       color complectation_dict  \\\n",
       "55502       купе    MERCEDES     зелёный                NaN   \n",
       "55933      other    MERCEDES  коричневый                NaN   \n",
       "56560      other    MERCEDES      чёрный                NaN   \n",
       "90522       купе  VOLKSWAGEN       синий                NaN   \n",
       "104289     other  MITSUBISHI     зелёный                NaN   \n",
       "\n",
       "                                              description  \\\n",
       "55502   Автомобиль приобретался у официального дилера ...   \n",
       "55933   1959 Mercedes Benz 220 SE Более известный как ...   \n",
       "56560   Mercedes Benz 220 Cabriolet A 1952 W187 Благод...   \n",
       "90522                          Все сделано кроме покраски   \n",
       "104289                               В хорошем состоянии    \n",
       "\n",
       "        engine_displacement engine_power  \\\n",
       "55502                   2.8            2   \n",
       "55933                   2.2            0   \n",
       "56560                   3.0            1   \n",
       "90522                   1.6            0   \n",
       "104289                  2.0            0   \n",
       "\n",
       "                                           equipment_dict fuel_type   mileage  \\\n",
       "55502   {'electro-window-back': True, 'condition': Tru...    бензин   84369.0   \n",
       "55933                                                  {}    бензин   50000.0   \n",
       "56560                                                  {}    бензин   64200.0   \n",
       "90522                                                  {}    бензин   45000.0   \n",
       "104289                                                 {}    бензин  100000.0   \n",
       "\n",
       "        ... electro_mirrors  computer  navigation rain_sensor  alarm  \\\n",
       "55502   ...           False     False       False       False  False   \n",
       "55933   ...           False     False       False       False  False   \n",
       "56560   ...           False     False       False       False  False   \n",
       "90522   ...           False     False       False       False  False   \n",
       "104289  ...           False     False       False       False  False   \n",
       "\n",
       "       auto_mirrors climate_control  airbag  audio model_age  \n",
       "55502         False           False   False  False      62.0  \n",
       "55933         False           False   False  False      63.0  \n",
       "56560         False           False   False  False      70.0  \n",
       "90522         False           False   False  False      83.0  \n",
       "104289        False           False   False  False      68.0  \n",
       "\n",
       "[5 rows x 32 columns]"
      ]
     },
     "execution_count": 93,
     "metadata": {},
     "output_type": "execute_result"
    }
   ],
   "source": [
    "'''The distribution is uneven and shifted to the left. Model age > 60 years is unusual. Let's see on this examples.\n",
    "It's appropriate ages for this car models'''\n",
    "data.loc[data['model_age'] > 60]"
   ]
  },
  {
   "cell_type": "code",
   "execution_count": 94,
   "metadata": {},
   "outputs": [
    {
     "data": {
      "image/png": "[encoded data removed]",
      "text/plain": [
       "<Figure size 432x288 with 1 Axes>"
      ]
     },
     "metadata": {},
     "output_type": "display_data"
    },
    {
     "data": {
      "image/png": "[encoded data removed]",
      "text/plain": [
       "<Figure size 432x288 with 1 Axes>"
      ]
     },
     "metadata": {},
     "output_type": "display_data"
    }
   ],
   "source": [
    "'''There are extreme values and data distribution is skewed. Let's normalize this feature using logarithm. \n",
    "Distribution has become a little better. But it still is not good'''\n",
    "show_hist_boxplot(np.log(data['model_age'] + 1))"
   ]
  },
  {
   "cell_type": "code",
   "execution_count": 99,
   "metadata": {},
   "outputs": [
    {
     "data": {
      "text/plain": [
       "3    14176\n",
       "2    13928\n",
       "0    12784\n",
       "7    12566\n",
       "4    10990\n",
       "8    10348\n",
       "6     9960\n",
       "1     9943\n",
       "9     9371\n",
       "5     5698\n",
       "Name: model_age, dtype: int64"
      ]
     },
     "execution_count": 99,
     "metadata": {},
     "output_type": "execute_result"
    }
   ],
   "source": [
    "'''Let's use bucketing for normalization of the feature. \n",
    "Since the distribution is skewed, I'm using specifically quantile bucketing'''\n",
    "\n",
    "data['model_age'] = pd.qcut(data['model_age'], q=10, labels=[i for i in range(10)])\n",
    "data['model_age'].value_counts()"
   ]
  },
  {
   "cell_type": "code",
   "execution_count": null,
   "metadata": {},
   "outputs": [],
   "source": []
  },
  {
   "cell_type": "markdown",
   "metadata": {},
   "source": [
    "### production_date"
   ]
  },
  {
   "cell_type": "code",
   "execution_count": 102,
   "metadata": {},
   "outputs": [
    {
     "data": {
      "text/plain": [
       "0    2015.0\n",
       "1    2020.0\n",
       "2    2021.0\n",
       "3    2018.0\n",
       "4    2021.0\n",
       "Name: production_date, dtype: float64"
      ]
     },
     "execution_count": 102,
     "metadata": {},
     "output_type": "execute_result"
    }
   ],
   "source": [
    "data['production_date'].head()"
   ]
  },
  {
   "cell_type": "code",
   "execution_count": 103,
   "metadata": {},
   "outputs": [
    {
     "data": {
      "text/plain": [
       "0          6.0\n",
       "1          1.0\n",
       "2          0.0\n",
       "3          3.0\n",
       "4          0.0\n",
       "          ... \n",
       "109759    14.0\n",
       "109760     7.0\n",
       "109761     0.0\n",
       "109762    10.0\n",
       "109763     7.0\n",
       "Name: production_date, Length: 109764, dtype: float64"
      ]
     },
     "execution_count": 103,
     "metadata": {},
     "output_type": "execute_result"
    }
   ],
   "source": [
    "'''Let's create a new feature \"car_age\" based on \"production_date\"'''\n",
    "data['production_date'] = parsing_date.year - data['production_date']\n",
    "data = data.rename(columns={\"production_date\": \"car_age\"})"
   ]
  },
  {
   "cell_type": "code",
   "execution_count": 111,
   "metadata": {},
   "outputs": [
    {
     "data": {
      "image/png": "[encoded data removed]",
      "text/plain": [
       "<Figure size 432x288 with 1 Axes>"
      ]
     },
     "metadata": {},
     "output_type": "display_data"
    },
    {
     "data": {
      "image/png": "[encoded data removed]",
      "text/plain": [
       "<Figure size 432x288 with 1 Axes>"
      ]
     },
     "metadata": {},
     "output_type": "display_data"
    }
   ],
   "source": [
    "show_hist_boxplot(data['car_age'])"
   ]
  },
  {
   "cell_type": "code",
   "execution_count": 110,
   "metadata": {},
   "outputs": [
    {
     "data": {
      "image/png": "[encoded data removed]",
      "text/plain": [
       "<Figure size 432x288 with 1 Axes>"
      ]
     },
     "metadata": {},
     "output_type": "display_data"
    },
    {
     "data": {
      "image/png": "[encoded data removed]",
      "text/plain": [
       "<Figure size 432x288 with 1 Axes>"
      ]
     },
     "metadata": {},
     "output_type": "display_data"
    }
   ],
   "source": [
    "'''There are extreme values and data distribution is skewed. Let's normalize this feature using logarithm. \n",
    "Distribution has become a little better. But it still is not good'''\n",
    "show_hist_boxplot(np.log(data['car_age'] + 1))"
   ]
  },
  {
   "cell_type": "code",
   "execution_count": 141,
   "metadata": {},
   "outputs": [
    {
     "data": {
      "text/plain": [
       "(-0.001, 2.0]    34470\n",
       "(3.0, 5.0]       14324\n",
       "(6.0, 8.0]       13665\n",
       "(2.0, 3.0]       11557\n",
       "(8.0, 10.0]      10962\n",
       "(10.0, 14.0]     10161\n",
       "(14.0, 69.0]      8758\n",
       "(5.0, 6.0]        5867\n",
       "Name: car_age, dtype: int64"
      ]
     },
     "execution_count": 141,
     "metadata": {},
     "output_type": "execute_result"
    }
   ],
   "source": [
    "'''Let's use bucketing for normalization of the feature. \n",
    "Since the distribution is skewed, I'm using specifically quantile bucketing'''\n",
    "\n",
    "data['car_age'] = pd.qcut(data['car_age'].astype(int), q=10, duplicates='drop')\n",
    "data['car_age'].value_counts()"
   ]
  },
  {
   "cell_type": "markdown",
   "metadata": {},
   "source": [
    "### views"
   ]
  },
  {
   "cell_type": "code",
   "execution_count": 166,
   "metadata": {},
   "outputs": [
    {
     "data": {
      "text/plain": [
       "22084"
      ]
     },
     "execution_count": 166,
     "metadata": {},
     "output_type": "execute_result"
    }
   ],
   "source": [
    "data['views'].isna().sum()"
   ]
  },
  {
   "cell_type": "code",
   "execution_count": 167,
   "metadata": {},
   "outputs": [
    {
     "data": {
      "image/png": "[encoded data removed]",
      "text/plain": [
       "<Figure size 432x288 with 1 Axes>"
      ]
     },
     "metadata": {},
     "output_type": "display_data"
    },
    {
     "data": {
      "image/png": "[encoded data removed]",
      "text/plain": [
       "<Figure size 432x288 with 1 Axes>"
      ]
     },
     "metadata": {},
     "output_type": "display_data"
    }
   ],
   "source": [
    "show_hist_boxplot(data['views'])"
   ]
  },
  {
   "cell_type": "code",
   "execution_count": 175,
   "metadata": {},
   "outputs": [
    {
     "data": {
      "text/plain": [
       "count     87680.000000\n",
       "mean        583.094172\n",
       "std        1910.160359\n",
       "min           2.000000\n",
       "25%         124.000000\n",
       "50%         241.000000\n",
       "75%         521.000000\n",
       "max      148149.000000\n",
       "Name: views, dtype: float64"
      ]
     },
     "execution_count": 175,
     "metadata": {},
     "output_type": "execute_result"
    }
   ],
   "source": [
    "'''This feature has 22084 missing values. I would be to replace them in popular value, but it's needed to analyze ad age additionally.\n",
    "Or I would be just delete it, but I guess this feature is important for target'''\n",
    "data['views'].describe()"
   ]
  },
  {
   "cell_type": "code",
   "execution_count": 226,
   "metadata": {},
   "outputs": [
    {
     "data": {
      "text/plain": [
       "views   -0.056564\n",
       "price    1.000000\n",
       "Name: price, dtype: float64"
      ]
     },
     "execution_count": 226,
     "metadata": {},
     "output_type": "execute_result"
    }
   ],
   "source": [
    "'''Correlation of \"views\" and \"price\" is minimal. So I just delete this feature'''\n",
    "sub_data = data.loc[data['views'].astype(str) != 'nan' & data['price'].astype(str) != 'nan']\n",
    "sub_data[['views','price']].corr()['price']"
   ]
  },
  {
   "cell_type": "code",
   "execution_count": 227,
   "metadata": {},
   "outputs": [],
   "source": [
    "data = data.drop(columns=['views'])"
   ]
  },
  {
   "cell_type": "code",
   "execution_count": null,
   "metadata": {},
   "outputs": [],
   "source": []
  },
  {
   "cell_type": "markdown",
   "metadata": {},
   "source": [
    "### region"
   ]
  },
  {
   "cell_type": "code",
   "execution_count": 240,
   "metadata": {},
   "outputs": [
    {
     "data": {
      "text/plain": [
       "21152"
      ]
     },
     "execution_count": 240,
     "metadata": {},
     "output_type": "execute_result"
    }
   ],
   "source": [
    "data['region'].isna().sum()"
   ]
  },
  {
   "cell_type": "code",
   "execution_count": 229,
   "metadata": {},
   "outputs": [
    {
     "data": {
      "text/plain": [
       " в Москве              32655\n",
       " в Санкт-Петербурге    12532\n",
       " в Ростове-на-Дону      4905\n",
       " в Краснодаре           4105\n",
       " в Тюмени               2412\n",
       "                       ...  \n",
       " в Ермолино                1\n",
       " в Шепси                   1\n",
       " в Ахтырском               1\n",
       " в Шумерле                 1\n",
       " в Перегрёбном             1\n",
       "Name: region, Length: 1277, dtype: int64"
      ]
     },
     "execution_count": 229,
     "metadata": {},
     "output_type": "execute_result"
    }
   ],
   "source": [
    "data['region'].value_counts()"
   ]
  },
  {
   "cell_type": "code",
   "execution_count": 236,
   "metadata": {},
   "outputs": [
    {
     "data": {
      "text/plain": [
       "[' в Тюмени',\n",
       " ' в Санкт-Петербурге',\n",
       " nan,\n",
       " ' в Москве',\n",
       " ' в Ярославле',\n",
       " ' в Пскове',\n",
       " ' в Волгограде',\n",
       " ' в Уфе',\n",
       " ' в Нижнем Новгороде',\n",
       " ' в Ростове-на-Дону',\n",
       " ' в Воронеже',\n",
       " ' в Краснодаре',\n",
       " ' в Белгороде',\n",
       " ' в Симферополе',\n",
       " ' в Супонево',\n",
       " ' в Лакинске',\n",
       " ' в Югорске',\n",
       " ' в Архангельске',\n",
       " ' в Магнитогорске',\n",
       " ' в Волжском',\n",
       " ' в Минеральных Водах',\n",
       " ' в Красноярске',\n",
       " ' в Рязани',\n",
       " ' в Самаре',\n",
       " ' в Ставрополе',\n",
       " ' в Раменском',\n",
       " ' в Орле',\n",
       " ' в Иркутске',\n",
       " ' в Екатеринбурге',\n",
       " ' в Котельниках',\n",
       " ' в Твери',\n",
       " ' в Челябинске',\n",
       " ' в Набережных Челнах',\n",
       " ' в Казани',\n",
       " ' в Перми',\n",
       " ' в Брянске',\n",
       " ' в Ногинске',\n",
       " ' в Йошкар-Оле',\n",
       " ' в Чебоксарах',\n",
       " ' в Химках',\n",
       " ' в Металлплощадке',\n",
       " ' в Саратове',\n",
       " ' в Смоленске',\n",
       " ' в Клинцах',\n",
       " ' в Калуге',\n",
       " ' в Севастополе',\n",
       " ' в Знамени Октября',\n",
       " ' в Кудрово',\n",
       " ' в Вологде',\n",
       " ' в Ульяновске',\n",
       " ' в Мурманске',\n",
       " ' в Новороссийске',\n",
       " ' в Старом Осколе',\n",
       " ' в Калининграде',\n",
       " ' в Мытищах',\n",
       " ' в Новосибирске',\n",
       " ' в Туле',\n",
       " ' в Воронежской области',\n",
       " ' в Великом Новгороде',\n",
       " ' в Гусь-Хрустальном',\n",
       " ' в Реутове',\n",
       " ' в Заречье',\n",
       " ' в Нефтеюганске',\n",
       " ' в Григорьеве',\n",
       " ' в Мурино',\n",
       " ' в Яхроме',\n",
       " ' в Липецке',\n",
       " ' в Сочи',\n",
       " ' в Балашихе',\n",
       " ' в Родниках',\n",
       " ' в Ижевске',\n",
       " ' в Выборге',\n",
       " ' в Пензе',\n",
       " ' в Нижнем Тагиле',\n",
       " ' в Керчи',\n",
       " ' в Голицыно',\n",
       " ' в Павловском Посаде',\n",
       " ' в Обнинске',\n",
       " ' в Рыбинске',\n",
       " ' в Кирове',\n",
       " ' в Миассе',\n",
       " ' в Коломне',\n",
       " ' в Звёздном',\n",
       " ' в Элисте',\n",
       " ' в Таганроге',\n",
       " ' в Новокузнецке',\n",
       " ' в Кузнецке',\n",
       " ' в Стерлитамаке',\n",
       " ' в Электростали',\n",
       " ' в Лабинске',\n",
       " ' в Усть-Донецком',\n",
       " ' в Бийске',\n",
       " ' в Немчиновке',\n",
       " ' в Полевском',\n",
       " ' в Ржавках',\n",
       " ' в Горках-10',\n",
       " ' во Владимире',\n",
       " ' в Афонино',\n",
       " ' в Королёве',\n",
       " ' в Курске',\n",
       " ' в Орске',\n",
       " ' в Подольске',\n",
       " ' в Гурьевске',\n",
       " ' в Долгопрудном',\n",
       " ' в Северодвинске',\n",
       " ' в Люберцах',\n",
       " ' в Балабаново',\n",
       " ' в Раздорах',\n",
       " ' в Саранске',\n",
       " ' в Титове',\n",
       " ' в Оренбурге',\n",
       " ' в Дмитрове',\n",
       " ' в Берёзовском',\n",
       " ' в Краснозаводске',\n",
       " ' в Старице',\n",
       " ' в Старой Купавне',\n",
       " ' в Павловске',\n",
       " ' в Ачинске',\n",
       " ' в Елабуге',\n",
       " ' в Ессентуках',\n",
       " ' в Череповце',\n",
       " ' в Нахабино',\n",
       " ' во Фряново',\n",
       " ' в Тамбове',\n",
       " ' в Энгельсе',\n",
       " ' в Никольске',\n",
       " ' в Зубово',\n",
       " ' в Канаше',\n",
       " ' в Новочеркасске',\n",
       " ' в Ялте',\n",
       " ' в Зеленограде',\n",
       " ' в Хомутово',\n",
       " ' в Джанкое',\n",
       " ' в Сергиевом Посаде',\n",
       " ' в Кемерове',\n",
       " ' в Тольятти',\n",
       " ' в Омске',\n",
       " ' в Сургуте',\n",
       " ' в Кудепсте',\n",
       " ' в Иванове',\n",
       " ' в Витебске',\n",
       " ' в Высокой Горе',\n",
       " ' в Киржаче',\n",
       " ' в Нижнекамске',\n",
       " ' в Домодедово',\n",
       " ' в Куженере',\n",
       " ' в Кургане',\n",
       " ' в Качканаре',\n",
       " ' в Одинцово',\n",
       " ' в Альметьевске',\n",
       " ' в Курчатове',\n",
       " ' в Никольском',\n",
       " ' в Кинешме',\n",
       " ' в Евпатории',\n",
       " ' в Ивантеевке',\n",
       " ' в Дзержинске',\n",
       " ' в Красногорске',\n",
       " ' в Усть-Катаве',\n",
       " ' в Балакове',\n",
       " ' в Алуште',\n",
       " ' в Клину',\n",
       " ' в Балашове',\n",
       " ' в Дрожжино',\n",
       " ' в Пушкино',\n",
       " ' в Красноармейске',\n",
       " ' в Бузулуке',\n",
       " ' в Роговской',\n",
       " ' в Шепси',\n",
       " ' в Бакалах',\n",
       " ' в Мирном',\n",
       " ' в Абакане',\n",
       " ' в Барнауле',\n",
       " ' в Сарапуле',\n",
       " ' в Армавире',\n",
       " ' в Камышине',\n",
       " ' в Пятигорске',\n",
       " ' в Чаплыгине',\n",
       " ' в Шуе',\n",
       " ' в Красной Яруге',\n",
       " ' в Вышестеблиевской',\n",
       " ' в Костроме',\n",
       " ' в Апрелевке',\n",
       " ' в Семенове',\n",
       " ' в Лесном городке',\n",
       " ' в Макарьеве',\n",
       " ' в Саках',\n",
       " ' в Газопроводе',\n",
       " ' в Видном',\n",
       " ' в Петрозаводске',\n",
       " ' во Фрязино',\n",
       " ' в Сыктывкаре',\n",
       " ' в Кумертау',\n",
       " ' в Лыткарине',\n",
       " ' в Чистополе',\n",
       " ' в Минске',\n",
       " ' в Алупке',\n",
       " ' в Великом Устюге',\n",
       " ' в Аксае',\n",
       " ' в Щелково',\n",
       " ' в Сосновом Бору',\n",
       " ' в Голубом',\n",
       " ' в Асекеево',\n",
       " ' в Геленджике',\n",
       " ' в Рузе',\n",
       " ' в Давлеканово',\n",
       " ' в Новом Уренгое',\n",
       " ' в Шумихе',\n",
       " ' в Нижневартовске',\n",
       " ' в Пыть-Яхе',\n",
       " ' в Колпино',\n",
       " ' в Серебряных Прудах',\n",
       " ' в Ростове',\n",
       " ' в Лангепасе',\n",
       " ' в Муроме',\n",
       " ' в Батайске',\n",
       " ' в Новом',\n",
       " ' в Аркаулово',\n",
       " ' в Верещагино',\n",
       " ' в Безенчуке',\n",
       " ' в Старых Атагах',\n",
       " ' в Краснозатонском',\n",
       " ' в Наро-Фоминске',\n",
       " ' в Супсехе',\n",
       " ' в Тюкалинске',\n",
       " ' в Стройкерамике',\n",
       " ' в Зилаире',\n",
       " ' в Канске',\n",
       " ' в Звенигороде',\n",
       " ' в Татарской Каргале',\n",
       " ' в Томске',\n",
       " ' в Адамовке',\n",
       " ' во Владивостоке',\n",
       " ' в Приморско-Ахтарске',\n",
       " ' в Буздяке',\n",
       " ' в Гродно',\n",
       " ' в Бугульме',\n",
       " ' в Шадринске',\n",
       " ' в Протвино',\n",
       " ' в Караиделе',\n",
       " ' в Белиджи',\n",
       " ' в Ишимбае',\n",
       " ' в Кораблино',\n",
       " ' в Кемере',\n",
       " ' в Ангарске',\n",
       " ' в Новокуйбышевске',\n",
       " ' в Осе',\n",
       " ' в Магарамкенте',\n",
       " ' в Губкинском',\n",
       " ' в Полоцке',\n",
       " ' в Ясном',\n",
       " ' в Братске',\n",
       " ' в Прасковее',\n",
       " ' в Воскресенском',\n",
       " ' в Туймазах',\n",
       " ' в Астрахани',\n",
       " ' в Крымске',\n",
       " ' в Чусовом',\n",
       " ' в Старомусине',\n",
       " ' в Ленине',\n",
       " ' в Туапсе',\n",
       " ' в Гае',\n",
       " ' в Каспийске',\n",
       " ' в Нефтекамске',\n",
       " ' в Лениногорске',\n",
       " ' в Кирово-Чепецке',\n",
       " ' в Нижнегорском',\n",
       " ' в Мариинске',\n",
       " ' в Ивделе',\n",
       " ' в Емве',\n",
       " ' в Бресте',\n",
       " ' в Рославле',\n",
       " ' в Пустошке',\n",
       " ' в Махачкале',\n",
       " ' в Сальске',\n",
       " ' в Исетском',\n",
       " ' в Черногорске',\n",
       " ' в Георгиевске',\n",
       " ' в Кинеле',\n",
       " ' в Рощино',\n",
       " ' в Харовске',\n",
       " ' в Бешенковичах',\n",
       " ' в Кызыле',\n",
       " ' в Снежинске',\n",
       " ' в Шаумяне',\n",
       " ' в Когалыме',\n",
       " ' в Языково',\n",
       " ' в Плесецке',\n",
       " ' в Лесном',\n",
       " ' в Верхнеяркееве',\n",
       " ' в Петра Дубраве',\n",
       " ' в Кунгуре',\n",
       " ' в Глазове',\n",
       " ' в Димитровграде',\n",
       " ' в Николаевской',\n",
       " ' в Советском',\n",
       " ' в Винзилях',\n",
       " ' в Салавате',\n",
       " ' в Феодосии',\n",
       " ' в Краснотурьинске',\n",
       " ' в Сорочинске',\n",
       " ' в Михайловске',\n",
       " ' в Гагарине',\n",
       " ' в Ханты-Мансийске',\n",
       " ' в Кизилюрте',\n",
       " ' в Новогольском',\n",
       " ' в Фёдоровской',\n",
       " ' в Абинске',\n",
       " ' в Старобалтачево',\n",
       " ' в Бердюжье',\n",
       " ' в Енисейске',\n",
       " ' в Новых Бурасах',\n",
       " ' в Медведево',\n",
       " ' в Байконуре',\n",
       " ' в Тарко-Сале',\n",
       " ' в Шарье',\n",
       " ' в Кушве',\n",
       " ' в Шахтах',\n",
       " ' в Новом Атлашево',\n",
       " ' в Москве и Московской области',\n",
       " ' в Преображенской',\n",
       " ' в Рождествене',\n",
       " ' в Волхове',\n",
       " ' в Ярцево',\n",
       " ' в Сычевке',\n",
       " ' в Соликамске',\n",
       " ' в Котельниче',\n",
       " ' в Ахтубинске',\n",
       " ' в Западной Двине',\n",
       " ' в Карталах',\n",
       " ' в Нижней Санибе',\n",
       " ' в Балезино',\n",
       " ' в Энеме',\n",
       " ' в Кисловодске',\n",
       " ' в Салехарде',\n",
       " ' в Волгодонске',\n",
       " ' в Попово-Лежачах',\n",
       " ' в Азове',\n",
       " ' в Харпе',\n",
       " ' в Валуйках',\n",
       " ' в Белебее',\n",
       " ' в Ухте',\n",
       " ' в Карачаево-Черкесской Республике',\n",
       " ' в Жуковке',\n",
       " ' в Суворовской',\n",
       " ' в Кировске',\n",
       " ' в Дубне',\n",
       " ' в Гомеле',\n",
       " ' в Сызрани',\n",
       " ' во Всеволожске',\n",
       " ' в Белорецке',\n",
       " ' в Судже',\n",
       " ' в Россоши',\n",
       " ' в Репном',\n",
       " ' в Лесосибирске',\n",
       " ' в Свободном',\n",
       " ' в Хабаровске',\n",
       " ' в Новомосковске',\n",
       " ' в Красной Поляне',\n",
       " ' в Чертково',\n",
       " ' в Собинке',\n",
       " ' в Выползове',\n",
       " ' в Отрадном',\n",
       " ' в Сосновом',\n",
       " ' в Ишиме',\n",
       " ' в Порхове',\n",
       " ' во Владикавказе',\n",
       " ' в Пролетарске',\n",
       " ' в Кандалакше',\n",
       " ' в Красноперекопске',\n",
       " ' в Кропоткине',\n",
       " ' в Ярославской области',\n",
       " ' в Железногорске',\n",
       " ' в Гуково',\n",
       " ' в Анапе',\n",
       " ' в Игре',\n",
       " ' в Семилуках',\n",
       " ' в Курганинске',\n",
       " ' в Тихорецке',\n",
       " ' в Кольчугине',\n",
       " ' в Вязниках',\n",
       " ' в Поварово',\n",
       " ' в Левокумке',\n",
       " ' в Кубинке',\n",
       " ' в Павловской',\n",
       " ' в Троицке',\n",
       " ' в Чебаркуле',\n",
       " ' в Верхнениколаевском',\n",
       " ' в Пригородном',\n",
       " ' в Кашире',\n",
       " ' в Орехово-Зуево',\n",
       " ' в Красногвардейском',\n",
       " ' в Гагино',\n",
       " ' в Коммунарке',\n",
       " ' в Данилове',\n",
       " ' в Коряжме',\n",
       " ' в Успенском',\n",
       " ' в Жуковском',\n",
       " ' в Шушарах',\n",
       " ' в Ардатове',\n",
       " ' в Красном Селе',\n",
       " ' в Фатеже',\n",
       " ' в Новозыбкове',\n",
       " ' в Унече',\n",
       " ' в Шемордане',\n",
       " ' в Каменске-Уральском',\n",
       " ' в Большой Елховке',\n",
       " ' в Гатчине',\n",
       " ' в Алексине',\n",
       " ' в Борисково',\n",
       " ' в Моршанске',\n",
       " ' в Октябрьском',\n",
       " ' в Рыбхозе',\n",
       " ' в Гайдуке',\n",
       " ' в Судиславле',\n",
       " ' в Сатисе',\n",
       " ' в Калининской',\n",
       " ' в Тальменке',\n",
       " ' в Истре',\n",
       " ' в Новосемейкине',\n",
       " ' в Беляевке',\n",
       " ' в Лямбире',\n",
       " ' в Ельце',\n",
       " ' в Тбилисской',\n",
       " ' в Старом Шайгово',\n",
       " ' в Реже',\n",
       " ' в Североуральске',\n",
       " ' в Чехове',\n",
       " ' в Кочубеевском',\n",
       " ' в Горячем Ключе',\n",
       " ' в Железнодорожном',\n",
       " ' в Камешково',\n",
       " ' в Новотитаровской',\n",
       " ' в Угличе',\n",
       " ' в Нелидово',\n",
       " ' в Костомукше',\n",
       " ' в Ряжске',\n",
       " ' в Калязине',\n",
       " ' в Рыльске',\n",
       " ' в Людиново',\n",
       " ' в Усмани',\n",
       " ' в Дагомысе',\n",
       " ' в Малоярославце',\n",
       " ' в Кимрах',\n",
       " ' в Советске',\n",
       " ' в Суровикино',\n",
       " ' в Боготоле',\n",
       " ' в Тучково',\n",
       " ' в Путилково',\n",
       " ' в Выксе',\n",
       " ' в Урюпинске',\n",
       " ' в Гусеве',\n",
       " ' в Лодейном Поле',\n",
       " ' в Зарайске',\n",
       " ' в Выселках',\n",
       " ' в Ноябрьске',\n",
       " ' в Совхозном',\n",
       " ' в Воскресенске',\n",
       " ' в Кореновске',\n",
       " ' в Чернянке',\n",
       " ' в Орловке',\n",
       " ' в Будённовске',\n",
       " ' в Среднем',\n",
       " ' в Кудиново',\n",
       " ' в Волоконовке',\n",
       " ' в Енотаевке',\n",
       " ' в Целине',\n",
       " ' в Радужном',\n",
       " ' в Шатуре',\n",
       " ' в Кингисеппе',\n",
       " ' в Нальчике',\n",
       " ' в Яблоновском',\n",
       " ' в Слободском',\n",
       " ' в Нягани',\n",
       " ' в Бахчисарае',\n",
       " ' в Тарумовке',\n",
       " ' в Острове',\n",
       " ' в Парголово',\n",
       " ' в Почепе',\n",
       " ' в Мозыре',\n",
       " ' в Усинске',\n",
       " ' в Мичуринске',\n",
       " ' в Бронницах',\n",
       " ' в Урае',\n",
       " ' в Никеле',\n",
       " ' в Лянторе',\n",
       " ' в Лабытнанги',\n",
       " ' в Невинномысске',\n",
       " ' в Белореченске',\n",
       " ' в Солнечнодольске',\n",
       " ' в Объячеве',\n",
       " ' в Зеленодольске',\n",
       " ' в Удомле',\n",
       " ' в Белоярском',\n",
       " ' в Петухово',\n",
       " ' в Отрадной',\n",
       " ' в Подгородней Покровке',\n",
       " ' в Белозерском',\n",
       " ' в Озерках',\n",
       " ' в Егорьевске',\n",
       " ' в Прокопьевске',\n",
       " ' в Судаке',\n",
       " ' в Петушках',\n",
       " ' в Заозёрске',\n",
       " ' в Улан-Удэ',\n",
       " ' в Ереване',\n",
       " ' в Арзгире',\n",
       " ' в Исилькуле',\n",
       " ' в Калаче-на-Дону',\n",
       " ' в Беларуси',\n",
       " ' в Большом Козино',\n",
       " ' в Новониколаевке',\n",
       " ' в Карпинске',\n",
       " ' в Новоалександровске',\n",
       " ' в Усть-Куломе',\n",
       " ' в Хуторе Маяковского',\n",
       " ' в Зеленогорске',\n",
       " ' в Кобрине',\n",
       " ' в Соль-Илецке',\n",
       " ' в Киселёвске',\n",
       " ' в Назрани',\n",
       " ' в Солонцах',\n",
       " ' в Шебекино',\n",
       " ' в Теберде',\n",
       " ' в Армянске',\n",
       " ' в Новом Сулаке',\n",
       " ' в Хакуринохабле',\n",
       " ' в Маркова',\n",
       " ' в Полярном',\n",
       " ' в Скопине',\n",
       " ' в Мурмашах',\n",
       " ' в Железноводске',\n",
       " ' в Апшеронске',\n",
       " ' в Ершове',\n",
       " ' в Майкопе',\n",
       " ' в Новопокровской',\n",
       " ' в Верхней Пышме',\n",
       " ' в Ракитном',\n",
       " ' в Ирбите',\n",
       " ' в Находке',\n",
       " ' в Поселке совхоза имени Ленина',\n",
       " ' в Колянове',\n",
       " ' в Амурске',\n",
       " ' в Заводоуковске',\n",
       " ' в Оленегорске',\n",
       " ' в Горно-Алтайске',\n",
       " ' в Кулешовке',\n",
       " ' в Черниговке',\n",
       " ' в Узловой',\n",
       " ' в Бородино',\n",
       " ' в Абазе',\n",
       " ' в Междуреченске',\n",
       " ' в Красной Горке',\n",
       " ' в Петровом Вале',\n",
       " ' в Ленинске-Кузнецком',\n",
       " ' в Коврове',\n",
       " ' в Покрове',\n",
       " ' в Новобейсугской',\n",
       " ' в Зимовниках',\n",
       " ' в Щекино',\n",
       " ' в Архипо-Осиповке',\n",
       " ' в Омском',\n",
       " ' в Черемхово',\n",
       " ' в Саянске',\n",
       " ' в Советской Хакасии',\n",
       " ' в Мамонове',\n",
       " ' в Чите',\n",
       " ' в Назарово',\n",
       " ' в Афипском',\n",
       " ' в Чистоозерном',\n",
       " ' в Серпухове',\n",
       " ' в Богородске',\n",
       " ' в Лунинце',\n",
       " ' в Сосновоборске',\n",
       " ' в Чивереве',\n",
       " ' в Бердске',\n",
       " ' в Лобне',\n",
       " ' в Брюховецкой',\n",
       " ' в Поспелихе',\n",
       " ' в Тарасовском',\n",
       " ' в Первомайском',\n",
       " ' в Учалах',\n",
       " ' в Измалково',\n",
       " ' в Кореизе',\n",
       " ' в Янине-1',\n",
       " ' в Родионово-Несветайской',\n",
       " ' в Жирекене',\n",
       " ' в Ступино',\n",
       " ' в Кувандыке',\n",
       " ' в Навашино',\n",
       " ' в Благовещенске',\n",
       " ' в Нарочи',\n",
       " ' в Слюдянке',\n",
       " ' в Якутске',\n",
       " ' в Нерюнгри',\n",
       " ' в Усть-Илимске',\n",
       " ' в Губахе',\n",
       " ' в Артёме',\n",
       " ' в Новосибирской области',\n",
       " ' в Шимановске',\n",
       " ' в Белово',\n",
       " ' в Шелехове',\n",
       " ' в Минусинске',\n",
       " ' в Дивногорске',\n",
       " ' в Онгудае',\n",
       " ' в Уссурийске',\n",
       " ' в Биробиджане',\n",
       " ' в Городовиковске',\n",
       " ' в Удельной',\n",
       " ' в Березнике',\n",
       " ' в Норильске',\n",
       " ' в Боброве',\n",
       " ' в Осинниках',\n",
       " ' в Великих Луках',\n",
       " ' в Таре',\n",
       " ' в Новоалтайске',\n",
       " ' в Чунском',\n",
       " ' в Завитинске',\n",
       " ' в Линде',\n",
       " ' в Колпашево',\n",
       " ' в Дальнереченске',\n",
       " ' в Алзамае',\n",
       " ' в Петропавловске-Камчатском',\n",
       " ' в Джиде',\n",
       " ' в Ермаковском',\n",
       " ' в Ужуре',\n",
       " ' в Черепаново',\n",
       " ' в Майме',\n",
       " ' в Калтане',\n",
       " ' в Вилючинске',\n",
       " ' в Приаргунске',\n",
       " ' в Карасуке',\n",
       " ' в Тулуне',\n",
       " ' в Новодвинске',\n",
       " ' в Комсомольске-на-Амуре',\n",
       " ' в Новой Адыгее',\n",
       " ' в Еманжелинске',\n",
       " ' в Ёлкине',\n",
       " ' в Асино',\n",
       " ' в Куйтуне',\n",
       " ' в Бугуруслане',\n",
       " ' в Ленске',\n",
       " ' в Абане',\n",
       " ' в Пионерском',\n",
       " ' в Бодайбо',\n",
       " ' в Пугачеве',\n",
       " ' в Тайшете',\n",
       " ' в Магадане',\n",
       " ' в Фокино',\n",
       " ' в Тынде',\n",
       " ' в Олонце',\n",
       " ' в Аскизе',\n",
       " ' в Куйбышеве',\n",
       " ' в Купино',\n",
       " ' в Дудинке',\n",
       " ' в Рубцовске',\n",
       " ' в Багаряке',\n",
       " ' в Нариманове',\n",
       " ' в Красном Чикое',\n",
       " ' в Белогорске',\n",
       " ' в Изобильном',\n",
       " ' в Сергеевке',\n",
       " ' в Искитиме',\n",
       " ' в Козульке',\n",
       " ' в Южно-Сахалинске',\n",
       " ' в Котласе',\n",
       " ' в Топках',\n",
       " ' в Сатке',\n",
       " ' в Некрасовском',\n",
       " ' в Николаевске-на-Амуре',\n",
       " ' в Шарыпово',\n",
       " ' в Барде',\n",
       " ' в Бельтирском',\n",
       " ' в Краснотуранске',\n",
       " ' в Вельске',\n",
       " ' в Луховицах',\n",
       " ' в Старотитаровской',\n",
       " ' в Молодечно',\n",
       " ' в Воркуте',\n",
       " ' в Оби',\n",
       " ' в Няндоме',\n",
       " ' в Анжеро-Судженске',\n",
       " ' в Адагуме',\n",
       " ' в Нижнем Куранахе',\n",
       " ' в Астафьевке',\n",
       " ' в Солигорске',\n",
       " ' в Баклашах',\n",
       " ' в Буйнакске',\n",
       " ' в Усть-Лабинске',\n",
       " ' в Волковыске',\n",
       " ' в Хилке',\n",
       " ' в Каменоломнях',\n",
       " ' в Жатае',\n",
       " ' в Юрге',\n",
       " ' в Линёве',\n",
       " ' в Излучинске',\n",
       " ' в Тимашевске',\n",
       " ' в Адлере',\n",
       " ' в Партизанске',\n",
       " ' в Большом Камне',\n",
       " ' в Нижнеангарске',\n",
       " ' в Марксе',\n",
       " ' в Нижегородской области',\n",
       " ' в Саргатском',\n",
       " ' в Лермонтове',\n",
       " ' в Прохладном',\n",
       " ' в Новоенисейске',\n",
       " ' в Суздале',\n",
       " ' в Больших Березниках',\n",
       " ' в Можайске',\n",
       " ' в Кедровом',\n",
       " ' в Агаповке',\n",
       " ' в Пинске',\n",
       " ' в Бобруйске',\n",
       " ' в Алексеевке',\n",
       " ' в Ванино',\n",
       " ' в Багане',\n",
       " ' в Могилёве',\n",
       " ' в Емельяново',\n",
       " ' в Лиде',\n",
       " ' в Байкалово',\n",
       " ' в Первоуральске',\n",
       " ' в Марьянской',\n",
       " ' в Нижней Туре',\n",
       " ' в Сафоново',\n",
       " ' в Копейске',\n",
       " ' в Новотроицке',\n",
       " ' в Городце',\n",
       " ' в Поселке имени Тельмана',\n",
       " ' в Усолье-Сибирском',\n",
       " ' в Раевском',\n",
       " ' в Североморске',\n",
       " ' в Мегионе',\n",
       " ' в Сотниково',\n",
       " ' в Курагино',\n",
       " ' в Лопатине',\n",
       " ' в Саяногорске',\n",
       " ' в Нарьян-Маре',\n",
       " ' в Казачинском',\n",
       " ' в Боровичах',\n",
       " ' в Болгаре',\n",
       " ' в Зеленоградске',\n",
       " ' в Демянске',\n",
       " ' в Кировграде',\n",
       " ' в Куртамыше',\n",
       " ' в Ялуторовске',\n",
       " ' в Медвежьих Озёрах',\n",
       " ' в Невеле',\n",
       " ' в Светлогорске',\n",
       " ' в Волчанске',\n",
       " ' в Криводановке',\n",
       " ' в Новосысоевке',\n",
       " ' в Новоджерелиевской',\n",
       " ' в Варениковской',\n",
       " ' в Левокумском',\n",
       " ' в Михайловке',\n",
       " ' в Рассвете',\n",
       " ' в Пешково',\n",
       " ' в Тобольске',\n",
       " ' в Суханове',\n",
       " ' в Лисках',\n",
       " ' в Старково',\n",
       " ' в Черкесске',\n",
       " ' в Бологое',\n",
       " ' в Малоязе',\n",
       " ' в Ревде',\n",
       " ' в Новоуральске',\n",
       " ' в Сергаче',\n",
       " ' в Морозовске',\n",
       " ' в Верхнем Уфалее',\n",
       " ' в Касимове',\n",
       " ' в Славянске-на-Кубани',\n",
       " ' в Кизнере',\n",
       " ' в Чайковском',\n",
       " ' в Конаково',\n",
       " ' в Винсадах',\n",
       " ' в Мелеузе',\n",
       " ' в Нижнеудинске',\n",
       " ' в Невьянске',\n",
       " ' в Ейске',\n",
       " ' в Ермолино',\n",
       " ' в Серове',\n",
       " ' в Ахтырском',\n",
       " ' в Шумерле',\n",
       " ' в Сураже',\n",
       " ' в Красноуфимске',\n",
       " ' в Ветлуге',\n",
       " ' в Засечном',\n",
       " ' в Мегете',\n",
       " ' в Чистых Прудах',\n",
       " ' в Кабардинке',\n",
       " ' в Ташле',\n",
       " ' в Вольске',\n",
       " ' в Вязьме',\n",
       " ' в Слуцке',\n",
       " ' в Сарове',\n",
       " ' в Кохме',\n",
       " ' в Златоусте',\n",
       " ' в Соболихе',\n",
       " ' в Онохое',\n",
       " ' в Балаклаве',\n",
       " ' в Богдановиче',\n",
       " ' в Пласте',\n",
       " ' в Бурибае',\n",
       " ' в Мелихове',\n",
       " ' в Кондрово',\n",
       " ' в Александрове',\n",
       " ' в Павлово',\n",
       " ' во Льве Толстом',\n",
       " ' в Хороле',\n",
       " ' в Нижних Сергах',\n",
       " ' в Ермекеево',\n",
       " ' в Уйском',\n",
       " ' в Черноголовке',\n",
       " ' в Горном',\n",
       " ' в Калачинске',\n",
       " ' в Нагорье',\n",
       " ' в Палехе',\n",
       " ' в Дюртюлях',\n",
       " ' в Калужской Опытной Сельскохозяйственной Станции',\n",
       " ' в Лотошино',\n",
       " ' в Заволжске',\n",
       " ' в Николаевске',\n",
       " ' в Тогучине',\n",
       " ' в Апатитах',\n",
       " ' в Барабинске',\n",
       " ' в Башкортостане',\n",
       " ' в Борисоглебске',\n",
       " ' в Боброво',\n",
       " ' в Кодинске',\n",
       " ' в Чесме',\n",
       " ' в Северской',\n",
       " ' в Дзержинском',\n",
       " ' в Кыштыме',\n",
       " ' в Посёлке Центральной усадьбы совхоза Мир',\n",
       " ' в Марусине',\n",
       " ' в Эртиле',\n",
       " ' в Поселке совхоза Комсомолец',\n",
       " ' в Усть-Куте',\n",
       " ' в Артёмовском',\n",
       " ' в Шексне',\n",
       " ' в Хасавюрте',\n",
       " ' в Арзамасе',\n",
       " ' в Виноградном',\n",
       " ' в Бураево',\n",
       " ' в Петропавловске',\n",
       " ' в Нытве',\n",
       " ' в Переславле-Залесском',\n",
       " ' в Быкове',\n",
       " ' в Сердобске',\n",
       " ' в Монино',\n",
       " ' в Краснознаменске',\n",
       " ' в Массандре',\n",
       " ' в Кемле',\n",
       " ' в Волоколамске',\n",
       " ' в Электроуглях',\n",
       " ' в Орше',\n",
       " ' в Донецке',\n",
       " ' в Солнечногорском',\n",
       " ' в Каменске',\n",
       " ' в Речице',\n",
       " ' в Харабали',\n",
       " ' в Свирске',\n",
       " ' в Вурнарах',\n",
       " ' в Матвеевом Кургане',\n",
       " ' в Серышеве',\n",
       " ' в Грозном',\n",
       " ' в Барвихе',\n",
       " ' в Каменске-Шахтинском',\n",
       " ' в Комсомольском',\n",
       " ' в Искателей',\n",
       " ' в Пушкарном',\n",
       " ' в Усть-Джегуте',\n",
       " ' в Большой Орловке',\n",
       " ' в Барановичах',\n",
       " ' в Новомышастовской',\n",
       " ' в Бетлице',\n",
       " ' в Незлобной',\n",
       " ' в Дедовске',\n",
       " ' в Новом Некоузе',\n",
       " ' в Тульском',\n",
       " ' в Дагестанских Огнях',\n",
       " ' в Сухом Логу',\n",
       " ' в Зеленоборском',\n",
       " ' в Пожве',\n",
       " ' в Новосадовом',\n",
       " ' в Мортке',\n",
       " ' в Карабаше',\n",
       " ' в Цимлянске',\n",
       " ' в Тырныаузе',\n",
       " ' в Логойске',\n",
       " ' в Тенгинской',\n",
       " ' в Новосокольниках',\n",
       " ' в Пестово',\n",
       " ' в Старом Крыму',\n",
       " ' в Анапской',\n",
       " ' в Рязанской',\n",
       " ' в Кшенском',\n",
       " ' в Беловском',\n",
       " ' в Глазуновке',\n",
       " ' в Чудово',\n",
       " ' в Черданцево',\n",
       " ' в Пристени',\n",
       " ' в Лебедяни',\n",
       " ' в Фоминском',\n",
       " ' в Новоульяновске',\n",
       " ' в Гарболово',\n",
       " ' в Сестрорецке',\n",
       " ' в Михневе',\n",
       " ' в Труновском',\n",
       " ' в Салтыковке',\n",
       " ' на Бору',\n",
       " ' в Кузьмином',\n",
       " ' в Ивангороде',\n",
       " ' в Шаховской',\n",
       " ' в Мантурово',\n",
       " ' в Луге',\n",
       " ' в Бабаево',\n",
       " ' в Увате',\n",
       " ' в Вичуге',\n",
       " ' в Житнево',\n",
       " ' в Воткинске',\n",
       " ' в Литвиново',\n",
       " ' в Тихвине',\n",
       " ' в Энколове',\n",
       " ' в Сысерти',\n",
       " ' в Рузаевке',\n",
       " ' в Лунёве',\n",
       " ' в Ломоносове',\n",
       " ' в Глебовском',\n",
       " ' в Куровском',\n",
       " ' в Челюскинском',\n",
       " ' в Черном Отроге',\n",
       " ' в Кромине',\n",
       " ' во Ржеве',\n",
       " ' в Тросне',\n",
       " ' в Солнечногорске',\n",
       " ' в Хотьково',\n",
       " ' в Старой Руссе',\n",
       " ' в Шишкином Лесу',\n",
       " ' в Островцах',\n",
       " ' в Томилино',\n",
       " ' в Андреевке',\n",
       " ' в ВНИИССОК',\n",
       " ' в Петергофе',\n",
       " ' в Яме',\n",
       " ' в Малаховке',\n",
       " ' в Заречном',\n",
       " ' в Калаче',\n",
       " ' в Приозерске',\n",
       " ' в Коммунаре',\n",
       " ' в Бежецке',\n",
       " ' в Талице',\n",
       " ' в Ливнах',\n",
       " ' в Муравленко',\n",
       " ' в Воинке',\n",
       " ' в Урус-Мартане',\n",
       " ' в Березниках',\n",
       " ' в Повалихине',\n",
       " ' в Веневе',\n",
       " ' в Арамиле',\n",
       " ' в Цибино',\n",
       " ' в Пушкине',\n",
       " ' в Бачурино',\n",
       " ' в Золотухино',\n",
       " ' в Оленино',\n",
       " ' в Ивацевичах',\n",
       " ' в Солнечном',\n",
       " ' в Сахарном Доле',\n",
       " ' в Трошково',\n",
       " ' в Горках-2',\n",
       " ' в Касли',\n",
       " ' в Новоивановском',\n",
       " ' в поселке Некрасовка',\n",
       " ' в Медведково',\n",
       " ' в Орде',\n",
       " ' в Надыме',\n",
       " ' в Донском',\n",
       " ' в Софьино',\n",
       " ' в Петровом-Дальнем',\n",
       " ' в Слободе',\n",
       " ' в Лебяжьем',\n",
       " ' в Красном Сулине',\n",
       " ' в Республике Татарстан',\n",
       " ' в Лазаревском',\n",
       " ' в Лысых Горах',\n",
       " ' в Алейске',\n",
       " ' в Товарково',\n",
       " ' в Болтино',\n",
       " ' в Электрогорске',\n",
       " ' в Сидоровском',\n",
       " ' в Лужках',\n",
       " ' в Таежном',\n",
       " ' в Каменногорске',\n",
       " ' в Металлострое',\n",
       " ' в Сортавале',\n",
       " ' в Грязях',\n",
       " ' в Иртышском',\n",
       " ' в Задонске',\n",
       " ' в Дарасуне',\n",
       " ' в Тавде',\n",
       " ...]"
      ]
     },
     "execution_count": 236,
     "metadata": {},
     "output_type": "execute_result"
    }
   ],
   "source": [
    "list(data['region'].unique())"
   ]
  },
  {
   "cell_type": "code",
   "execution_count": null,
   "metadata": {},
   "outputs": [],
   "source": []
  },
  {
   "cell_type": "code",
   "execution_count": null,
   "metadata": {},
   "outputs": [],
   "source": []
  },
  {
   "cell_type": "code",
   "execution_count": null,
   "metadata": {},
   "outputs": [],
   "source": []
  },
  {
   "cell_type": "code",
   "execution_count": 239,
   "metadata": {},
   "outputs": [
    {
     "data": {
      "text/plain": [
       "0         Автомобиль приобретался у официального дилера ...\n",
       "1         Группа компаний Элан Моторс официальный дилер ...\n",
       "2         Специальные предложения на автомобили в наличи...\n",
       "3          Купим Ваш автомобиль ДОРОГО Гарантированная с...\n",
       "4         ЛОТ 01267595 Скидка на автомобиль при покупке ...\n",
       "                                ...                        \n",
       "109759    ТЕХНИЧЕСКАЯ ГАРАНТИЯ 1 ГОД ОТ KARSO Стильный н...\n",
       "109760     ТРЕЙД ИН Выгода при обмене на Ваш авто от 30 ...\n",
       "109761     ФУНКЦИОНАЛЬНОЕ ОБОРУДОВАНИЕ Центральный замок...\n",
       "109762    Автомобиль куплен в 2012 году у официального д...\n",
       "109763     ТРЕЙД ИН Выгода при обмене на Ваш авто от 30 ...\n",
       "Name: description, Length: 109764, dtype: object"
      ]
     },
     "execution_count": 239,
     "metadata": {},
     "output_type": "execute_result"
    }
   ],
   "source": [
    "data['description']"
   ]
  },
  {
   "cell_type": "code",
   "execution_count": 100,
   "metadata": {},
   "outputs": [
    {
     "data": {
      "text/plain": [
       "Index(['body_type', 'brand', 'color', 'complectation_dict', 'description',\n",
       "       'engine_displacement', 'engine_power', 'equipment_dict', 'fuel_type',\n",
       "       'mileage', 'model_name', 'doors_number', 'production_date', 'super_gen',\n",
       "       'vehicle_transmission', 'owners', 'wheel_drive', 'views', 'date_added',\n",
       "       'region', 'price', 'cruise_control', 'electro_mirrors', 'computer',\n",
       "       'navigation', 'rain_sensor', 'alarm', 'auto_mirrors', 'climate_control',\n",
       "       'airbag', 'audio', 'model_age'],\n",
       "      dtype='object')"
      ]
     },
     "execution_count": 100,
     "metadata": {},
     "output_type": "execute_result"
    }
   ],
   "source": [
    "['complectation_dict', 'description', 'mileage', 'super_gen', 'price']"
   ]
  },
  {
   "cell_type": "code",
   "execution_count": null,
   "metadata": {},
   "outputs": [],
   "source": []
  },
  {
   "cell_type": "code",
   "execution_count": null,
   "metadata": {},
   "outputs": [],
   "source": []
  },
  {
   "cell_type": "markdown",
   "metadata": {},
   "source": [
    "# Feature Engeneering"
   ]
  },
  {
   "cell_type": "code",
   "execution_count": 151,
   "metadata": {},
   "outputs": [],
   "source": [
    "'''Let's generate a new feature \"ad_age\" based on \"date_added\". It'll show, how long this ad exists (in days)'''\n",
    "data['ad_age'] = (parsing_date - data['date_added'])\n",
    "data['ad_age'] = data['ad_age'].apply(lambda x: x.days)"
   ]
  },
  {
   "cell_type": "code",
   "execution_count": 152,
   "metadata": {},
   "outputs": [
    {
     "data": {
      "text/plain": [
       "0         6\n",
       "1         6\n",
       "2         0\n",
       "3         5\n",
       "4         0\n",
       "         ..\n",
       "109759    5\n",
       "109760    0\n",
       "109761    0\n",
       "109762    5\n",
       "109763    0\n",
       "Name: ad_age, Length: 109764, dtype: int64"
      ]
     },
     "execution_count": 152,
     "metadata": {},
     "output_type": "execute_result"
    }
   ],
   "source": [
    "data['ad_age']"
   ]
  },
  {
   "cell_type": "code",
   "execution_count": null,
   "metadata": {},
   "outputs": [],
   "source": []
  }
 ],
 "metadata": {
  "kernelspec": {
   "display_name": "Python 3",
   "language": "python",
   "name": "python3"
  },
  "language_info": {
   "codemirror_mode": {
    "name": "ipython",
    "version": 3
   },
   "file_extension": ".py",
   "mimetype": "text/x-python",
   "name": "python",
   "nbconvert_exporter": "python",
   "pygments_lexer": "ipython3",
   "version": "3.9.8"
  },
  "orig_nbformat": 4
 },
 "nbformat": 4,
 "nbformat_minor": 2
}
