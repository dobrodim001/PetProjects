{
 "cells": [
  {
   "cell_type": "markdown",
   "metadata": {},
   "source": [
    "# Import"
   ]
  },
  {
   "cell_type": "code",
   "execution_count": 1,
   "metadata": {},
   "outputs": [],
   "source": [
    "import pandas as pd\n",
    "import numpy as np\n",
    "import matplotlib.pyplot as plt\n",
    "import seaborn as sns\n",
    "sns.set()\n",
    "pd.set_option('max_columns', None)\n",
    "\n",
    "import warnings\n",
    "warnings.filterwarnings('ignore')"
   ]
  },
  {
   "cell_type": "markdown",
   "metadata": {},
   "source": [
    "# Task Description\n",
    "\n",
    "I need to predict the price of a used cars based on its features. Obviously, this is a regression problem. As a control metric, I will choose Mean Absolute Percentage Error (MAPE). It is the mean of all absolute percentage errors between the predicted and actual values.\n",
    "It both easy for end users to understand and simpler to compare model accuracy across use cases and datasets. \n",
    "\n",
    "Since the target is the price of a car in the hundreds of thousands of rubles, these values are far from 0, so I can use this metric without worrying about dividing by 0 when calculating the metric."
   ]
  },
  {
   "cell_type": "markdown",
   "metadata": {},
   "source": [
    "# Overview"
   ]
  },
  {
   "cell_type": "code",
   "execution_count": 210,
   "metadata": {},
   "outputs": [
    {
     "data": {
      "text/html": [
       "<div>\n",
       "<style scoped>\n",
       "    .dataframe tbody tr th:only-of-type {\n",
       "        vertical-align: middle;\n",
       "    }\n",
       "\n",
       "    .dataframe tbody tr th {\n",
       "        vertical-align: top;\n",
       "    }\n",
       "\n",
       "    .dataframe thead th {\n",
       "        text-align: right;\n",
       "    }\n",
       "</style>\n",
       "<table border=\"1\" class=\"dataframe\">\n",
       "  <thead>\n",
       "    <tr style=\"text-align: right;\">\n",
       "      <th></th>\n",
       "      <th>bodyType</th>\n",
       "      <th>brand</th>\n",
       "      <th>car_url</th>\n",
       "      <th>color</th>\n",
       "      <th>complectation_dict</th>\n",
       "      <th>description</th>\n",
       "      <th>engineDisplacement</th>\n",
       "      <th>enginePower</th>\n",
       "      <th>equipment_dict</th>\n",
       "      <th>fuelType</th>\n",
       "      <th>image</th>\n",
       "      <th>mileage</th>\n",
       "      <th>modelDate</th>\n",
       "      <th>model_info</th>\n",
       "      <th>model_name</th>\n",
       "      <th>name</th>\n",
       "      <th>numberOfDoors</th>\n",
       "      <th>parsing_unixtime</th>\n",
       "      <th>priceCurrency</th>\n",
       "      <th>productionDate</th>\n",
       "      <th>sell_id</th>\n",
       "      <th>super_gen</th>\n",
       "      <th>vehicleConfiguration</th>\n",
       "      <th>vehicleTransmission</th>\n",
       "      <th>vendor</th>\n",
       "      <th>Владельцы</th>\n",
       "      <th>Владение</th>\n",
       "      <th>ПТС</th>\n",
       "      <th>Привод</th>\n",
       "      <th>Руль</th>\n",
       "      <th>Состояние</th>\n",
       "      <th>Таможня</th>\n",
       "      <th>views</th>\n",
       "      <th>date_added</th>\n",
       "      <th>region</th>\n",
       "      <th>price</th>\n",
       "    </tr>\n",
       "  </thead>\n",
       "  <tbody>\n",
       "    <tr>\n",
       "      <th>0</th>\n",
       "      <td>лифтбек</td>\n",
       "      <td>SKODA</td>\n",
       "      <td>https://auto.ru/cars/used/sale/skoda/octavia/1...</td>\n",
       "      <td>белый</td>\n",
       "      <td>['cruise-control', 'multi-wheel', 'xenon', 'he...</td>\n",
       "      <td>Автомобиль приобретался у официального дилера ...</td>\n",
       "      <td>1.8 LTR</td>\n",
       "      <td>180 N12</td>\n",
       "      <td>{'cruise-control': True, 'asr': True, 'tinted-...</td>\n",
       "      <td>бензин</td>\n",
       "      <td>https://avatars.mds.yandex.net/get-autoru-vos/...</td>\n",
       "      <td>162026.0</td>\n",
       "      <td>2013.0</td>\n",
       "      <td>NaN</td>\n",
       "      <td>Octavia</td>\n",
       "      <td>Skoda Octavia III (A7)</td>\n",
       "      <td>5.0</td>\n",
       "      <td>1.632613e+09</td>\n",
       "      <td>RUB</td>\n",
       "      <td>2015.0</td>\n",
       "      <td>1.105111e+09</td>\n",
       "      <td>{'sale-data-attributes': {'asciiCat': 'cars', ...</td>\n",
       "      <td>LIFTBACK ROBOT 1.8</td>\n",
       "      <td>роботизированная</td>\n",
       "      <td>NaN</td>\n",
       "      <td>3 или более</td>\n",
       "      <td>NaN</td>\n",
       "      <td>Оригинал</td>\n",
       "      <td>передний</td>\n",
       "      <td>Левый</td>\n",
       "      <td>Не требует ремонта</td>\n",
       "      <td>Растаможен</td>\n",
       "      <td>76.0</td>\n",
       "      <td>24 сентября</td>\n",
       "      <td>в Тюмени</td>\n",
       "      <td>999000.0</td>\n",
       "    </tr>\n",
       "    <tr>\n",
       "      <th>1</th>\n",
       "      <td>лифтбек</td>\n",
       "      <td>SKODA</td>\n",
       "      <td>https://auto.ru/cars/used/sale/skoda/rapid/110...</td>\n",
       "      <td>белый</td>\n",
       "      <td>['cruise-control', 'multi-wheel', 'heated-wash...</td>\n",
       "      <td>Группа компаний Элан Моторс официальный дилер ...</td>\n",
       "      <td>1.6 LTR</td>\n",
       "      <td>110 N12</td>\n",
       "      <td>{'cruise-control': True, 'glonass': True, 'asr...</td>\n",
       "      <td>бензин</td>\n",
       "      <td>https://autoru.naydex.net/9OmUme448/624f74NbAb...</td>\n",
       "      <td>19210.0</td>\n",
       "      <td>2020.0</td>\n",
       "      <td>NaN</td>\n",
       "      <td>Rapid</td>\n",
       "      <td>Skoda Rapid II</td>\n",
       "      <td>5.0</td>\n",
       "      <td>1.632613e+09</td>\n",
       "      <td>RUB</td>\n",
       "      <td>2020.0</td>\n",
       "      <td>1.104819e+09</td>\n",
       "      <td>{'sale-data-attributes': {'asciiCat': 'cars', ...</td>\n",
       "      <td>LIFTBACK AUTOMATIC 1.6</td>\n",
       "      <td>автоматическая</td>\n",
       "      <td>NaN</td>\n",
       "      <td>1 владелец</td>\n",
       "      <td>NaN</td>\n",
       "      <td>Оригинал</td>\n",
       "      <td>передний</td>\n",
       "      <td>Левый</td>\n",
       "      <td>Не требует ремонта</td>\n",
       "      <td>Растаможен</td>\n",
       "      <td>259.0</td>\n",
       "      <td>24 сентября</td>\n",
       "      <td>в Санкт-Петербурге</td>\n",
       "      <td>1179000.0</td>\n",
       "    </tr>\n",
       "    <tr>\n",
       "      <th>2</th>\n",
       "      <td>лифтбек</td>\n",
       "      <td>SKODA</td>\n",
       "      <td>https://auto.ru/cars/new/group/skoda/rapid/217...</td>\n",
       "      <td>белый</td>\n",
       "      <td>['cruise-control', 'heated-wash-system', 'airb...</td>\n",
       "      <td>Специальные предложения на автомобили в наличи...</td>\n",
       "      <td>1.6 LTR</td>\n",
       "      <td>90 N12</td>\n",
       "      <td>{'cruise-control': True, 'glonass': True, 'esp...</td>\n",
       "      <td>бензин</td>\n",
       "      <td>https://avatars.mds.yandex.net/get-autoru-vos/...</td>\n",
       "      <td>NaN</td>\n",
       "      <td>2020.0</td>\n",
       "      <td>NaN</td>\n",
       "      <td>NaN</td>\n",
       "      <td>Skoda Rapid II</td>\n",
       "      <td>5.0</td>\n",
       "      <td>1.632613e+09</td>\n",
       "      <td>RUB</td>\n",
       "      <td>2021.0</td>\n",
       "      <td>1.104778e+09</td>\n",
       "      <td>{'sale-data-attributes': {'asciiCat': 'cars', ...</td>\n",
       "      <td>LIFTBACK MECHANICAL 1.6</td>\n",
       "      <td>механическая</td>\n",
       "      <td>NaN</td>\n",
       "      <td>NaN</td>\n",
       "      <td>NaN</td>\n",
       "      <td>NaN</td>\n",
       "      <td>NaN</td>\n",
       "      <td>NaN</td>\n",
       "      <td>NaN</td>\n",
       "      <td>NaN</td>\n",
       "      <td>NaN</td>\n",
       "      <td>NaN</td>\n",
       "      <td>NaN</td>\n",
       "      <td>1464100.0</td>\n",
       "    </tr>\n",
       "    <tr>\n",
       "      <th>3</th>\n",
       "      <td>лифтбек</td>\n",
       "      <td>SKODA</td>\n",
       "      <td>https://auto.ru/cars/used/sale/skoda/octavia/1...</td>\n",
       "      <td>синий</td>\n",
       "      <td>['cruise-control', 'multi-wheel', 'heated-wash...</td>\n",
       "      <td>Купим Ваш автомобиль ДОРОГО Гарантированная с...</td>\n",
       "      <td>1.4 LTR</td>\n",
       "      <td>150 N12</td>\n",
       "      <td>{'cruise-control': True, 'esp': True, 'usb': T...</td>\n",
       "      <td>бензин</td>\n",
       "      <td>https://autoru.naydex.net/9OmUme448/624f74NbAb...</td>\n",
       "      <td>52400.0</td>\n",
       "      <td>2017.0</td>\n",
       "      <td>NaN</td>\n",
       "      <td>Octavia</td>\n",
       "      <td>Skoda Octavia III (A7) Рестайлинг</td>\n",
       "      <td>5.0</td>\n",
       "      <td>1.632613e+09</td>\n",
       "      <td>RUB</td>\n",
       "      <td>2018.0</td>\n",
       "      <td>1.105205e+09</td>\n",
       "      <td>{'sale-data-attributes': {'asciiCat': 'cars', ...</td>\n",
       "      <td>LIFTBACK ROBOT 1.4</td>\n",
       "      <td>роботизированная</td>\n",
       "      <td>NaN</td>\n",
       "      <td>1 владелец</td>\n",
       "      <td>NaN</td>\n",
       "      <td>Оригинал</td>\n",
       "      <td>передний</td>\n",
       "      <td>Левый</td>\n",
       "      <td>Не требует ремонта</td>\n",
       "      <td>Растаможен</td>\n",
       "      <td>31.0</td>\n",
       "      <td>25 сентября</td>\n",
       "      <td>в Тюмени</td>\n",
       "      <td>1420000.0</td>\n",
       "    </tr>\n",
       "    <tr>\n",
       "      <th>4</th>\n",
       "      <td>внедорожник 5 дв.</td>\n",
       "      <td>SKODA</td>\n",
       "      <td>https://auto.ru/cars/new/group/skoda/karoq/217...</td>\n",
       "      <td>серый</td>\n",
       "      <td>['cruise-control', 'multi-wheel', 'heated-wash...</td>\n",
       "      <td>ЛОТ 01267595 Скидка на автомобиль при покупке ...</td>\n",
       "      <td>1.4 LTR</td>\n",
       "      <td>150 N12</td>\n",
       "      <td>{'cruise-control': True, 'asr': True, 'esp': T...</td>\n",
       "      <td>бензин</td>\n",
       "      <td>https://autoru.naydex.net/9OmUme448/624f74NbAb...</td>\n",
       "      <td>NaN</td>\n",
       "      <td>2017.0</td>\n",
       "      <td>NaN</td>\n",
       "      <td>NaN</td>\n",
       "      <td>Skoda Karoq I</td>\n",
       "      <td>5.0</td>\n",
       "      <td>1.632613e+09</td>\n",
       "      <td>RUB</td>\n",
       "      <td>2021.0</td>\n",
       "      <td>1.105298e+09</td>\n",
       "      <td>{'sale-data-attributes': {'asciiCat': 'cars', ...</td>\n",
       "      <td>ALLROAD_5_DOORS AUTOMATIC 1.4</td>\n",
       "      <td>автоматическая</td>\n",
       "      <td>NaN</td>\n",
       "      <td>NaN</td>\n",
       "      <td>NaN</td>\n",
       "      <td>NaN</td>\n",
       "      <td>NaN</td>\n",
       "      <td>NaN</td>\n",
       "      <td>NaN</td>\n",
       "      <td>NaN</td>\n",
       "      <td>NaN</td>\n",
       "      <td>NaN</td>\n",
       "      <td>NaN</td>\n",
       "      <td>2653190.0</td>\n",
       "    </tr>\n",
       "  </tbody>\n",
       "</table>\n",
       "</div>"
      ],
      "text/plain": [
       "            bodyType  brand  \\\n",
       "0            лифтбек  SKODA   \n",
       "1            лифтбек  SKODA   \n",
       "2            лифтбек  SKODA   \n",
       "3            лифтбек  SKODA   \n",
       "4  внедорожник 5 дв.  SKODA   \n",
       "\n",
       "                                             car_url  color  \\\n",
       "0  https://auto.ru/cars/used/sale/skoda/octavia/1...  белый   \n",
       "1  https://auto.ru/cars/used/sale/skoda/rapid/110...  белый   \n",
       "2  https://auto.ru/cars/new/group/skoda/rapid/217...  белый   \n",
       "3  https://auto.ru/cars/used/sale/skoda/octavia/1...  синий   \n",
       "4  https://auto.ru/cars/new/group/skoda/karoq/217...  серый   \n",
       "\n",
       "                                  complectation_dict  \\\n",
       "0  ['cruise-control', 'multi-wheel', 'xenon', 'he...   \n",
       "1  ['cruise-control', 'multi-wheel', 'heated-wash...   \n",
       "2  ['cruise-control', 'heated-wash-system', 'airb...   \n",
       "3  ['cruise-control', 'multi-wheel', 'heated-wash...   \n",
       "4  ['cruise-control', 'multi-wheel', 'heated-wash...   \n",
       "\n",
       "                                         description engineDisplacement  \\\n",
       "0  Автомобиль приобретался у официального дилера ...            1.8 LTR   \n",
       "1  Группа компаний Элан Моторс официальный дилер ...            1.6 LTR   \n",
       "2  Специальные предложения на автомобили в наличи...            1.6 LTR   \n",
       "3   Купим Ваш автомобиль ДОРОГО Гарантированная с...            1.4 LTR   \n",
       "4  ЛОТ 01267595 Скидка на автомобиль при покупке ...            1.4 LTR   \n",
       "\n",
       "  enginePower                                     equipment_dict fuelType  \\\n",
       "0     180 N12  {'cruise-control': True, 'asr': True, 'tinted-...   бензин   \n",
       "1     110 N12  {'cruise-control': True, 'glonass': True, 'asr...   бензин   \n",
       "2      90 N12  {'cruise-control': True, 'glonass': True, 'esp...   бензин   \n",
       "3     150 N12  {'cruise-control': True, 'esp': True, 'usb': T...   бензин   \n",
       "4     150 N12  {'cruise-control': True, 'asr': True, 'esp': T...   бензин   \n",
       "\n",
       "                                               image   mileage  modelDate  \\\n",
       "0  https://avatars.mds.yandex.net/get-autoru-vos/...  162026.0     2013.0   \n",
       "1  https://autoru.naydex.net/9OmUme448/624f74NbAb...   19210.0     2020.0   \n",
       "2  https://avatars.mds.yandex.net/get-autoru-vos/...       NaN     2020.0   \n",
       "3  https://autoru.naydex.net/9OmUme448/624f74NbAb...   52400.0     2017.0   \n",
       "4  https://autoru.naydex.net/9OmUme448/624f74NbAb...       NaN     2017.0   \n",
       "\n",
       "   model_info model_name                               name  numberOfDoors  \\\n",
       "0         NaN    Octavia             Skoda Octavia III (A7)            5.0   \n",
       "1         NaN      Rapid                     Skoda Rapid II            5.0   \n",
       "2         NaN        NaN                     Skoda Rapid II            5.0   \n",
       "3         NaN    Octavia  Skoda Octavia III (A7) Рестайлинг            5.0   \n",
       "4         NaN        NaN                      Skoda Karoq I            5.0   \n",
       "\n",
       "   parsing_unixtime priceCurrency  productionDate       sell_id  \\\n",
       "0      1.632613e+09           RUB          2015.0  1.105111e+09   \n",
       "1      1.632613e+09           RUB          2020.0  1.104819e+09   \n",
       "2      1.632613e+09           RUB          2021.0  1.104778e+09   \n",
       "3      1.632613e+09           RUB          2018.0  1.105205e+09   \n",
       "4      1.632613e+09           RUB          2021.0  1.105298e+09   \n",
       "\n",
       "                                           super_gen  \\\n",
       "0  {'sale-data-attributes': {'asciiCat': 'cars', ...   \n",
       "1  {'sale-data-attributes': {'asciiCat': 'cars', ...   \n",
       "2  {'sale-data-attributes': {'asciiCat': 'cars', ...   \n",
       "3  {'sale-data-attributes': {'asciiCat': 'cars', ...   \n",
       "4  {'sale-data-attributes': {'asciiCat': 'cars', ...   \n",
       "\n",
       "            vehicleConfiguration vehicleTransmission  vendor    Владельцы  \\\n",
       "0             LIFTBACK ROBOT 1.8    роботизированная     NaN  3 или более   \n",
       "1         LIFTBACK AUTOMATIC 1.6      автоматическая     NaN   1 владелец   \n",
       "2        LIFTBACK MECHANICAL 1.6        механическая     NaN          NaN   \n",
       "3             LIFTBACK ROBOT 1.4    роботизированная     NaN   1 владелец   \n",
       "4  ALLROAD_5_DOORS AUTOMATIC 1.4      автоматическая     NaN          NaN   \n",
       "\n",
       "  Владение       ПТС    Привод   Руль           Состояние     Таможня  views  \\\n",
       "0      NaN  Оригинал  передний  Левый  Не требует ремонта  Растаможен   76.0   \n",
       "1      NaN  Оригинал  передний  Левый  Не требует ремонта  Растаможен  259.0   \n",
       "2      NaN       NaN       NaN    NaN                 NaN         NaN    NaN   \n",
       "3      NaN  Оригинал  передний  Левый  Не требует ремонта  Растаможен   31.0   \n",
       "4      NaN       NaN       NaN    NaN                 NaN         NaN    NaN   \n",
       "\n",
       "    date_added               region      price  \n",
       "0  24 сентября             в Тюмени   999000.0  \n",
       "1  24 сентября   в Санкт-Петербурге  1179000.0  \n",
       "2          NaN                  NaN  1464100.0  \n",
       "3  25 сентября             в Тюмени  1420000.0  \n",
       "4          NaN                  NaN  2653190.0  "
      ]
     },
     "execution_count": 210,
     "metadata": {},
     "output_type": "execute_result"
    }
   ],
   "source": [
    "data = pd.read_csv('data/data.csv')\n",
    "data.head()"
   ]
  },
  {
   "cell_type": "code",
   "execution_count": 211,
   "metadata": {},
   "outputs": [
    {
     "data": {
      "text/plain": [
       "(130201, 36)"
      ]
     },
     "execution_count": 211,
     "metadata": {},
     "output_type": "execute_result"
    }
   ],
   "source": [
    "data.shape"
   ]
  },
  {
   "cell_type": "code",
   "execution_count": 212,
   "metadata": {},
   "outputs": [
    {
     "name": "stdout",
     "output_type": "stream",
     "text": [
      "<class 'pandas.core.frame.DataFrame'>\n",
      "RangeIndex: 130201 entries, 0 to 130200\n",
      "Data columns (total 36 columns):\n",
      " #   Column                Non-Null Count   Dtype  \n",
      "---  ------                --------------   -----  \n",
      " 0   bodyType              129986 non-null  object \n",
      " 1   brand                 129988 non-null  object \n",
      " 2   car_url               129969 non-null  object \n",
      " 3   color                 129988 non-null  object \n",
      " 4   complectation_dict    105267 non-null  object \n",
      " 5   description           129988 non-null  object \n",
      " 6   engineDisplacement    129988 non-null  object \n",
      " 7   enginePower           129988 non-null  object \n",
      " 8   equipment_dict        129969 non-null  object \n",
      " 9   fuelType              129986 non-null  object \n",
      " 10  image                 130065 non-null  object \n",
      " 11  mileage               103034 non-null  float64\n",
      " 12  modelDate             129986 non-null  float64\n",
      " 13  model_info            0 non-null       float64\n",
      " 14  model_name            103034 non-null  object \n",
      " 15  name                  130153 non-null  object \n",
      " 16  numberOfDoors         129987 non-null  float64\n",
      " 17  parsing_unixtime      130154 non-null  float64\n",
      " 18  priceCurrency         130153 non-null  object \n",
      " 19  productionDate        129988 non-null  float64\n",
      " 20  sell_id               129969 non-null  float64\n",
      " 21  super_gen             130135 non-null  object \n",
      " 22  vehicleConfiguration  129987 non-null  object \n",
      " 23  vehicleTransmission   129986 non-null  object \n",
      " 24  vendor                0 non-null       float64\n",
      " 25  Владельцы             103034 non-null  object \n",
      " 26  Владение              14286 non-null   object \n",
      " 27  ПТС                   103034 non-null  object \n",
      " 28  Привод                103032 non-null  object \n",
      " 29  Руль                  103033 non-null  object \n",
      " 30  Состояние             103032 non-null  object \n",
      " 31  Таможня               103030 non-null  object \n",
      " 32  views                 101998 non-null  float64\n",
      " 33  date_added            103034 non-null  object \n",
      " 34  region                103034 non-null  object \n",
      " 35  price                 109765 non-null  float64\n",
      "dtypes: float64(10), object(26)\n",
      "memory usage: 35.8+ MB\n"
     ]
    }
   ],
   "source": [
    "data.info()"
   ]
  },
  {
   "cell_type": "code",
   "execution_count": 213,
   "metadata": {},
   "outputs": [
    {
     "data": {
      "text/plain": [
       "Index(['bodyType', 'brand', 'car_url', 'color', 'complectation_dict',\n",
       "       'description', 'engineDisplacement', 'enginePower', 'equipment_dict',\n",
       "       'fuelType', 'image', 'mileage', 'modelDate', 'model_info', 'model_name',\n",
       "       'name', 'numberOfDoors', 'parsing_unixtime', 'priceCurrency',\n",
       "       'productionDate', 'sell_id', 'super_gen', 'vehicleConfiguration',\n",
       "       'vehicleTransmission', 'vendor', 'Владельцы', 'Владение', 'ПТС',\n",
       "       'Привод', 'Руль', 'Состояние', 'Таможня', 'views', 'date_added',\n",
       "       'region', 'price'],\n",
       "      dtype='object')"
      ]
     },
     "execution_count": 213,
     "metadata": {},
     "output_type": "execute_result"
    }
   ],
   "source": [
    "data.columns"
   ]
  },
  {
   "cell_type": "code",
   "execution_count": 214,
   "metadata": {},
   "outputs": [
    {
     "data": {
      "text/plain": [
       "bodyType                   215\n",
       "brand                      213\n",
       "car_url                    232\n",
       "color                      213\n",
       "complectation_dict       24934\n",
       "description                213\n",
       "engineDisplacement         213\n",
       "enginePower                213\n",
       "equipment_dict             232\n",
       "fuelType                   215\n",
       "image                      136\n",
       "mileage                  27167\n",
       "modelDate                  215\n",
       "model_info              130201\n",
       "model_name               27167\n",
       "name                        48\n",
       "numberOfDoors              214\n",
       "parsing_unixtime            47\n",
       "priceCurrency               48\n",
       "productionDate             213\n",
       "sell_id                    232\n",
       "super_gen                   66\n",
       "vehicleConfiguration       214\n",
       "vehicleTransmission        215\n",
       "vendor                  130201\n",
       "Владельцы                27167\n",
       "Владение                115915\n",
       "ПТС                      27167\n",
       "Привод                   27169\n",
       "Руль                     27168\n",
       "Состояние                27169\n",
       "Таможня                  27171\n",
       "views                    28203\n",
       "date_added               27167\n",
       "region                   27167\n",
       "price                    20436\n",
       "dtype: int64"
      ]
     },
     "execution_count": 214,
     "metadata": {},
     "output_type": "execute_result"
    }
   ],
   "source": [
    "data.isnull().sum()"
   ]
  },
  {
   "cell_type": "code",
   "execution_count": 215,
   "metadata": {},
   "outputs": [
    {
     "data": {
      "text/html": [
       "<div>\n",
       "<style scoped>\n",
       "    .dataframe tbody tr th:only-of-type {\n",
       "        vertical-align: middle;\n",
       "    }\n",
       "\n",
       "    .dataframe tbody tr th {\n",
       "        vertical-align: top;\n",
       "    }\n",
       "\n",
       "    .dataframe thead th {\n",
       "        text-align: right;\n",
       "    }\n",
       "</style>\n",
       "<table border=\"1\" class=\"dataframe\">\n",
       "  <thead>\n",
       "    <tr style=\"text-align: right;\">\n",
       "      <th></th>\n",
       "      <th>mileage</th>\n",
       "      <th>modelDate</th>\n",
       "      <th>model_info</th>\n",
       "      <th>numberOfDoors</th>\n",
       "      <th>parsing_unixtime</th>\n",
       "      <th>productionDate</th>\n",
       "      <th>sell_id</th>\n",
       "      <th>vendor</th>\n",
       "      <th>views</th>\n",
       "      <th>price</th>\n",
       "    </tr>\n",
       "  </thead>\n",
       "  <tbody>\n",
       "    <tr>\n",
       "      <th>count</th>\n",
       "      <td>103034.000000</td>\n",
       "      <td>129986.000000</td>\n",
       "      <td>0.0</td>\n",
       "      <td>129987.000000</td>\n",
       "      <td>1.301540e+05</td>\n",
       "      <td>129988.000000</td>\n",
       "      <td>1.299690e+05</td>\n",
       "      <td>0.0</td>\n",
       "      <td>101998.000000</td>\n",
       "      <td>1.097650e+05</td>\n",
       "    </tr>\n",
       "    <tr>\n",
       "      <th>mean</th>\n",
       "      <td>116610.915407</td>\n",
       "      <td>2012.934578</td>\n",
       "      <td>NaN</td>\n",
       "      <td>4.643164</td>\n",
       "      <td>1.632842e+09</td>\n",
       "      <td>2015.083854</td>\n",
       "      <td>1.104866e+09</td>\n",
       "      <td>NaN</td>\n",
       "      <td>564.982284</td>\n",
       "      <td>2.801223e+06</td>\n",
       "    </tr>\n",
       "    <tr>\n",
       "      <th>std</th>\n",
       "      <td>85154.492046</td>\n",
       "      <td>6.017749</td>\n",
       "      <td>NaN</td>\n",
       "      <td>0.619354</td>\n",
       "      <td>1.316360e+05</td>\n",
       "      <td>5.929774</td>\n",
       "      <td>1.779786e+06</td>\n",
       "      <td>NaN</td>\n",
       "      <td>1814.036025</td>\n",
       "      <td>2.689068e+06</td>\n",
       "    </tr>\n",
       "    <tr>\n",
       "      <th>min</th>\n",
       "      <td>1.000000</td>\n",
       "      <td>1938.000000</td>\n",
       "      <td>NaN</td>\n",
       "      <td>2.000000</td>\n",
       "      <td>1.632613e+09</td>\n",
       "      <td>1952.000000</td>\n",
       "      <td>1.003139e+09</td>\n",
       "      <td>NaN</td>\n",
       "      <td>2.000000</td>\n",
       "      <td>2.300000e+04</td>\n",
       "    </tr>\n",
       "    <tr>\n",
       "      <th>25%</th>\n",
       "      <td>51000.000000</td>\n",
       "      <td>2010.000000</td>\n",
       "      <td>NaN</td>\n",
       "      <td>4.000000</td>\n",
       "      <td>1.632725e+09</td>\n",
       "      <td>2012.000000</td>\n",
       "      <td>1.104900e+09</td>\n",
       "      <td>NaN</td>\n",
       "      <td>127.000000</td>\n",
       "      <td>1.000000e+06</td>\n",
       "    </tr>\n",
       "    <tr>\n",
       "      <th>50%</th>\n",
       "      <td>100000.000000</td>\n",
       "      <td>2014.000000</td>\n",
       "      <td>NaN</td>\n",
       "      <td>5.000000</td>\n",
       "      <td>1.632821e+09</td>\n",
       "      <td>2016.000000</td>\n",
       "      <td>1.105219e+09</td>\n",
       "      <td>NaN</td>\n",
       "      <td>245.000000</td>\n",
       "      <td>2.045000e+06</td>\n",
       "    </tr>\n",
       "    <tr>\n",
       "      <th>75%</th>\n",
       "      <td>161000.000000</td>\n",
       "      <td>2017.000000</td>\n",
       "      <td>NaN</td>\n",
       "      <td>5.000000</td>\n",
       "      <td>1.632973e+09</td>\n",
       "      <td>2020.000000</td>\n",
       "      <td>1.105376e+09</td>\n",
       "      <td>NaN</td>\n",
       "      <td>511.000000</td>\n",
       "      <td>3.649000e+06</td>\n",
       "    </tr>\n",
       "    <tr>\n",
       "      <th>max</th>\n",
       "      <td>1000000.000000</td>\n",
       "      <td>2021.000000</td>\n",
       "      <td>NaN</td>\n",
       "      <td>5.000000</td>\n",
       "      <td>1.633049e+09</td>\n",
       "      <td>2021.000000</td>\n",
       "      <td>1.105403e+09</td>\n",
       "      <td>NaN</td>\n",
       "      <td>148149.000000</td>\n",
       "      <td>3.999000e+07</td>\n",
       "    </tr>\n",
       "  </tbody>\n",
       "</table>\n",
       "</div>"
      ],
      "text/plain": [
       "              mileage      modelDate  model_info  numberOfDoors  \\\n",
       "count   103034.000000  129986.000000         0.0  129987.000000   \n",
       "mean    116610.915407    2012.934578         NaN       4.643164   \n",
       "std      85154.492046       6.017749         NaN       0.619354   \n",
       "min          1.000000    1938.000000         NaN       2.000000   \n",
       "25%      51000.000000    2010.000000         NaN       4.000000   \n",
       "50%     100000.000000    2014.000000         NaN       5.000000   \n",
       "75%     161000.000000    2017.000000         NaN       5.000000   \n",
       "max    1000000.000000    2021.000000         NaN       5.000000   \n",
       "\n",
       "       parsing_unixtime  productionDate       sell_id  vendor          views  \\\n",
       "count      1.301540e+05   129988.000000  1.299690e+05     0.0  101998.000000   \n",
       "mean       1.632842e+09     2015.083854  1.104866e+09     NaN     564.982284   \n",
       "std        1.316360e+05        5.929774  1.779786e+06     NaN    1814.036025   \n",
       "min        1.632613e+09     1952.000000  1.003139e+09     NaN       2.000000   \n",
       "25%        1.632725e+09     2012.000000  1.104900e+09     NaN     127.000000   \n",
       "50%        1.632821e+09     2016.000000  1.105219e+09     NaN     245.000000   \n",
       "75%        1.632973e+09     2020.000000  1.105376e+09     NaN     511.000000   \n",
       "max        1.633049e+09     2021.000000  1.105403e+09     NaN  148149.000000   \n",
       "\n",
       "              price  \n",
       "count  1.097650e+05  \n",
       "mean   2.801223e+06  \n",
       "std    2.689068e+06  \n",
       "min    2.300000e+04  \n",
       "25%    1.000000e+06  \n",
       "50%    2.045000e+06  \n",
       "75%    3.649000e+06  \n",
       "max    3.999000e+07  "
      ]
     },
     "execution_count": 215,
     "metadata": {},
     "output_type": "execute_result"
    }
   ],
   "source": [
    "data.describe()"
   ]
  },
  {
   "cell_type": "markdown",
   "metadata": {},
   "source": [
    "### Subtotal\n",
    "\n",
    "- There are 130201 rows in this dataset.\n",
    "- Target \"price\" contains 20436 missing values. It's bad, because I can't use this examples for model training, so I will remove them.\n",
    "- Here a lot of categorical features, like as fuelType, brand, color and so on.\n",
    "- There are description of announcement. It is text data and interesting, will I extract any valuable information from this feature.\n",
    "- Here two features with links - car_url and image. I will not analyze image links because I will not work with CV techniques in this project. Also I will not use car_url, because I have already a good list of parameters for every case.\n",
    "- complectation_dict - this feature contains useful information (for example, 'cruise-control', 'multi-wheel' and so on). Moreover, some parameters from this feature are duplicated in the main dataset. Next, I will analyze this feature in more detail."
   ]
  },
  {
   "cell_type": "markdown",
   "metadata": {},
   "source": [
    "# Data Preprocessing"
   ]
  },
  {
   "cell_type": "code",
   "execution_count": 216,
   "metadata": {},
   "outputs": [],
   "source": [
    "# Deleting rows with missing values in target\n",
    "data = data[data['price'].notna()].reset_index(drop=True)"
   ]
  },
  {
   "cell_type": "code",
   "execution_count": 217,
   "metadata": {},
   "outputs": [
    {
     "name": "stdout",
     "output_type": "stream",
     "text": [
      "109765\n",
      "109765\n"
     ]
    }
   ],
   "source": [
    "# Let's remove (little bit later) model_info and vendor features, because they are empty\n",
    "print(data['model_info'].isna().sum())\n",
    "print(data['vendor'].isna().sum())"
   ]
  },
  {
   "cell_type": "code",
   "execution_count": 218,
   "metadata": {},
   "outputs": [
    {
     "name": "stdout",
     "output_type": "stream",
     "text": [
      "1632613481.0\n"
     ]
    }
   ],
   "source": [
    "# Data has downloaded in one session. So let's check first value in parsing_unixtime column.\n",
    "# Date of data parsing is 2021-09-26 \n",
    "print(data['parsing_unixtime'][0])"
   ]
  },
  {
   "cell_type": "code",
   "execution_count": 219,
   "metadata": {},
   "outputs": [
    {
     "name": "stdout",
     "output_type": "stream",
     "text": [
      "RUB    109765\n",
      "Name: priceCurrency, dtype: int64\n"
     ]
    }
   ],
   "source": [
    "# Feature priceCurrency is constant. Let's remove it\n",
    "print(data['priceCurrency'].value_counts())"
   ]
  },
  {
   "cell_type": "code",
   "execution_count": 220,
   "metadata": {},
   "outputs": [
    {
     "name": "stdout",
     "output_type": "stream",
     "text": [
      "0                    LIFTBACK ROBOT 1.8\n",
      "1                LIFTBACK AUTOMATIC 1.6\n",
      "2               LIFTBACK MECHANICAL 1.6\n",
      "3                    LIFTBACK ROBOT 1.4\n",
      "4         ALLROAD_5_DOORS AUTOMATIC 1.4\n",
      "                      ...              \n",
      "109760             SEDAN MECHANICAL 2.0\n",
      "109761     ALLROAD_5_DOORS VARIATOR 2.4\n",
      "109762     ALLROAD_5_DOORS VARIATOR 2.0\n",
      "109763     ALLROAD_5_DOORS VARIATOR 2.4\n",
      "109764             SEDAN MECHANICAL 1.6\n",
      "Name: vehicleConfiguration, Length: 109765, dtype: object\n"
     ]
    }
   ],
   "source": [
    "# This feature is unnecessary, because dataset already has this content (body type, transmission, engine displacement). \n",
    "# Let's remove it\n",
    "print(data['vehicleConfiguration'])"
   ]
  },
  {
   "cell_type": "code",
   "execution_count": 221,
   "metadata": {},
   "outputs": [
    {
     "name": "stdout",
     "output_type": "stream",
     "text": [
      "97597\n",
      "Missing values qty: 88.91%\n"
     ]
    }
   ],
   "source": [
    "# Let's remove this feature, because missing values qty > 88%\n",
    "print(data['Владение'].isna().sum())\n",
    "print(f'Missing values qty: {round((data.Владение.isna().sum() / len(data)) * 100, 2)}%')"
   ]
  },
  {
   "cell_type": "code",
   "execution_count": 222,
   "metadata": {},
   "outputs": [
    {
     "name": "stdout",
     "output_type": "stream",
     "text": [
      "21153\n",
      "Не требует ремонта    88612\n",
      "Name: Состояние, dtype: int64\n"
     ]
    }
   ],
   "source": [
    "# Let's remove this feature, because it contains only one constant value and missing values\n",
    "print(data['Состояние'].isna().sum())\n",
    "print(data['Состояние'].value_counts())"
   ]
  },
  {
   "cell_type": "code",
   "execution_count": 223,
   "metadata": {},
   "outputs": [
    {
     "name": "stdout",
     "output_type": "stream",
     "text": [
      "21156\n",
      "Растаможен    88609\n",
      "Name: Таможня, dtype: int64\n"
     ]
    }
   ],
   "source": [
    "# Let's remove this feature, because it contains only one constant value and missing values\n",
    "print(data['Таможня'].isna().sum())\n",
    "print(data['Таможня'].value_counts())"
   ]
  },
  {
   "cell_type": "code",
   "execution_count": 224,
   "metadata": {},
   "outputs": [],
   "source": [
    "# Deleting unnecessary features \n",
    "data = data.drop(columns=['car_url', 'image', 'model_info', 'vendor', 'parsing_unixtime', 'priceCurrency', 'vehicleConfiguration', \n",
    "                          'Владение', 'Таможня', 'Состояние'])"
   ]
  },
  {
   "cell_type": "code",
   "execution_count": 242,
   "metadata": {},
   "outputs": [],
   "source": [
    "data.columns = ['body_type', 'brand', 'color', 'complectation_dict', 'description',\n",
    "                'engine_displacement', 'engine_power', 'equipment_dict', 'fuel_type',\n",
    "                'mileage', 'model_date', 'model_name', 'name', 'doors_number',\n",
    "                'production_date', 'sell_id', 'super_gen', 'vehicle_transmission',\n",
    "                'owners', 'vehicle_passport', 'wheel_drive', 'steering_wheel', 'views', \n",
    "                'date_added', 'region', 'price']"
   ]
  },
  {
   "cell_type": "markdown",
   "metadata": {},
   "source": [
    "### Target - Price"
   ]
  },
  {
   "cell_type": "code",
   "execution_count": 248,
   "metadata": {},
   "outputs": [
    {
     "data": {
      "text/plain": [
       "<AxesSubplot:xlabel='price', ylabel='Density'>"
      ]
     },
     "execution_count": 248,
     "metadata": {},
     "output_type": "execute_result"
    },
    {
     "data": {
      "image/png": "[encoded data removed]",
      "text/plain": [
       "<Figure size 1080x576 with 1 Axes>"
      ]
     },
     "metadata": {},
     "output_type": "display_data"
    }
   ],
   "source": [
    "f, ax = plt.subplots(figsize=(15,8))\n",
    "sns.distplot(data['price'])"
   ]
  },
  {
   "cell_type": "code",
   "execution_count": null,
   "metadata": {},
   "outputs": [],
   "source": []
  },
  {
   "cell_type": "code",
   "execution_count": null,
   "metadata": {},
   "outputs": [],
   "source": []
  },
  {
   "cell_type": "code",
   "execution_count": null,
   "metadata": {},
   "outputs": [],
   "source": []
  },
  {
   "cell_type": "code",
   "execution_count": null,
   "metadata": {},
   "outputs": [],
   "source": []
  }
 ],
 "metadata": {
  "kernelspec": {
   "display_name": "Python 3",
   "language": "python",
   "name": "python3"
  },
  "language_info": {
   "codemirror_mode": {
    "name": "ipython",
    "version": 3
   },
   "file_extension": ".py",
   "mimetype": "text/x-python",
   "name": "python",
   "nbconvert_exporter": "python",
   "pygments_lexer": "ipython3",
   "version": "3.9.8"
  },
  "orig_nbformat": 4
 },
 "nbformat": 4,
 "nbformat_minor": 2
}
