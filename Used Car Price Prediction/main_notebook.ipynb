{
 "cells": [
  {
   "cell_type": "markdown",
   "metadata": {},
   "source": [
    "# Import"
   ]
  },
  {
   "cell_type": "code",
   "execution_count": 621,
   "metadata": {},
   "outputs": [],
   "source": [
    "import pandas as pd\n",
    "import numpy as np\n",
    "\n",
    "\n",
    "from datetime import datetime\n",
    "\n",
    "import ast\n",
    "import copy\n",
    "import matplotlib.pyplot as plt\n",
    "import re\n",
    "import seaborn as sns\n",
    "import warnings\n",
    "\n",
    "import nltk\n",
    "\n",
    "from nltk.stem.snowball import SnowballStemmer \n",
    "\n",
    "sns.set()\n",
    "#pd.set_option('max_columns', None)\n",
    "warnings.filterwarnings('ignore')"
   ]
  },
  {
   "cell_type": "markdown",
   "metadata": {},
   "source": [
    "# Task Description\n",
    "\n",
    "I need to predict the price of a used cars based on its features. Obviously, this is a regression problem. As a control metric, I will choose Mean Absolute Percentage Error (MAPE). It is the mean of all absolute percentage errors between the predicted and actual values.\n",
    "It both easy for end users to understand and simpler to compare model accuracy across use cases and datasets. \n",
    "\n",
    "Since the target is the price of a car in the hundreds of thousands of rubles, these values are far from 0, so I can use this metric without worrying about dividing by 0 when calculating the metric."
   ]
  },
  {
   "cell_type": "markdown",
   "metadata": {},
   "source": [
    "# Overview"
   ]
  },
  {
   "cell_type": "code",
   "execution_count": 507,
   "metadata": {},
   "outputs": [
    {
     "data": {
      "text/html": [
       "<div>\n",
       "<style scoped>\n",
       "    .dataframe tbody tr th:only-of-type {\n",
       "        vertical-align: middle;\n",
       "    }\n",
       "\n",
       "    .dataframe tbody tr th {\n",
       "        vertical-align: top;\n",
       "    }\n",
       "\n",
       "    .dataframe thead th {\n",
       "        text-align: right;\n",
       "    }\n",
       "</style>\n",
       "<table border=\"1\" class=\"dataframe\">\n",
       "  <thead>\n",
       "    <tr style=\"text-align: right;\">\n",
       "      <th></th>\n",
       "      <th>bodyType</th>\n",
       "      <th>brand</th>\n",
       "      <th>car_url</th>\n",
       "      <th>color</th>\n",
       "      <th>complectation_dict</th>\n",
       "      <th>description</th>\n",
       "      <th>engineDisplacement</th>\n",
       "      <th>enginePower</th>\n",
       "      <th>equipment_dict</th>\n",
       "      <th>fuelType</th>\n",
       "      <th>...</th>\n",
       "      <th>Владение</th>\n",
       "      <th>ПТС</th>\n",
       "      <th>Привод</th>\n",
       "      <th>Руль</th>\n",
       "      <th>Состояние</th>\n",
       "      <th>Таможня</th>\n",
       "      <th>views</th>\n",
       "      <th>date_added</th>\n",
       "      <th>region</th>\n",
       "      <th>price</th>\n",
       "    </tr>\n",
       "  </thead>\n",
       "  <tbody>\n",
       "    <tr>\n",
       "      <th>0</th>\n",
       "      <td>лифтбек</td>\n",
       "      <td>SKODA</td>\n",
       "      <td>https://auto.ru/cars/used/sale/skoda/octavia/1...</td>\n",
       "      <td>белый</td>\n",
       "      <td>['cruise-control', 'multi-wheel', 'xenon', 'he...</td>\n",
       "      <td>Автомобиль приобретался у официального дилера ...</td>\n",
       "      <td>1.8 LTR</td>\n",
       "      <td>180 N12</td>\n",
       "      <td>{'cruise-control': True, 'asr': True, 'tinted-...</td>\n",
       "      <td>бензин</td>\n",
       "      <td>...</td>\n",
       "      <td>NaN</td>\n",
       "      <td>Оригинал</td>\n",
       "      <td>передний</td>\n",
       "      <td>Левый</td>\n",
       "      <td>Не требует ремонта</td>\n",
       "      <td>Растаможен</td>\n",
       "      <td>76.0</td>\n",
       "      <td>24 сентября</td>\n",
       "      <td>в Тюмени</td>\n",
       "      <td>999000.0</td>\n",
       "    </tr>\n",
       "    <tr>\n",
       "      <th>1</th>\n",
       "      <td>лифтбек</td>\n",
       "      <td>SKODA</td>\n",
       "      <td>https://auto.ru/cars/used/sale/skoda/rapid/110...</td>\n",
       "      <td>белый</td>\n",
       "      <td>['cruise-control', 'multi-wheel', 'heated-wash...</td>\n",
       "      <td>Группа компаний Элан Моторс официальный дилер ...</td>\n",
       "      <td>1.6 LTR</td>\n",
       "      <td>110 N12</td>\n",
       "      <td>{'cruise-control': True, 'glonass': True, 'asr...</td>\n",
       "      <td>бензин</td>\n",
       "      <td>...</td>\n",
       "      <td>NaN</td>\n",
       "      <td>Оригинал</td>\n",
       "      <td>передний</td>\n",
       "      <td>Левый</td>\n",
       "      <td>Не требует ремонта</td>\n",
       "      <td>Растаможен</td>\n",
       "      <td>259.0</td>\n",
       "      <td>24 сентября</td>\n",
       "      <td>в Санкт-Петербурге</td>\n",
       "      <td>1179000.0</td>\n",
       "    </tr>\n",
       "    <tr>\n",
       "      <th>2</th>\n",
       "      <td>лифтбек</td>\n",
       "      <td>SKODA</td>\n",
       "      <td>https://auto.ru/cars/new/group/skoda/rapid/217...</td>\n",
       "      <td>белый</td>\n",
       "      <td>['cruise-control', 'heated-wash-system', 'airb...</td>\n",
       "      <td>Специальные предложения на автомобили в наличи...</td>\n",
       "      <td>1.6 LTR</td>\n",
       "      <td>90 N12</td>\n",
       "      <td>{'cruise-control': True, 'glonass': True, 'esp...</td>\n",
       "      <td>бензин</td>\n",
       "      <td>...</td>\n",
       "      <td>NaN</td>\n",
       "      <td>NaN</td>\n",
       "      <td>NaN</td>\n",
       "      <td>NaN</td>\n",
       "      <td>NaN</td>\n",
       "      <td>NaN</td>\n",
       "      <td>NaN</td>\n",
       "      <td>NaN</td>\n",
       "      <td>NaN</td>\n",
       "      <td>1464100.0</td>\n",
       "    </tr>\n",
       "    <tr>\n",
       "      <th>3</th>\n",
       "      <td>лифтбек</td>\n",
       "      <td>SKODA</td>\n",
       "      <td>https://auto.ru/cars/used/sale/skoda/octavia/1...</td>\n",
       "      <td>синий</td>\n",
       "      <td>['cruise-control', 'multi-wheel', 'heated-wash...</td>\n",
       "      <td>Купим Ваш автомобиль ДОРОГО Гарантированная с...</td>\n",
       "      <td>1.4 LTR</td>\n",
       "      <td>150 N12</td>\n",
       "      <td>{'cruise-control': True, 'esp': True, 'usb': T...</td>\n",
       "      <td>бензин</td>\n",
       "      <td>...</td>\n",
       "      <td>NaN</td>\n",
       "      <td>Оригинал</td>\n",
       "      <td>передний</td>\n",
       "      <td>Левый</td>\n",
       "      <td>Не требует ремонта</td>\n",
       "      <td>Растаможен</td>\n",
       "      <td>31.0</td>\n",
       "      <td>25 сентября</td>\n",
       "      <td>в Тюмени</td>\n",
       "      <td>1420000.0</td>\n",
       "    </tr>\n",
       "    <tr>\n",
       "      <th>4</th>\n",
       "      <td>внедорожник 5 дв.</td>\n",
       "      <td>SKODA</td>\n",
       "      <td>https://auto.ru/cars/new/group/skoda/karoq/217...</td>\n",
       "      <td>серый</td>\n",
       "      <td>['cruise-control', 'multi-wheel', 'heated-wash...</td>\n",
       "      <td>ЛОТ 01267595 Скидка на автомобиль при покупке ...</td>\n",
       "      <td>1.4 LTR</td>\n",
       "      <td>150 N12</td>\n",
       "      <td>{'cruise-control': True, 'asr': True, 'esp': T...</td>\n",
       "      <td>бензин</td>\n",
       "      <td>...</td>\n",
       "      <td>NaN</td>\n",
       "      <td>NaN</td>\n",
       "      <td>NaN</td>\n",
       "      <td>NaN</td>\n",
       "      <td>NaN</td>\n",
       "      <td>NaN</td>\n",
       "      <td>NaN</td>\n",
       "      <td>NaN</td>\n",
       "      <td>NaN</td>\n",
       "      <td>2653190.0</td>\n",
       "    </tr>\n",
       "  </tbody>\n",
       "</table>\n",
       "<p>5 rows × 36 columns</p>\n",
       "</div>"
      ],
      "text/plain": [
       "            bodyType  brand  \\\n",
       "0            лифтбек  SKODA   \n",
       "1            лифтбек  SKODA   \n",
       "2            лифтбек  SKODA   \n",
       "3            лифтбек  SKODA   \n",
       "4  внедорожник 5 дв.  SKODA   \n",
       "\n",
       "                                             car_url  color  \\\n",
       "0  https://auto.ru/cars/used/sale/skoda/octavia/1...  белый   \n",
       "1  https://auto.ru/cars/used/sale/skoda/rapid/110...  белый   \n",
       "2  https://auto.ru/cars/new/group/skoda/rapid/217...  белый   \n",
       "3  https://auto.ru/cars/used/sale/skoda/octavia/1...  синий   \n",
       "4  https://auto.ru/cars/new/group/skoda/karoq/217...  серый   \n",
       "\n",
       "                                  complectation_dict  \\\n",
       "0  ['cruise-control', 'multi-wheel', 'xenon', 'he...   \n",
       "1  ['cruise-control', 'multi-wheel', 'heated-wash...   \n",
       "2  ['cruise-control', 'heated-wash-system', 'airb...   \n",
       "3  ['cruise-control', 'multi-wheel', 'heated-wash...   \n",
       "4  ['cruise-control', 'multi-wheel', 'heated-wash...   \n",
       "\n",
       "                                         description engineDisplacement  \\\n",
       "0  Автомобиль приобретался у официального дилера ...            1.8 LTR   \n",
       "1  Группа компаний Элан Моторс официальный дилер ...            1.6 LTR   \n",
       "2  Специальные предложения на автомобили в наличи...            1.6 LTR   \n",
       "3   Купим Ваш автомобиль ДОРОГО Гарантированная с...            1.4 LTR   \n",
       "4  ЛОТ 01267595 Скидка на автомобиль при покупке ...            1.4 LTR   \n",
       "\n",
       "  enginePower                                     equipment_dict fuelType  \\\n",
       "0     180 N12  {'cruise-control': True, 'asr': True, 'tinted-...   бензин   \n",
       "1     110 N12  {'cruise-control': True, 'glonass': True, 'asr...   бензин   \n",
       "2      90 N12  {'cruise-control': True, 'glonass': True, 'esp...   бензин   \n",
       "3     150 N12  {'cruise-control': True, 'esp': True, 'usb': T...   бензин   \n",
       "4     150 N12  {'cruise-control': True, 'asr': True, 'esp': T...   бензин   \n",
       "\n",
       "   ... Владение       ПТС    Привод   Руль           Состояние     Таможня  \\\n",
       "0  ...      NaN  Оригинал  передний  Левый  Не требует ремонта  Растаможен   \n",
       "1  ...      NaN  Оригинал  передний  Левый  Не требует ремонта  Растаможен   \n",
       "2  ...      NaN       NaN       NaN    NaN                 NaN         NaN   \n",
       "3  ...      NaN  Оригинал  передний  Левый  Не требует ремонта  Растаможен   \n",
       "4  ...      NaN       NaN       NaN    NaN                 NaN         NaN   \n",
       "\n",
       "   views   date_added               region      price  \n",
       "0   76.0  24 сентября             в Тюмени   999000.0  \n",
       "1  259.0  24 сентября   в Санкт-Петербурге  1179000.0  \n",
       "2    NaN          NaN                  NaN  1464100.0  \n",
       "3   31.0  25 сентября             в Тюмени  1420000.0  \n",
       "4    NaN          NaN                  NaN  2653190.0  \n",
       "\n",
       "[5 rows x 36 columns]"
      ]
     },
     "execution_count": 507,
     "metadata": {},
     "output_type": "execute_result"
    }
   ],
   "source": [
    "data = pd.read_csv('data/data.csv')\n",
    "data.head()"
   ]
  },
  {
   "cell_type": "code",
   "execution_count": 508,
   "metadata": {},
   "outputs": [
    {
     "data": {
      "text/plain": [
       "(130201, 36)"
      ]
     },
     "execution_count": 508,
     "metadata": {},
     "output_type": "execute_result"
    }
   ],
   "source": [
    "data.shape"
   ]
  },
  {
   "cell_type": "code",
   "execution_count": 509,
   "metadata": {},
   "outputs": [
    {
     "name": "stdout",
     "output_type": "stream",
     "text": [
      "<class 'pandas.core.frame.DataFrame'>\n",
      "RangeIndex: 130201 entries, 0 to 130200\n",
      "Data columns (total 36 columns):\n",
      " #   Column                Non-Null Count   Dtype  \n",
      "---  ------                --------------   -----  \n",
      " 0   bodyType              129986 non-null  object \n",
      " 1   brand                 129988 non-null  object \n",
      " 2   car_url               129969 non-null  object \n",
      " 3   color                 129988 non-null  object \n",
      " 4   complectation_dict    105267 non-null  object \n",
      " 5   description           129988 non-null  object \n",
      " 6   engineDisplacement    129988 non-null  object \n",
      " 7   enginePower           129988 non-null  object \n",
      " 8   equipment_dict        129969 non-null  object \n",
      " 9   fuelType              129986 non-null  object \n",
      " 10  image                 130065 non-null  object \n",
      " 11  mileage               103034 non-null  float64\n",
      " 12  modelDate             129986 non-null  float64\n",
      " 13  model_info            0 non-null       float64\n",
      " 14  model_name            103034 non-null  object \n",
      " 15  name                  130153 non-null  object \n",
      " 16  numberOfDoors         129987 non-null  float64\n",
      " 17  parsing_unixtime      130154 non-null  float64\n",
      " 18  priceCurrency         130153 non-null  object \n",
      " 19  productionDate        129988 non-null  float64\n",
      " 20  sell_id               129969 non-null  float64\n",
      " 21  super_gen             130135 non-null  object \n",
      " 22  vehicleConfiguration  129987 non-null  object \n",
      " 23  vehicleTransmission   129986 non-null  object \n",
      " 24  vendor                0 non-null       float64\n",
      " 25  Владельцы             103034 non-null  object \n",
      " 26  Владение              14286 non-null   object \n",
      " 27  ПТС                   103034 non-null  object \n",
      " 28  Привод                103032 non-null  object \n",
      " 29  Руль                  103033 non-null  object \n",
      " 30  Состояние             103032 non-null  object \n",
      " 31  Таможня               103030 non-null  object \n",
      " 32  views                 101998 non-null  float64\n",
      " 33  date_added            103034 non-null  object \n",
      " 34  region                103034 non-null  object \n",
      " 35  price                 109765 non-null  float64\n",
      "dtypes: float64(10), object(26)\n",
      "memory usage: 35.8+ MB\n"
     ]
    }
   ],
   "source": [
    "data.info()"
   ]
  },
  {
   "cell_type": "code",
   "execution_count": 510,
   "metadata": {},
   "outputs": [
    {
     "data": {
      "text/plain": [
       "Index(['bodyType', 'brand', 'car_url', 'color', 'complectation_dict',\n",
       "       'description', 'engineDisplacement', 'enginePower', 'equipment_dict',\n",
       "       'fuelType', 'image', 'mileage', 'modelDate', 'model_info', 'model_name',\n",
       "       'name', 'numberOfDoors', 'parsing_unixtime', 'priceCurrency',\n",
       "       'productionDate', 'sell_id', 'super_gen', 'vehicleConfiguration',\n",
       "       'vehicleTransmission', 'vendor', 'Владельцы', 'Владение', 'ПТС',\n",
       "       'Привод', 'Руль', 'Состояние', 'Таможня', 'views', 'date_added',\n",
       "       'region', 'price'],\n",
       "      dtype='object')"
      ]
     },
     "execution_count": 510,
     "metadata": {},
     "output_type": "execute_result"
    }
   ],
   "source": [
    "data.columns"
   ]
  },
  {
   "cell_type": "code",
   "execution_count": 511,
   "metadata": {},
   "outputs": [
    {
     "data": {
      "text/plain": [
       "bodyType                   215\n",
       "brand                      213\n",
       "car_url                    232\n",
       "color                      213\n",
       "complectation_dict       24934\n",
       "description                213\n",
       "engineDisplacement         213\n",
       "enginePower                213\n",
       "equipment_dict             232\n",
       "fuelType                   215\n",
       "image                      136\n",
       "mileage                  27167\n",
       "modelDate                  215\n",
       "model_info              130201\n",
       "model_name               27167\n",
       "name                        48\n",
       "numberOfDoors              214\n",
       "parsing_unixtime            47\n",
       "priceCurrency               48\n",
       "productionDate             213\n",
       "sell_id                    232\n",
       "super_gen                   66\n",
       "vehicleConfiguration       214\n",
       "vehicleTransmission        215\n",
       "vendor                  130201\n",
       "Владельцы                27167\n",
       "Владение                115915\n",
       "ПТС                      27167\n",
       "Привод                   27169\n",
       "Руль                     27168\n",
       "Состояние                27169\n",
       "Таможня                  27171\n",
       "views                    28203\n",
       "date_added               27167\n",
       "region                   27167\n",
       "price                    20436\n",
       "dtype: int64"
      ]
     },
     "execution_count": 511,
     "metadata": {},
     "output_type": "execute_result"
    }
   ],
   "source": [
    "data.isnull().sum()"
   ]
  },
  {
   "cell_type": "code",
   "execution_count": 512,
   "metadata": {},
   "outputs": [
    {
     "data": {
      "text/html": [
       "<div>\n",
       "<style scoped>\n",
       "    .dataframe tbody tr th:only-of-type {\n",
       "        vertical-align: middle;\n",
       "    }\n",
       "\n",
       "    .dataframe tbody tr th {\n",
       "        vertical-align: top;\n",
       "    }\n",
       "\n",
       "    .dataframe thead th {\n",
       "        text-align: right;\n",
       "    }\n",
       "</style>\n",
       "<table border=\"1\" class=\"dataframe\">\n",
       "  <thead>\n",
       "    <tr style=\"text-align: right;\">\n",
       "      <th></th>\n",
       "      <th>mileage</th>\n",
       "      <th>modelDate</th>\n",
       "      <th>model_info</th>\n",
       "      <th>numberOfDoors</th>\n",
       "      <th>parsing_unixtime</th>\n",
       "      <th>productionDate</th>\n",
       "      <th>sell_id</th>\n",
       "      <th>vendor</th>\n",
       "      <th>views</th>\n",
       "      <th>price</th>\n",
       "    </tr>\n",
       "  </thead>\n",
       "  <tbody>\n",
       "    <tr>\n",
       "      <th>count</th>\n",
       "      <td>103034.000000</td>\n",
       "      <td>129986.000000</td>\n",
       "      <td>0.0</td>\n",
       "      <td>129987.000000</td>\n",
       "      <td>1.301540e+05</td>\n",
       "      <td>129988.000000</td>\n",
       "      <td>1.299690e+05</td>\n",
       "      <td>0.0</td>\n",
       "      <td>101998.000000</td>\n",
       "      <td>1.097650e+05</td>\n",
       "    </tr>\n",
       "    <tr>\n",
       "      <th>mean</th>\n",
       "      <td>116610.915407</td>\n",
       "      <td>2012.934578</td>\n",
       "      <td>NaN</td>\n",
       "      <td>4.643164</td>\n",
       "      <td>1.632842e+09</td>\n",
       "      <td>2015.083854</td>\n",
       "      <td>1.104866e+09</td>\n",
       "      <td>NaN</td>\n",
       "      <td>564.982284</td>\n",
       "      <td>2.801223e+06</td>\n",
       "    </tr>\n",
       "    <tr>\n",
       "      <th>std</th>\n",
       "      <td>85154.492046</td>\n",
       "      <td>6.017749</td>\n",
       "      <td>NaN</td>\n",
       "      <td>0.619354</td>\n",
       "      <td>1.316360e+05</td>\n",
       "      <td>5.929774</td>\n",
       "      <td>1.779786e+06</td>\n",
       "      <td>NaN</td>\n",
       "      <td>1814.036025</td>\n",
       "      <td>2.689068e+06</td>\n",
       "    </tr>\n",
       "    <tr>\n",
       "      <th>min</th>\n",
       "      <td>1.000000</td>\n",
       "      <td>1938.000000</td>\n",
       "      <td>NaN</td>\n",
       "      <td>2.000000</td>\n",
       "      <td>1.632613e+09</td>\n",
       "      <td>1952.000000</td>\n",
       "      <td>1.003139e+09</td>\n",
       "      <td>NaN</td>\n",
       "      <td>2.000000</td>\n",
       "      <td>2.300000e+04</td>\n",
       "    </tr>\n",
       "    <tr>\n",
       "      <th>25%</th>\n",
       "      <td>51000.000000</td>\n",
       "      <td>2010.000000</td>\n",
       "      <td>NaN</td>\n",
       "      <td>4.000000</td>\n",
       "      <td>1.632725e+09</td>\n",
       "      <td>2012.000000</td>\n",
       "      <td>1.104900e+09</td>\n",
       "      <td>NaN</td>\n",
       "      <td>127.000000</td>\n",
       "      <td>1.000000e+06</td>\n",
       "    </tr>\n",
       "    <tr>\n",
       "      <th>50%</th>\n",
       "      <td>100000.000000</td>\n",
       "      <td>2014.000000</td>\n",
       "      <td>NaN</td>\n",
       "      <td>5.000000</td>\n",
       "      <td>1.632821e+09</td>\n",
       "      <td>2016.000000</td>\n",
       "      <td>1.105219e+09</td>\n",
       "      <td>NaN</td>\n",
       "      <td>245.000000</td>\n",
       "      <td>2.045000e+06</td>\n",
       "    </tr>\n",
       "    <tr>\n",
       "      <th>75%</th>\n",
       "      <td>161000.000000</td>\n",
       "      <td>2017.000000</td>\n",
       "      <td>NaN</td>\n",
       "      <td>5.000000</td>\n",
       "      <td>1.632973e+09</td>\n",
       "      <td>2020.000000</td>\n",
       "      <td>1.105376e+09</td>\n",
       "      <td>NaN</td>\n",
       "      <td>511.000000</td>\n",
       "      <td>3.649000e+06</td>\n",
       "    </tr>\n",
       "    <tr>\n",
       "      <th>max</th>\n",
       "      <td>1000000.000000</td>\n",
       "      <td>2021.000000</td>\n",
       "      <td>NaN</td>\n",
       "      <td>5.000000</td>\n",
       "      <td>1.633049e+09</td>\n",
       "      <td>2021.000000</td>\n",
       "      <td>1.105403e+09</td>\n",
       "      <td>NaN</td>\n",
       "      <td>148149.000000</td>\n",
       "      <td>3.999000e+07</td>\n",
       "    </tr>\n",
       "  </tbody>\n",
       "</table>\n",
       "</div>"
      ],
      "text/plain": [
       "              mileage      modelDate  model_info  numberOfDoors  \\\n",
       "count   103034.000000  129986.000000         0.0  129987.000000   \n",
       "mean    116610.915407    2012.934578         NaN       4.643164   \n",
       "std      85154.492046       6.017749         NaN       0.619354   \n",
       "min          1.000000    1938.000000         NaN       2.000000   \n",
       "25%      51000.000000    2010.000000         NaN       4.000000   \n",
       "50%     100000.000000    2014.000000         NaN       5.000000   \n",
       "75%     161000.000000    2017.000000         NaN       5.000000   \n",
       "max    1000000.000000    2021.000000         NaN       5.000000   \n",
       "\n",
       "       parsing_unixtime  productionDate       sell_id  vendor          views  \\\n",
       "count      1.301540e+05   129988.000000  1.299690e+05     0.0  101998.000000   \n",
       "mean       1.632842e+09     2015.083854  1.104866e+09     NaN     564.982284   \n",
       "std        1.316360e+05        5.929774  1.779786e+06     NaN    1814.036025   \n",
       "min        1.632613e+09     1952.000000  1.003139e+09     NaN       2.000000   \n",
       "25%        1.632725e+09     2012.000000  1.104900e+09     NaN     127.000000   \n",
       "50%        1.632821e+09     2016.000000  1.105219e+09     NaN     245.000000   \n",
       "75%        1.632973e+09     2020.000000  1.105376e+09     NaN     511.000000   \n",
       "max        1.633049e+09     2021.000000  1.105403e+09     NaN  148149.000000   \n",
       "\n",
       "              price  \n",
       "count  1.097650e+05  \n",
       "mean   2.801223e+06  \n",
       "std    2.689068e+06  \n",
       "min    2.300000e+04  \n",
       "25%    1.000000e+06  \n",
       "50%    2.045000e+06  \n",
       "75%    3.649000e+06  \n",
       "max    3.999000e+07  "
      ]
     },
     "execution_count": 512,
     "metadata": {},
     "output_type": "execute_result"
    }
   ],
   "source": [
    "data.describe()"
   ]
  },
  {
   "cell_type": "markdown",
   "metadata": {},
   "source": [
    "### Subtotal\n",
    "\n",
    "- There are 130201 rows in this dataset.\n",
    "- Target \"price\" contains 20436 missing values. It's bad, because I can't use this examples for model training, so I will remove them.\n",
    "- Here a lot of categorical features, like as fuelType, brand, color and so on.\n",
    "- There are description of announcement. It is text data and interesting, will I extract any valuable information from this feature.\n",
    "- Here two features with links - car_url and image. I will not analyze image links because I will not work with CV techniques in this project. Also I will not use car_url, because I have already a good list of parameters for every case.\n",
    "- complectation_dict - this feature contains useful information (for example, 'cruise-control', 'multi-wheel' and so on). Moreover, some parameters from this feature are duplicated in the main dataset. Next, I will analyze this feature in more detail."
   ]
  },
  {
   "cell_type": "markdown",
   "metadata": {},
   "source": [
    "# Help Functions"
   ]
  },
  {
   "cell_type": "code",
   "execution_count": 513,
   "metadata": {},
   "outputs": [],
   "source": [
    "def norm_string(string: str, stemming_flag = 0):\n",
    "    stemmer = SnowballStemmer(\"russian\") \n",
    "\n",
    "    punc = '''!()-[]{};:'\"\\,<>./?@#$%^&*_~«»»\"–+»+\"-\"”№'''\n",
    "    string = re.sub('\\,|\\.|\\/|\\-', ' ', string)\n",
    "    string = re.sub('\\s+', ' ', string)\n",
    "    string = [i for i in string if i not in punc] # punc delete\n",
    "    string = ''.join(string).lower()\n",
    "\n",
    "    if stemming_flag == 1:\n",
    "        string = nltk.word_tokenize(string)\n",
    "        string = [stemmer.stem(w) if len(w) > 6 else w for w in string]\n",
    "        string = ' '.join(string).lower()\n",
    "\n",
    "    return string"
   ]
  },
  {
   "cell_type": "markdown",
   "metadata": {},
   "source": [
    "# Data Preprocessing"
   ]
  },
  {
   "cell_type": "code",
   "execution_count": 514,
   "metadata": {},
   "outputs": [],
   "source": [
    "# Deleting rows with missing values in target\n",
    "data = data[data['price'].notna()].reset_index(drop=True)"
   ]
  },
  {
   "cell_type": "code",
   "execution_count": 515,
   "metadata": {},
   "outputs": [
    {
     "name": "stdout",
     "output_type": "stream",
     "text": [
      "109765\n",
      "109765\n"
     ]
    }
   ],
   "source": [
    "# Let's remove (little bit later) model_info and vendor features, because they are empty\n",
    "print(data['model_info'].isna().sum())\n",
    "print(data['vendor'].isna().sum())"
   ]
  },
  {
   "cell_type": "code",
   "execution_count": 516,
   "metadata": {},
   "outputs": [
    {
     "name": "stdout",
     "output_type": "stream",
     "text": [
      "1632613481.0\n"
     ]
    }
   ],
   "source": [
    "# Data has downloaded in one session. So let's check first value in parsing_unixtime column.\n",
    "# Date of data parsing is 2021-09-26 \n",
    "print(data['parsing_unixtime'][0])"
   ]
  },
  {
   "cell_type": "code",
   "execution_count": 517,
   "metadata": {},
   "outputs": [
    {
     "name": "stdout",
     "output_type": "stream",
     "text": [
      "RUB    109765\n",
      "Name: priceCurrency, dtype: int64\n"
     ]
    }
   ],
   "source": [
    "# Feature priceCurrency is constant. Let's remove it\n",
    "print(data['priceCurrency'].value_counts())"
   ]
  },
  {
   "cell_type": "code",
   "execution_count": 518,
   "metadata": {},
   "outputs": [
    {
     "name": "stdout",
     "output_type": "stream",
     "text": [
      "0                    LIFTBACK ROBOT 1.8\n",
      "1                LIFTBACK AUTOMATIC 1.6\n",
      "2               LIFTBACK MECHANICAL 1.6\n",
      "3                    LIFTBACK ROBOT 1.4\n",
      "4         ALLROAD_5_DOORS AUTOMATIC 1.4\n",
      "                      ...              \n",
      "109760             SEDAN MECHANICAL 2.0\n",
      "109761     ALLROAD_5_DOORS VARIATOR 2.4\n",
      "109762     ALLROAD_5_DOORS VARIATOR 2.0\n",
      "109763     ALLROAD_5_DOORS VARIATOR 2.4\n",
      "109764             SEDAN MECHANICAL 1.6\n",
      "Name: vehicleConfiguration, Length: 109765, dtype: object\n"
     ]
    }
   ],
   "source": [
    "# This feature is unnecessary, because dataset already has this content (body type, transmission, engine displacement). \n",
    "# Let's remove it\n",
    "print(data['vehicleConfiguration'])"
   ]
  },
  {
   "cell_type": "code",
   "execution_count": 519,
   "metadata": {},
   "outputs": [
    {
     "name": "stdout",
     "output_type": "stream",
     "text": [
      "97597\n",
      "Missing values qty: 88.91%\n"
     ]
    }
   ],
   "source": [
    "# Let's remove this feature, because missing values qty > 88%\n",
    "print(data['Владение'].isna().sum())\n",
    "print(f'Missing values qty: {round((data.Владение.isna().sum() / len(data)) * 100, 2)}%')"
   ]
  },
  {
   "cell_type": "code",
   "execution_count": 520,
   "metadata": {},
   "outputs": [
    {
     "name": "stdout",
     "output_type": "stream",
     "text": [
      "21153\n",
      "Не требует ремонта    88612\n",
      "Name: Состояние, dtype: int64\n"
     ]
    }
   ],
   "source": [
    "# Let's remove this feature, because it contains only one constant value and missing values\n",
    "print(data['Состояние'].isna().sum())\n",
    "print(data['Состояние'].value_counts())"
   ]
  },
  {
   "cell_type": "code",
   "execution_count": 521,
   "metadata": {},
   "outputs": [
    {
     "name": "stdout",
     "output_type": "stream",
     "text": [
      "21156\n",
      "Растаможен    88609\n",
      "Name: Таможня, dtype: int64\n"
     ]
    }
   ],
   "source": [
    "# Let's remove this feature, because it contains only one constant value and missing values\n",
    "print(data['Таможня'].isna().sum())\n",
    "print(data['Таможня'].value_counts())"
   ]
  },
  {
   "cell_type": "code",
   "execution_count": 522,
   "metadata": {},
   "outputs": [],
   "source": [
    "# Deleting unnecessary features \n",
    "data = data.drop(columns=['car_url', 'image', 'model_info', 'vendor', 'parsing_unixtime', 'priceCurrency', 'vehicleConfiguration', \n",
    "                          'Владение', 'Таможня', 'Состояние', 'sell_id'])"
   ]
  },
  {
   "cell_type": "code",
   "execution_count": 523,
   "metadata": {},
   "outputs": [],
   "source": [
    "data.columns = ['body_type', 'brand', 'color', 'complectation_dict', 'description',\n",
    "                'engine_displacement', 'engine_power', 'equipment_dict', 'fuel_type',\n",
    "                'mileage', 'model_date', 'model_name', 'name', 'doors_number',\n",
    "                'production_date', 'super_gen', 'vehicle_transmission',\n",
    "                'owners', 'vehicle_passport', 'wheel_drive', 'steering_wheel', 'views', \n",
    "                'date_added', 'region', 'price']"
   ]
  },
  {
   "cell_type": "markdown",
   "metadata": {},
   "source": [
    "### body_type"
   ]
  },
  {
   "cell_type": "code",
   "execution_count": 524,
   "metadata": {},
   "outputs": [
    {
     "data": {
      "text/html": [
       "<div>\n",
       "<style scoped>\n",
       "    .dataframe tbody tr th:only-of-type {\n",
       "        vertical-align: middle;\n",
       "    }\n",
       "\n",
       "    .dataframe tbody tr th {\n",
       "        vertical-align: top;\n",
       "    }\n",
       "\n",
       "    .dataframe thead th {\n",
       "        text-align: right;\n",
       "    }\n",
       "</style>\n",
       "<table border=\"1\" class=\"dataframe\">\n",
       "  <thead>\n",
       "    <tr style=\"text-align: right;\">\n",
       "      <th></th>\n",
       "      <th>body_type</th>\n",
       "    </tr>\n",
       "  </thead>\n",
       "  <tbody>\n",
       "    <tr>\n",
       "      <th>внедорожник 5 дв.</th>\n",
       "      <td>60847</td>\n",
       "    </tr>\n",
       "    <tr>\n",
       "      <th>седан</th>\n",
       "      <td>27685</td>\n",
       "    </tr>\n",
       "    <tr>\n",
       "      <th>лифтбек</th>\n",
       "      <td>6192</td>\n",
       "    </tr>\n",
       "    <tr>\n",
       "      <th>минивэн</th>\n",
       "      <td>3581</td>\n",
       "    </tr>\n",
       "    <tr>\n",
       "      <th>хэтчбек 5 дв.</th>\n",
       "      <td>3183</td>\n",
       "    </tr>\n",
       "    <tr>\n",
       "      <th>купе</th>\n",
       "      <td>2666</td>\n",
       "    </tr>\n",
       "    <tr>\n",
       "      <th>универсал 5 дв.</th>\n",
       "      <td>1542</td>\n",
       "    </tr>\n",
       "    <tr>\n",
       "      <th>компактвэн</th>\n",
       "      <td>1356</td>\n",
       "    </tr>\n",
       "    <tr>\n",
       "      <th>пикап двойная кабина</th>\n",
       "      <td>1248</td>\n",
       "    </tr>\n",
       "    <tr>\n",
       "      <th>хэтчбек 3 дв.</th>\n",
       "      <td>677</td>\n",
       "    </tr>\n",
       "    <tr>\n",
       "      <th>фургон</th>\n",
       "      <td>460</td>\n",
       "    </tr>\n",
       "    <tr>\n",
       "      <th>внедорожник 3 дв.</th>\n",
       "      <td>92</td>\n",
       "    </tr>\n",
       "    <tr>\n",
       "      <th>кабриолет</th>\n",
       "      <td>82</td>\n",
       "    </tr>\n",
       "    <tr>\n",
       "      <th>купе-хардтоп</th>\n",
       "      <td>58</td>\n",
       "    </tr>\n",
       "    <tr>\n",
       "      <th>родстер</th>\n",
       "      <td>48</td>\n",
       "    </tr>\n",
       "    <tr>\n",
       "      <th>микровэн</th>\n",
       "      <td>30</td>\n",
       "    </tr>\n",
       "    <tr>\n",
       "      <th>пикап одинарная кабина</th>\n",
       "      <td>7</td>\n",
       "    </tr>\n",
       "    <tr>\n",
       "      <th>пикап полуторная кабина</th>\n",
       "      <td>4</td>\n",
       "    </tr>\n",
       "    <tr>\n",
       "      <th>седан-хардтоп</th>\n",
       "      <td>3</td>\n",
       "    </tr>\n",
       "    <tr>\n",
       "      <th>внедорожник открытый</th>\n",
       "      <td>2</td>\n",
       "    </tr>\n",
       "    <tr>\n",
       "      <th>лимузин</th>\n",
       "      <td>1</td>\n",
       "    </tr>\n",
       "  </tbody>\n",
       "</table>\n",
       "</div>"
      ],
      "text/plain": [
       "                         body_type\n",
       "внедорожник 5 дв.            60847\n",
       "седан                        27685\n",
       "лифтбек                       6192\n",
       "минивэн                       3581\n",
       "хэтчбек 5 дв.                 3183\n",
       "купе                          2666\n",
       "универсал 5 дв.               1542\n",
       "компактвэн                    1356\n",
       "пикап двойная кабина          1248\n",
       "хэтчбек 3 дв.                  677\n",
       "фургон                         460\n",
       "внедорожник 3 дв.               92\n",
       "кабриолет                       82\n",
       "купе-хардтоп                    58\n",
       "родстер                         48\n",
       "микровэн                        30\n",
       "пикап одинарная кабина           7\n",
       "пикап полуторная кабина          4\n",
       "седан-хардтоп                    3\n",
       "внедорожник открытый             2\n",
       "лимузин                          1"
      ]
     },
     "execution_count": 524,
     "metadata": {},
     "output_type": "execute_result"
    }
   ],
   "source": [
    "counts_df = data['body_type'].value_counts().to_frame()\n",
    "counts_df"
   ]
  },
  {
   "cell_type": "code",
   "execution_count": 525,
   "metadata": {},
   "outputs": [],
   "source": [
    "'''Let's replace unpopular body types in df (in comparison with other types) on 'other' type'''\n",
    "unpopular_types = list(counts_df.loc[counts_df['body_type'] < 100].index)\n",
    "data['body_type'] = ['other' if i in unpopular_types else i for i in data['body_type'].tolist()]"
   ]
  },
  {
   "cell_type": "code",
   "execution_count": 526,
   "metadata": {},
   "outputs": [
    {
     "data": {
      "text/plain": [
       "внедорожник 5 дв.       60847\n",
       "седан                   27685\n",
       "лифтбек                  6192\n",
       "минивэн                  3581\n",
       "хэтчбек 5 дв.            3183\n",
       "купе                     2666\n",
       "универсал 5 дв.          1542\n",
       "компактвэн               1356\n",
       "пикап двойная кабина     1248\n",
       "хэтчбек 3 дв.             677\n",
       "фургон                    460\n",
       "other                     327\n",
       "Name: body_type, dtype: int64"
      ]
     },
     "execution_count": 526,
     "metadata": {},
     "output_type": "execute_result"
    }
   ],
   "source": [
    "data['body_type'].value_counts()"
   ]
  },
  {
   "cell_type": "code",
   "execution_count": 527,
   "metadata": {},
   "outputs": [
    {
     "data": {
      "text/plain": [
       "<Axes: xlabel='count', ylabel='body_type'>"
      ]
     },
     "execution_count": 527,
     "metadata": {},
     "output_type": "execute_result"
    },
    {
     "data": {
      "image/png": "[encoded data removed]",
      "text/plain": [
       "<Figure size 640x480 with 1 Axes>"
      ]
     },
     "metadata": {},
     "output_type": "display_data"
    }
   ],
   "source": [
    "sns.countplot(data=data, y=\"body_type\", palette=\"ch:.100\")"
   ]
  },
  {
   "cell_type": "code",
   "execution_count": 528,
   "metadata": {},
   "outputs": [
    {
     "name": "stdout",
     "output_type": "stream",
     "text": [
      "Missing values in body_type: 1\n"
     ]
    }
   ],
   "source": [
    "'''Since the length of the dataset is > 109K rows, I can afford to delete one row'''\n",
    "print('Missing values in body_type:', data['body_type'].isna().sum())\n",
    "data = data.dropna(axis=0, subset=['body_type']).reset_index(drop=True)"
   ]
  },
  {
   "cell_type": "markdown",
   "metadata": {},
   "source": [
    "### brand"
   ]
  },
  {
   "cell_type": "code",
   "execution_count": 529,
   "metadata": {},
   "outputs": [
    {
     "data": {
      "text/html": [
       "<div>\n",
       "<style scoped>\n",
       "    .dataframe tbody tr th:only-of-type {\n",
       "        vertical-align: middle;\n",
       "    }\n",
       "\n",
       "    .dataframe tbody tr th {\n",
       "        vertical-align: top;\n",
       "    }\n",
       "\n",
       "    .dataframe thead th {\n",
       "        text-align: right;\n",
       "    }\n",
       "</style>\n",
       "<table border=\"1\" class=\"dataframe\">\n",
       "  <thead>\n",
       "    <tr style=\"text-align: right;\">\n",
       "      <th></th>\n",
       "      <th>brand</th>\n",
       "    </tr>\n",
       "  </thead>\n",
       "  <tbody>\n",
       "    <tr>\n",
       "      <th>TOYOTA</th>\n",
       "      <td>16124</td>\n",
       "    </tr>\n",
       "    <tr>\n",
       "      <th>MERCEDES</th>\n",
       "      <td>14591</td>\n",
       "    </tr>\n",
       "    <tr>\n",
       "      <th>BMW</th>\n",
       "      <td>13743</td>\n",
       "    </tr>\n",
       "    <tr>\n",
       "      <th>NISSAN</th>\n",
       "      <td>13463</td>\n",
       "    </tr>\n",
       "    <tr>\n",
       "      <th>VOLKSWAGEN</th>\n",
       "      <td>12864</td>\n",
       "    </tr>\n",
       "    <tr>\n",
       "      <th>AUDI</th>\n",
       "      <td>9983</td>\n",
       "    </tr>\n",
       "    <tr>\n",
       "      <th>MITSUBISHI</th>\n",
       "      <td>8280</td>\n",
       "    </tr>\n",
       "    <tr>\n",
       "      <th>SKODA</th>\n",
       "      <td>8241</td>\n",
       "    </tr>\n",
       "    <tr>\n",
       "      <th>HONDA</th>\n",
       "      <td>4330</td>\n",
       "    </tr>\n",
       "    <tr>\n",
       "      <th>VOLVO</th>\n",
       "      <td>3400</td>\n",
       "    </tr>\n",
       "    <tr>\n",
       "      <th>LEXUS</th>\n",
       "      <td>3275</td>\n",
       "    </tr>\n",
       "    <tr>\n",
       "      <th>INFINITI</th>\n",
       "      <td>1470</td>\n",
       "    </tr>\n",
       "  </tbody>\n",
       "</table>\n",
       "</div>"
      ],
      "text/plain": [
       "            brand\n",
       "TOYOTA      16124\n",
       "MERCEDES    14591\n",
       "BMW         13743\n",
       "NISSAN      13463\n",
       "VOLKSWAGEN  12864\n",
       "AUDI         9983\n",
       "MITSUBISHI   8280\n",
       "SKODA        8241\n",
       "HONDA        4330\n",
       "VOLVO        3400\n",
       "LEXUS        3275\n",
       "INFINITI     1470"
      ]
     },
     "execution_count": 529,
     "metadata": {},
     "output_type": "execute_result"
    }
   ],
   "source": [
    "data['brand'].value_counts().to_frame()"
   ]
  },
  {
   "cell_type": "code",
   "execution_count": 530,
   "metadata": {},
   "outputs": [
    {
     "data": {
      "text/plain": [
       "<Axes: xlabel='count', ylabel='brand'>"
      ]
     },
     "execution_count": 530,
     "metadata": {},
     "output_type": "execute_result"
    },
    {
     "data": {
      "image/png": "[encoded data removed]",
      "text/plain": [
       "<Figure size 640x480 with 1 Axes>"
      ]
     },
     "metadata": {},
     "output_type": "display_data"
    }
   ],
   "source": [
    "sns.countplot(data=data, y=\"brand\", palette=\"ch:.100\")"
   ]
  },
  {
   "cell_type": "code",
   "execution_count": 531,
   "metadata": {},
   "outputs": [
    {
     "data": {
      "text/plain": [
       "<seaborn.axisgrid.FacetGrid at 0x7f4f5ca99000>"
      ]
     },
     "execution_count": 531,
     "metadata": {},
     "output_type": "execute_result"
    },
    {
     "data": {
      "image/png": "[encoded data removed]",
      "text/plain": [
       "<Figure size 500x500 with 1 Axes>"
      ]
     },
     "metadata": {},
     "output_type": "display_data"
    }
   ],
   "source": [
    "'''Top 3 expensive car brands are Mercedes, BMW and Lexus'''\n",
    "sns.catplot(data=data, x=\"price\", y=\"brand\", kind=\"bar\")"
   ]
  },
  {
   "cell_type": "markdown",
   "metadata": {},
   "source": [
    "### color"
   ]
  },
  {
   "cell_type": "code",
   "execution_count": 532,
   "metadata": {},
   "outputs": [
    {
     "data": {
      "text/html": [
       "<div>\n",
       "<style scoped>\n",
       "    .dataframe tbody tr th:only-of-type {\n",
       "        vertical-align: middle;\n",
       "    }\n",
       "\n",
       "    .dataframe tbody tr th {\n",
       "        vertical-align: top;\n",
       "    }\n",
       "\n",
       "    .dataframe thead th {\n",
       "        text-align: right;\n",
       "    }\n",
       "</style>\n",
       "<table border=\"1\" class=\"dataframe\">\n",
       "  <thead>\n",
       "    <tr style=\"text-align: right;\">\n",
       "      <th></th>\n",
       "      <th>color</th>\n",
       "    </tr>\n",
       "  </thead>\n",
       "  <tbody>\n",
       "    <tr>\n",
       "      <th>чёрный</th>\n",
       "      <td>34600</td>\n",
       "    </tr>\n",
       "    <tr>\n",
       "      <th>белый</th>\n",
       "      <td>27212</td>\n",
       "    </tr>\n",
       "    <tr>\n",
       "      <th>серый</th>\n",
       "      <td>14656</td>\n",
       "    </tr>\n",
       "    <tr>\n",
       "      <th>синий</th>\n",
       "      <td>9717</td>\n",
       "    </tr>\n",
       "    <tr>\n",
       "      <th>серебристый</th>\n",
       "      <td>7966</td>\n",
       "    </tr>\n",
       "    <tr>\n",
       "      <th>красный</th>\n",
       "      <td>4786</td>\n",
       "    </tr>\n",
       "    <tr>\n",
       "      <th>коричневый</th>\n",
       "      <td>3801</td>\n",
       "    </tr>\n",
       "    <tr>\n",
       "      <th>бежевый</th>\n",
       "      <td>2443</td>\n",
       "    </tr>\n",
       "    <tr>\n",
       "      <th>зелёный</th>\n",
       "      <td>2026</td>\n",
       "    </tr>\n",
       "    <tr>\n",
       "      <th>голубой</th>\n",
       "      <td>1241</td>\n",
       "    </tr>\n",
       "    <tr>\n",
       "      <th>пурпурный</th>\n",
       "      <td>346</td>\n",
       "    </tr>\n",
       "    <tr>\n",
       "      <th>оранжевый</th>\n",
       "      <td>317</td>\n",
       "    </tr>\n",
       "    <tr>\n",
       "      <th>фиолетовый</th>\n",
       "      <td>260</td>\n",
       "    </tr>\n",
       "    <tr>\n",
       "      <th>жёлтый</th>\n",
       "      <td>192</td>\n",
       "    </tr>\n",
       "    <tr>\n",
       "      <th>золотистый</th>\n",
       "      <td>188</td>\n",
       "    </tr>\n",
       "    <tr>\n",
       "      <th>розовый</th>\n",
       "      <td>13</td>\n",
       "    </tr>\n",
       "  </tbody>\n",
       "</table>\n",
       "</div>"
      ],
      "text/plain": [
       "             color\n",
       "чёрный       34600\n",
       "белый        27212\n",
       "серый        14656\n",
       "синий         9717\n",
       "серебристый   7966\n",
       "красный       4786\n",
       "коричневый    3801\n",
       "бежевый       2443\n",
       "зелёный       2026\n",
       "голубой       1241\n",
       "пурпурный      346\n",
       "оранжевый      317\n",
       "фиолетовый     260\n",
       "жёлтый         192\n",
       "золотистый     188\n",
       "розовый         13"
      ]
     },
     "execution_count": 532,
     "metadata": {},
     "output_type": "execute_result"
    }
   ],
   "source": [
    "data['color'].value_counts().to_frame()"
   ]
  },
  {
   "cell_type": "code",
   "execution_count": 533,
   "metadata": {},
   "outputs": [
    {
     "data": {
      "text/plain": [
       "<Axes: xlabel='count', ylabel='color'>"
      ]
     },
     "execution_count": 533,
     "metadata": {},
     "output_type": "execute_result"
    },
    {
     "data": {
      "image/png": "[encoded data removed]",
      "text/plain": [
       "<Figure size 640x480 with 1 Axes>"
      ]
     },
     "metadata": {},
     "output_type": "display_data"
    }
   ],
   "source": [
    "'''Most popular colors are black and white'''\n",
    "sns.countplot(data=data, y=\"color\", palette=\"ch:.100\")"
   ]
  },
  {
   "cell_type": "markdown",
   "metadata": {},
   "source": [
    "### fuel_type"
   ]
  },
  {
   "cell_type": "code",
   "execution_count": 534,
   "metadata": {},
   "outputs": [
    {
     "data": {
      "text/html": [
       "<div>\n",
       "<style scoped>\n",
       "    .dataframe tbody tr th:only-of-type {\n",
       "        vertical-align: middle;\n",
       "    }\n",
       "\n",
       "    .dataframe tbody tr th {\n",
       "        vertical-align: top;\n",
       "    }\n",
       "\n",
       "    .dataframe thead th {\n",
       "        text-align: right;\n",
       "    }\n",
       "</style>\n",
       "<table border=\"1\" class=\"dataframe\">\n",
       "  <thead>\n",
       "    <tr style=\"text-align: right;\">\n",
       "      <th></th>\n",
       "      <th>fuel_type</th>\n",
       "    </tr>\n",
       "  </thead>\n",
       "  <tbody>\n",
       "    <tr>\n",
       "      <th>бензин</th>\n",
       "      <td>83931</td>\n",
       "    </tr>\n",
       "    <tr>\n",
       "      <th>дизель</th>\n",
       "      <td>24748</td>\n",
       "    </tr>\n",
       "    <tr>\n",
       "      <th>гибрид</th>\n",
       "      <td>985</td>\n",
       "    </tr>\n",
       "    <tr>\n",
       "      <th>электро</th>\n",
       "      <td>99</td>\n",
       "    </tr>\n",
       "    <tr>\n",
       "      <th>газ</th>\n",
       "      <td>1</td>\n",
       "    </tr>\n",
       "  </tbody>\n",
       "</table>\n",
       "</div>"
      ],
      "text/plain": [
       "         fuel_type\n",
       "бензин       83931\n",
       "дизель       24748\n",
       "гибрид         985\n",
       "электро         99\n",
       "газ              1"
      ]
     },
     "execution_count": 534,
     "metadata": {},
     "output_type": "execute_result"
    }
   ],
   "source": [
    "counts_df = data['fuel_type'].value_counts().to_frame()\n",
    "counts_df"
   ]
  },
  {
   "cell_type": "code",
   "execution_count": 535,
   "metadata": {},
   "outputs": [],
   "source": [
    "'''Let's replace unpopular fuel types in df (in comparison with other types) on 'other' type'''\n",
    "unpopular_types = list(counts_df.loc[counts_df['fuel_type'] < 1000].index)\n",
    "data['fuel_type'] = ['other' if i in unpopular_types else i for i in data['fuel_type'].tolist()]"
   ]
  },
  {
   "cell_type": "code",
   "execution_count": 536,
   "metadata": {},
   "outputs": [
    {
     "data": {
      "text/plain": [
       "бензин    83931\n",
       "дизель    24748\n",
       "other      1085\n",
       "Name: fuel_type, dtype: int64"
      ]
     },
     "execution_count": 536,
     "metadata": {},
     "output_type": "execute_result"
    }
   ],
   "source": [
    "data['fuel_type'].value_counts()"
   ]
  },
  {
   "cell_type": "code",
   "execution_count": 537,
   "metadata": {},
   "outputs": [
    {
     "data": {
      "text/plain": [
       "<Axes: xlabel='count', ylabel='fuel_type'>"
      ]
     },
     "execution_count": 537,
     "metadata": {},
     "output_type": "execute_result"
    },
    {
     "data": {
      "image/png": "[encoded data removed]",
      "text/plain": [
       "<Figure size 640x480 with 1 Axes>"
      ]
     },
     "metadata": {},
     "output_type": "display_data"
    }
   ],
   "source": [
    "'''Most popular fuel type is gasoline'''\n",
    "sns.countplot(data=data, y=\"fuel_type\", palette=\"ch:.100\")"
   ]
  },
  {
   "cell_type": "code",
   "execution_count": 538,
   "metadata": {},
   "outputs": [
    {
     "data": {
      "text/plain": [
       "<seaborn.axisgrid.FacetGrid at 0x7f4f55749030>"
      ]
     },
     "execution_count": 538,
     "metadata": {},
     "output_type": "execute_result"
    },
    {
     "data": {
      "image/png": "[encoded data removed]",
      "text/plain": [
       "<Figure size 500x500 with 1 Axes>"
      ]
     },
     "metadata": {},
     "output_type": "display_data"
    }
   ],
   "source": [
    "'''But more expensive cars with diesel fuel type'''\n",
    "sns.catplot(data=data, x=\"price\", y=\"fuel_type\", kind=\"bar\")"
   ]
  },
  {
   "cell_type": "markdown",
   "metadata": {},
   "source": [
    "### model_name"
   ]
  },
  {
   "cell_type": "code",
   "execution_count": 539,
   "metadata": {},
   "outputs": [
    {
     "data": {
      "text/html": [
       "<div>\n",
       "<style scoped>\n",
       "    .dataframe tbody tr th:only-of-type {\n",
       "        vertical-align: middle;\n",
       "    }\n",
       "\n",
       "    .dataframe tbody tr th {\n",
       "        vertical-align: top;\n",
       "    }\n",
       "\n",
       "    .dataframe thead th {\n",
       "        text-align: right;\n",
       "    }\n",
       "</style>\n",
       "<table border=\"1\" class=\"dataframe\">\n",
       "  <thead>\n",
       "    <tr style=\"text-align: right;\">\n",
       "      <th></th>\n",
       "      <th>model_name</th>\n",
       "    </tr>\n",
       "  </thead>\n",
       "  <tbody>\n",
       "    <tr>\n",
       "      <th>Tiguan</th>\n",
       "      <td>4162</td>\n",
       "    </tr>\n",
       "    <tr>\n",
       "      <th>X-Trail</th>\n",
       "      <td>3583</td>\n",
       "    </tr>\n",
       "    <tr>\n",
       "      <th>Touareg</th>\n",
       "      <td>2851</td>\n",
       "    </tr>\n",
       "    <tr>\n",
       "      <th>Camry</th>\n",
       "      <td>2767</td>\n",
       "    </tr>\n",
       "    <tr>\n",
       "      <th>Land Cruiser</th>\n",
       "      <td>2405</td>\n",
       "    </tr>\n",
       "    <tr>\n",
       "      <th>...</th>\n",
       "      <td>...</td>\n",
       "    </tr>\n",
       "    <tr>\n",
       "      <th>I</th>\n",
       "      <td>1</td>\n",
       "    </tr>\n",
       "    <tr>\n",
       "      <th>Succeed</th>\n",
       "      <td>1</td>\n",
       "    </tr>\n",
       "    <tr>\n",
       "      <th>Sprinter Carib</th>\n",
       "      <td>1</td>\n",
       "    </tr>\n",
       "    <tr>\n",
       "      <th>Carina ED</th>\n",
       "      <td>1</td>\n",
       "    </tr>\n",
       "    <tr>\n",
       "      <th>L400</th>\n",
       "      <td>1</td>\n",
       "    </tr>\n",
       "  </tbody>\n",
       "</table>\n",
       "<p>504 rows × 1 columns</p>\n",
       "</div>"
      ],
      "text/plain": [
       "                model_name\n",
       "Tiguan                4162\n",
       "X-Trail               3583\n",
       "Touareg               2851\n",
       "Camry                 2767\n",
       "Land Cruiser          2405\n",
       "...                    ...\n",
       "I                        1\n",
       "Succeed                  1\n",
       "Sprinter Carib           1\n",
       "Carina ED                1\n",
       "L400                     1\n",
       "\n",
       "[504 rows x 1 columns]"
      ]
     },
     "execution_count": 539,
     "metadata": {},
     "output_type": "execute_result"
    }
   ],
   "source": [
    "data['model_name'].value_counts().to_frame()"
   ]
  },
  {
   "cell_type": "code",
   "execution_count": 540,
   "metadata": {},
   "outputs": [
    {
     "data": {
      "text/plain": [
       "21152"
      ]
     },
     "execution_count": 540,
     "metadata": {},
     "output_type": "execute_result"
    }
   ],
   "source": [
    "'''There are a lot of missing values in this feature, so it's a good idea to remove it. But for now, I won't do it'''\n",
    "data['model_name'].isna().sum()"
   ]
  },
  {
   "cell_type": "markdown",
   "metadata": {},
   "source": [
    "### name"
   ]
  },
  {
   "cell_type": "code",
   "execution_count": 541,
   "metadata": {},
   "outputs": [
    {
     "data": {
      "text/plain": [
       "0                        Skoda Octavia III (A7)\n",
       "1                                Skoda Rapid II\n",
       "2                                Skoda Rapid II\n",
       "3             Skoda Octavia III (A7) Рестайлинг\n",
       "4                                 Skoda Karoq I\n",
       "                          ...                  \n",
       "109759                      Mitsubishi Lancer X\n",
       "109760      Mitsubishi Outlander III Рестайлинг\n",
       "109761    Mitsubishi Outlander III Рестайлинг 3\n",
       "109762       Mitsubishi Outlander II Рестайлинг\n",
       "109763           Mitsubishi Lancer X Рестайлинг\n",
       "Name: name, Length: 109764, dtype: object"
      ]
     },
     "execution_count": 541,
     "metadata": {},
     "output_type": "execute_result"
    }
   ],
   "source": [
    "'''This feature contains information about brand, model and something else.\n",
    "Let's try to extract car model from this feature. I parsed car models manually and keep them in brand_dict.\n",
    "I'm fixing the car model if model from brand_dict contains in the feature name'''\n",
    "data['name']"
   ]
  },
  {
   "cell_type": "code",
   "execution_count": 542,
   "metadata": {},
   "outputs": [],
   "source": [
    "brand_dict = {\n",
    "    'skoda': ['Citigo', 'Rapid', 'Octavia', 'Fabia', 'Superb', 'Kodiaq', 'Karoq', 'Scala', 'Kamiq', 'Enyaq', 'Kushaq', 'Slavia', 'Yeti', 'Felicia',\n",
    "             'Roomster', 'Favorit', '105'],\n",
    "    \n",
    "    'audi': ['A1', 'A2', 'A3', 'A4', 'A5', 'A6', 'A7', 'A8', 'Cabriolet', 'TT', 'Coupe', 'Roadster', 'Q2', 'Q3', 'Q5', 'Q7', 'R8', 'e-tron', 'R8', \n",
    "             'Sportback', 'S1', 'S2', 'S3', 'S4', 'S5', 'S6', 'S7', 'S8', 'SQ2', 'SQ5', 'SQ7', 'TTS', '100', '200', '80', '90', 'e', 'q8', 'rs', 'sq8', 'v8'],\n",
    "    \n",
    "    'honda': ['Accord', 'Avancier', 'City', 'Civic', 'Concerto', 'CR-V', 'CR-X', 'CR-Z', 'Crossroad', 'Crosstour', 'Element', 'Elevate', 'Elysion', \n",
    "              'Clarity', 'Fit', 'FR-V', 'Freed', 'Grace', 'HR-V', 'Integra', 'S660', 'Vigor', 'Insight', 'Insight', 'Jazz', 'Legend', 'Logo', 'Slash', \n",
    "              'N-ONE', 'N-WGN', 'NSX', 'Odyssey', 'Orthia', 'Pilot', 'Prelude', 'Rafaga', 'Ridgeline', 'S-MX', 'S2000', 'Shirui', 'Shuttle', 'Stream',\n",
    "              'Torneo', 'Zest', 'ZR-V', 'stepwgn', 'acty', 'airwave', 'ascot', 'capa', 'cr', 'domani', 'edix', 'fr', 'hr', 'inspire', 'jade', 'life', \n",
    "              'mobilio', 'n', 'partner', 's', 'saber', 'stepwgn', 'today', 'vamos', 'vezel', 'z'],\n",
    "    \n",
    "    'volvo': ['66', '140', '200', '300', '460', '480', '700', '850', '900', '940', '960', 'Amazon', 'Brage', 'C30', 'C70', 'C202', 'EX30', 'EX90', 'F4', \n",
    "              'F10', 'F85', 'F88', 'FE', 'FH', 'FL', 'FM', 'FMX', 'L340', 'Longnose', 'LV4', 'LV60', 'LV66', 'LV71', 'LV76', 'LV81', 'LV120', 'PV4', \n",
    "              'P1800', 'P1900', 'Carioca', 'PV444', 'S40', 'S60', 'S70', 'S80', 'S90', 'Sharpnose', 'Snabbe', 'T6', 'Titan', 'V60', 'Viking', 'VM', 'VN', \n",
    "              'VHD', 'VT', 'XC40', 'XC60', 'V70', 'XC90', '240', '440', '740', '760', 'v40', 'v50', 'v90', 'xc70'],\n",
    "    \n",
    "    'bmw': ['328', '501', '503', '507', '700', '3200', 'ActiveHybrid', 'E3', 'E9', 'E12', 'E21', 'E23', 'E24', 'E28', 'E30', 'E31', 'E32', 'E34', 'E34', \n",
    "            'E36', 'E38', 'E39', 'E46', 'E60', 'E65', 'E87', 'E90', 'E92', 'F01', 'F10', 'F22', 'F23', 'F26', 'F30', 'F34', 'F82', 'G02', 'G11', 'G15', \n",
    "            'G20', 'G30', 'G60', 'G70', 'G82', 'GINA', 'Hydrogen', 'Vision', 'i3', 'i7', 'i8', 'Isetta', 'iX', 'M1', 'M3', 'M5', 'M6', 'Klasse', 'X', \n",
    "            'X1', 'X2', 'X3', 'X4', 'X5', 'X6', 'X7', 'XM', 'Z', 'Z1', 'Z4', 'Z8', 'm2', 'm8', 'z3', '320d', 'gran', '330i', '645i', 'f87', '318i', \n",
    "            '640d', '640i','116d', '116i', '118i', '120d', '135i', '316d', '316i', '318d', '320i', '328i', '330d', '335i', '420d', '420i', '428i', \n",
    "            '430i', '435i', '630i', '650i', 'active', 'm340i'],\n",
    "    \n",
    "    'nissan': ['180SX', '300ZX', '350Z', '370Z', 'Almera', 'Hybrid', 'Armada', 'Atlas', 'Atleon', 'Avenir', 'Thumb', 'Bluebird', 'Sylphy', 'C80', 'Caball', \n",
    "               'Caravan', 'Elgrand', 'Cedric', 'Cefiro', 'Condor', 'Cube', 'Cherry', 'DeltaWing', 'Z', 'Figaro', 'Fuga', 'Gloria', 'GT-R', 'Nismo', 'Truck', \n",
    "               'II', 'Juke', 'Kicks', 'Laurel', 'Spirit', 'LEAF', 'Leopard', 'Liberty', 'Livina', 'Logan', 'Magnite', 'Maxima', 'Micra', 'Mixim', 'Murano', \n",
    "               'Navara', 'NP300', 'NT400', 'NT500', 'NV200', 'NV250', 'NV400', 'III', 'Pao', 'Pathfinder', 'Patrol', 'Pintara', 'Pivo', 'A-Star', 'Presage', \n",
    "               'President', 'Primera', 'Homer', 'Royal', 'Pulsar', 'GTI-R', 'Qashqai', 'Quest', 'Quon', 'R’nessa', 'Rasheen', 'Project', 'S30', 'Sakura', \n",
    "               'Sentra', 'Serena', 'Silvia', 'Skyline', 'Stagea', 'Stanza', 'Sunny', 'Wagon', 'Teana', 'Terrano', 'Tiida', 'Titan', 'Townstar', 'Trade', \n",
    "               'Truck', 'Vanette', 'Wingroad', 'X-Trail', 'Xterra', 'bassara', 'dayz', 'dualis', 'expert', 'gt', 'kix', 'march', 'note', 'nv100', \n",
    "               'qashqai2', 'rnessa', 'tino', 'x'],\n",
    "    \n",
    "    'infiniti': ['Q50', 'Q60', 'Q70', 'QX30', 'QX50 ', 'QX60', 'QX80', 'M30', 'M45', 'G20', 'J30', 'QX4', 'I', 'Q45', 'FX35', 'QX56', 'QX70', 'G25', \n",
    "                 'G35', 'G37', 'fx', 'jx', 'm', 'q30', 'qx50', 'qx55'],\n",
    "    \n",
    "    'mercedes': ['300SL', '500K', '770', 'R129', 'A-класс', 'GT', 'Atron', 'B-класс', 'Patent-Motorwagen', 'C-класс', 'C111', 'C215', 'C218', 'w188',\n",
    "                 'C219', 'C112', 'C117', 'C257', 'Citan', 'CL-класс', 'CLA-класс', 'CLC-класс', 'GTR', 'CLS-класс', 'E-класс', 'SUV', 'F-Cell', 'G-класс', \n",
    "                 'G4', 'GLB-класс', 'GLE-класс', 'GLK-класс', 'GLS-класс', 'MB100', 'D', 'SLR', '6.3', '6.9', 'AMG', 'V167', 'X167', 'L206', 'E7.4RS', \n",
    "                 'TN', 'Vaneo', 'W108', 'W111', 'W112', 'W180', 'R171', 'R-класс', 'ONE', 'R107', 'C107', 'R170', 'R172', 'R230', 'R231', 'S', 'S-класс', \n",
    "                 'McLaren', 'SL-класс', 'AMG', 'SLC-класс', 'SLK-класс', 'AMG', 'Sprinter', 'T80', 'Т-класс', 'Transporter', '300', 'b', 'cl', 'w128',\n",
    "                 'V-класс', 'W21', 'W212', 'CLK-класс', 'W100', 'W109', 'W110', 'W113', 'W114', 'W115', 'W116', '190SL', 'W120', 'W123', 'W124', 'eqc',\n",
    "                 'Rekordwagen', 'W126', 'W136', 'W140', 'W143', 'W163', 'W164', 'W166', 'W177', 'W194', 'W198', 'W201', 'W202', 'W203', 'W204', 'cl',\n",
    "                 'W205', 'W208', 'W209', 'W210', 'W211', 'W213', 'W214', 'W220', 'W221', 'W222', 'W223', 'W245', 'W246', 'W251', 'W460', 'W463', 'glb', \n",
    "                 'Vito', 'W901', 'W906', 'W907', 'X-класс', 'GLA-класс', 'X164', 'X166', 'maybach', 'glc', 'gla', 'gle', 'glk', 'viano', 'clc', 'cla', 'a',\n",
    "                 'w638'],\n",
    "    \n",
    "    'toyota': ['4Runner', '2000GT', 'AA', 'AE86', 'Agya', 'Allion', 'Alphard', 'Aqua', 'Aurion', 'Auris', 'Avalon', 'Avensis', 'Aygo', 'X', 'bB', \n",
    "               'Belta', 'Brevis', 'bZ3', 'Caldina', 'Camry', 'Solara', 'Carina', 'ED', 'Celica', 'Camry', 'GT-Four', 'Century', 'CH-R', 'Chaser', 'Corolla', \n",
    "               'E140', 'E170', 'Cross', 'Spacio', 'Corona', 'Cressida', 'Cresta', 'Crown', 'Majesta', 'Curren', 'Cynos', 'Duet', 'Dyna', 'eCom', 'Fine-N', \n",
    "               'Fine-X', 'Cruiser', 'Fortuner', 'FT-HS', 'Gaia', 'Highlander', 'Harrier', 'Hiace', 'Highlander', 'Hilux', 'X', 'Ipsum', 'iQ', 'Isis', 'iX4', \n",
    "               'Cruiser', 'Prado', 'LiteAce', 'II', 'Qualis', 'X', 'Matrix', 'Mirai', 'MR2', 'Nadia', 'Noah', 'Opa', 'Passo', 'Picnic', 'Epoch', 'Space', 'PM', \n",
    "               'Porte', 'Premio', 'Previa', 'Prius','PHV', 'α', 'ProAce', 'Probox', 'Progres', 'Publica', 'Ractis', 'Raum', 'RAV4', 'EV', 'Rush', 'SA', \n",
    "               'SAI', 'Sequoia', 'Sienna', 'Soarer', '800', 'Sprinter', 'Marino', 'Stout', 'Succeed', 'Supra', 'Tacoma', 'Tercel', 'Ace', 'Toyoace', \n",
    "               'Avanza', 'Hybrid', 'Cross', 'Hybrid', 'Tundra', 'Cruiser', 'Venza', 'Verossa', 'Vista', 'V20', 'Wish', 'Yaris', 'allex', 'c', \n",
    "               'cavalier', 'esquire', 'estima', 'funcargo', 'platz', 'regius', 'sienta', 'spade', 'starlet', 'verso', 'vitz', 'voxy', 'windom'],\n",
    "    \n",
    "    'lexus': ['ES', 'LS', 'LX', 'GX', 'NX', 'RX', 'UX', 'ct', 'gs', 'hs', 'is', 'lc', 'rc', 'sc'], \n",
    "\n",
    "    'volkswagen': ['Golf', 'CrossFox', 'Eos', 'GLI', 'Gol', 'Golf', 'GTI', 'Jetta', 'Wagon', 'Beetle', 'Passat', 'CC', 'Routan', 'SportVan', 'Tiguan', \n",
    "                   'Touareg', 'Caddy', 'Fox', 'Gol', 'GTI', 'Parati', 'Polo', 'Saveiro','amarok', 'arteon', 'bora', 'california', 'caravelle', \n",
    "                   'multivan', 'phaeton', 'pointer', 'scirocco', 'sharan', 'taos', 'teramont', 'touran', 'transporter', 'type'],\n",
    "    \n",
    "    'mitsubishi': ['ASX', 'Attrage', 'Carisma', 'Delica', 'Diamante', 'Dingo', 'Dion', 'E-More', 'Eclipse', 'Endeavor', 'Eupheme', 'EV', 'Galant', 'Lambda', \n",
    "                   'Jingang', 'Jeep', 'L200', 'Lancer', 'Evolution', 'Minica', 'Mirage', '500', 'Cross', 'Canter', 'Fighter', 'Rosa', 'Great', 'HSR', 'Magna', \n",
    "                   'Minicab', 'Raider', 'Outlander', 'Pajero', 'Mini', 'Sport', 'Runner', 'Star', 'Starion', 'Box', 'Tredia', '73', 'Harrier', 'Hiace', \n",
    "                   'Highlander', 'Hilux', 'X', 'Ipsum', 'iQ', 'Isis', 'iX4', 'Cruiser', 'Prado', 'LiteAce', 'II', 'Qualis', 'X', 'Matrix', 'Mirai', 'MR2', 'Nadia',  \n",
    "                   'Opa', 'Passo', 'Picnic', 'Epoch', 'Space', 'PM', 'Porte', 'Premio', 'Previa', 'Prius', 'PHV', 'ProAce', 'Probox', 'Progres', 'Publica', \n",
    "                   'Ractis', 'Raum', 'RAV4', 'EV', 'Rush', 'SA', 'SAI', 'Sequoia', 'Sienna', 'Soarer', '800', 'Sprinter', 'Marino', 'Stout', 'Succeed', 'Supra', \n",
    "                   'Tacoma', 'Tercel', 'Ace', 'Toyoace', 'Avanza', 'Hybrid', 'Cross', 'Hybrid', 'Tundra', 'Cruiser', 'Venza', 'Verossa', 'Vista', 'V20', \n",
    "                   'Wish', 'Yaris', 'Noah', '3000', 'airtrek', 'challenger', 'chariot', 'colt', 'ek', 'eterna', 'fto', 'grandis', 'i', 'l400', 'legnum', \n",
    "                   'libero', 'montero', 'rvr', 'toppo']\n",
    "}"
   ]
  },
  {
   "cell_type": "code",
   "execution_count": 543,
   "metadata": {},
   "outputs": [],
   "source": [
    "norm_name_list = [norm_string(s).split(' ') for s in data['name'].tolist()]\n",
    "model_list = []\n",
    "none_list = []\n",
    "\n",
    "for s, norm_name in enumerate(norm_name_list):\n",
    "    brand = norm_string(data['brand'][s])\n",
    "    brand_model_list = brand_dict.get(brand)\n",
    "\n",
    "    model = [a for a in brand_model_list if norm_string(a) in norm_name]\n",
    "    \n",
    "    if model:\n",
    "        model_list.append(model[0])\n",
    "\n",
    "    else:\n",
    "        model_list.append(None)\n",
    "        none_list.append(norm_name)"
   ]
  },
  {
   "cell_type": "code",
   "execution_count": 544,
   "metadata": {},
   "outputs": [
    {
     "name": "stdout",
     "output_type": "stream",
     "text": [
      "1 [['mercedes', 'benz', 'r', 'класс', '350', 'long', 'i']]\n"
     ]
    }
   ],
   "source": [
    "print(len(none_list), none_list)"
   ]
  },
  {
   "cell_type": "code",
   "execution_count": 545,
   "metadata": {},
   "outputs": [
    {
     "data": {
      "text/plain": [
       "0"
      ]
     },
     "execution_count": 545,
     "metadata": {},
     "output_type": "execute_result"
    }
   ],
   "source": [
    "'''Let's replace missing values in model_name feature by extracted values from name feature'''\n",
    "data['model_name'] = [i if str(i) != 'nan' else model_list[s] for s, i in enumerate(data['model_name'].tolist())]\n",
    "data['model_name'] = data['model_name'].apply(lambda x: norm_string(x))\n",
    "data['model_name'].isna().sum()"
   ]
  },
  {
   "cell_type": "code",
   "execution_count": 546,
   "metadata": {},
   "outputs": [
    {
     "data": {
      "text/html": [
       "<div>\n",
       "<style scoped>\n",
       "    .dataframe tbody tr th:only-of-type {\n",
       "        vertical-align: middle;\n",
       "    }\n",
       "\n",
       "    .dataframe tbody tr th {\n",
       "        vertical-align: top;\n",
       "    }\n",
       "\n",
       "    .dataframe thead th {\n",
       "        text-align: right;\n",
       "    }\n",
       "</style>\n",
       "<table border=\"1\" class=\"dataframe\">\n",
       "  <thead>\n",
       "    <tr style=\"text-align: right;\">\n",
       "      <th></th>\n",
       "      <th>model_name</th>\n",
       "    </tr>\n",
       "  </thead>\n",
       "  <tbody>\n",
       "    <tr>\n",
       "      <th>tiguan</th>\n",
       "      <td>4710</td>\n",
       "    </tr>\n",
       "    <tr>\n",
       "      <th>a6</th>\n",
       "      <td>3636</td>\n",
       "    </tr>\n",
       "    <tr>\n",
       "      <th>x trail</th>\n",
       "      <td>3583</td>\n",
       "    </tr>\n",
       "    <tr>\n",
       "      <th>camry</th>\n",
       "      <td>3372</td>\n",
       "    </tr>\n",
       "    <tr>\n",
       "      <th>outlander</th>\n",
       "      <td>3217</td>\n",
       "    </tr>\n",
       "    <tr>\n",
       "      <th>...</th>\n",
       "      <td>...</td>\n",
       "    </tr>\n",
       "    <tr>\n",
       "      <th>esquire</th>\n",
       "      <td>1</td>\n",
       "    </tr>\n",
       "    <tr>\n",
       "      <th>bassara</th>\n",
       "      <td>1</td>\n",
       "    </tr>\n",
       "    <tr>\n",
       "      <th>vellfire</th>\n",
       "      <td>1</td>\n",
       "    </tr>\n",
       "    <tr>\n",
       "      <th>edix</th>\n",
       "      <td>1</td>\n",
       "    </tr>\n",
       "    <tr>\n",
       "      <th>l400</th>\n",
       "      <td>1</td>\n",
       "    </tr>\n",
       "  </tbody>\n",
       "</table>\n",
       "<p>535 rows × 1 columns</p>\n",
       "</div>"
      ],
      "text/plain": [
       "           model_name\n",
       "tiguan           4710\n",
       "a6               3636\n",
       "x trail          3583\n",
       "camry            3372\n",
       "outlander        3217\n",
       "...               ...\n",
       "esquire             1\n",
       "bassara             1\n",
       "vellfire            1\n",
       "edix                1\n",
       "l400                1\n",
       "\n",
       "[535 rows x 1 columns]"
      ]
     },
     "execution_count": 546,
     "metadata": {},
     "output_type": "execute_result"
    }
   ],
   "source": [
    "data['model_name'].value_counts().to_frame()"
   ]
  },
  {
   "cell_type": "code",
   "execution_count": 547,
   "metadata": {},
   "outputs": [],
   "source": [
    "'''Let's remove name feature'''\n",
    "data = data.drop(columns=['name'])"
   ]
  },
  {
   "cell_type": "markdown",
   "metadata": {},
   "source": [
    "### engine_power"
   ]
  },
  {
   "cell_type": "code",
   "execution_count": 548,
   "metadata": {},
   "outputs": [
    {
     "data": {
      "text/plain": [
       "0    180 N12\n",
       "1    110 N12\n",
       "2     90 N12\n",
       "3    150 N12\n",
       "4    150 N12\n",
       "Name: engine_power, dtype: object"
      ]
     },
     "execution_count": 548,
     "metadata": {},
     "output_type": "execute_result"
    }
   ],
   "source": [
    "data['engine_power'].head()"
   ]
  },
  {
   "cell_type": "code",
   "execution_count": 549,
   "metadata": {},
   "outputs": [
    {
     "data": {
      "text/plain": [
       "{'N12'}"
      ]
     },
     "execution_count": 549,
     "metadata": {},
     "output_type": "execute_result"
    }
   ],
   "source": [
    "'''Let's check idea that N12 is static for every value. Yes, it's true'''\n",
    "set([i.split(' ')[1] for i in data['engine_power'].tolist()])"
   ]
  },
  {
   "cell_type": "code",
   "execution_count": 550,
   "metadata": {},
   "outputs": [],
   "source": [
    "'''Let's remove static part with N12 in every value of feature'''\n",
    "data['engine_power'] = [i.split(' ')[0] for i in data['engine_power'].tolist()]\n",
    "data['engine_power'] = data['engine_power'].astype(int)"
   ]
  },
  {
   "cell_type": "code",
   "execution_count": 551,
   "metadata": {},
   "outputs": [
    {
     "name": "stdout",
     "output_type": "stream",
     "text": [
      "Min value: 41\n",
      "Max value: 646\n",
      "Unique values qty: 302\n"
     ]
    },
    {
     "data": {
      "text/html": [
       "<div>\n",
       "<style scoped>\n",
       "    .dataframe tbody tr th:only-of-type {\n",
       "        vertical-align: middle;\n",
       "    }\n",
       "\n",
       "    .dataframe tbody tr th {\n",
       "        vertical-align: top;\n",
       "    }\n",
       "\n",
       "    .dataframe thead th {\n",
       "        text-align: right;\n",
       "    }\n",
       "</style>\n",
       "<table border=\"1\" class=\"dataframe\">\n",
       "  <thead>\n",
       "    <tr style=\"text-align: right;\">\n",
       "      <th></th>\n",
       "      <th>engine_power</th>\n",
       "    </tr>\n",
       "  </thead>\n",
       "  <tbody>\n",
       "    <tr>\n",
       "      <th>249</th>\n",
       "      <td>12225</td>\n",
       "    </tr>\n",
       "    <tr>\n",
       "      <th>150</th>\n",
       "      <td>8351</td>\n",
       "    </tr>\n",
       "    <tr>\n",
       "      <th>190</th>\n",
       "      <td>6291</td>\n",
       "    </tr>\n",
       "    <tr>\n",
       "      <th>181</th>\n",
       "      <td>3121</td>\n",
       "    </tr>\n",
       "    <tr>\n",
       "      <th>110</th>\n",
       "      <td>3041</td>\n",
       "    </tr>\n",
       "    <tr>\n",
       "      <th>144</th>\n",
       "      <td>2882</td>\n",
       "    </tr>\n",
       "    <tr>\n",
       "      <th>171</th>\n",
       "      <td>2787</td>\n",
       "    </tr>\n",
       "    <tr>\n",
       "      <th>170</th>\n",
       "      <td>2771</td>\n",
       "    </tr>\n",
       "    <tr>\n",
       "      <th>180</th>\n",
       "      <td>2618</td>\n",
       "    </tr>\n",
       "    <tr>\n",
       "      <th>146</th>\n",
       "      <td>2205</td>\n",
       "    </tr>\n",
       "    <tr>\n",
       "      <th>340</th>\n",
       "      <td>2085</td>\n",
       "    </tr>\n",
       "    <tr>\n",
       "      <th>333</th>\n",
       "      <td>1932</td>\n",
       "    </tr>\n",
       "    <tr>\n",
       "      <th>90</th>\n",
       "      <td>1808</td>\n",
       "    </tr>\n",
       "    <tr>\n",
       "      <th>245</th>\n",
       "      <td>1751</td>\n",
       "    </tr>\n",
       "    <tr>\n",
       "      <th>105</th>\n",
       "      <td>1736</td>\n",
       "    </tr>\n",
       "  </tbody>\n",
       "</table>\n",
       "</div>"
      ],
      "text/plain": [
       "     engine_power\n",
       "249         12225\n",
       "150          8351\n",
       "190          6291\n",
       "181          3121\n",
       "110          3041\n",
       "144          2882\n",
       "171          2787\n",
       "170          2771\n",
       "180          2618\n",
       "146          2205\n",
       "340          2085\n",
       "333          1932\n",
       "90           1808\n",
       "245          1751\n",
       "105          1736"
      ]
     },
     "execution_count": 551,
     "metadata": {},
     "output_type": "execute_result"
    }
   ],
   "source": [
    "'''Ok, this categorical feature contains 302 unique values, it's so much for the next operations with ML'''\n",
    "print('Min value:', data['engine_power'].min())\n",
    "print('Max value:', data['engine_power'].max())\n",
    "print('Unique values qty:', data['engine_power'].value_counts().shape[0])\n",
    "\n",
    "data['engine_power'].value_counts().to_frame().head(15)"
   ]
  },
  {
   "cell_type": "code",
   "execution_count": 552,
   "metadata": {},
   "outputs": [
    {
     "data": {
      "text/plain": [
       "<Axes: xlabel='engine_power', ylabel='Count'>"
      ]
     },
     "execution_count": 552,
     "metadata": {},
     "output_type": "execute_result"
    },
    {
     "data": {
      "image/png": "[encoded data removed]",
      "text/plain": [
       "<Figure size 640x480 with 1 Axes>"
      ]
     },
     "metadata": {},
     "output_type": "display_data"
    }
   ],
   "source": [
    "'''Most cars with engine power ~ 250 and ~150'''\n",
    "sns.histplot(data=data, x=\"engine_power\")"
   ]
  },
  {
   "cell_type": "code",
   "execution_count": 553,
   "metadata": {},
   "outputs": [],
   "source": [
    "'''Let's split this feature into 6 classes'''\n",
    "class_list = []\n",
    "brink_values = [0, 140, 240, 340, 440, 540]\n",
    "\n",
    "for s in data['engine_power'].tolist():\n",
    "    class_list.append([i for i, j in enumerate(brink_values) if s > j][-1])\n",
    "\n",
    "data['engine_power'] = class_list"
   ]
  },
  {
   "cell_type": "code",
   "execution_count": 554,
   "metadata": {},
   "outputs": [
    {
     "data": {
      "text/plain": [
       "<Axes: xlabel='engine_power', ylabel='count'>"
      ]
     },
     "execution_count": 554,
     "metadata": {},
     "output_type": "execute_result"
    },
    {
     "data": {
      "image/png": "[encoded data removed]",
      "text/plain": [
       "<Figure size 640x480 with 1 Axes>"
      ]
     },
     "metadata": {},
     "output_type": "display_data"
    }
   ],
   "source": [
    "sns.countplot(data=data, x=\"engine_power\", palette=\"ch:.100\")"
   ]
  },
  {
   "cell_type": "markdown",
   "metadata": {},
   "source": [
    "### doors_number"
   ]
  },
  {
   "cell_type": "code",
   "execution_count": 555,
   "metadata": {},
   "outputs": [
    {
     "data": {
      "text/plain": [
       "5    75164\n",
       "4    30619\n",
       "2     2867\n",
       "3     1114\n",
       "Name: doors_number, dtype: int64"
      ]
     },
     "execution_count": 555,
     "metadata": {},
     "output_type": "execute_result"
    }
   ],
   "source": [
    "data['doors_number'] = data['doors_number'].astype(int)\n",
    "data['doors_number'].value_counts()"
   ]
  },
  {
   "cell_type": "markdown",
   "metadata": {},
   "source": [
    "### owners"
   ]
  },
  {
   "cell_type": "code",
   "execution_count": 556,
   "metadata": {},
   "outputs": [
    {
     "name": "stdout",
     "output_type": "stream",
     "text": [
      "Missing values qty: 21152\n"
     ]
    },
    {
     "data": {
      "text/plain": [
       "1 владелец     33304\n",
       "3 или более    30916\n",
       "2 владельца    24392\n",
       "Name: owners, dtype: int64"
      ]
     },
     "execution_count": 556,
     "metadata": {},
     "output_type": "execute_result"
    }
   ],
   "source": [
    "'''Quarter of all values missed'''\n",
    "print('Missing values qty:', data['owners'].isna().sum())\n",
    "\n",
    "data['owners'].value_counts()"
   ]
  },
  {
   "cell_type": "code",
   "execution_count": 557,
   "metadata": {},
   "outputs": [
    {
     "data": {
      "text/plain": [
       "<Axes: xlabel='owners', ylabel='count'>"
      ]
     },
     "execution_count": 557,
     "metadata": {},
     "output_type": "execute_result"
    },
    {
     "data": {
      "image/png": "[encoded data removed]",
      "text/plain": [
       "<Figure size 640x480 with 1 Axes>"
      ]
     },
     "metadata": {},
     "output_type": "display_data"
    }
   ],
   "source": [
    "sns.countplot(data=data, x=\"owners\", palette=\"ch:.100\")"
   ]
  },
  {
   "cell_type": "code",
   "execution_count": 558,
   "metadata": {},
   "outputs": [],
   "source": [
    "'''I won't fill missing values with most popular class, because it's almost uniform distribution with only 3 classes.\n",
    "Let's create 4th class \"other\"'''\n",
    "data['owners'] = data['owners'].fillna('other')"
   ]
  },
  {
   "cell_type": "code",
   "execution_count": 559,
   "metadata": {},
   "outputs": [
    {
     "data": {
      "text/plain": [
       "1 владелец     33304\n",
       "3 или более    30916\n",
       "2 владельца    24392\n",
       "other          21152\n",
       "Name: owners, dtype: int64"
      ]
     },
     "execution_count": 559,
     "metadata": {},
     "output_type": "execute_result"
    }
   ],
   "source": [
    "data['owners'].value_counts()"
   ]
  },
  {
   "cell_type": "markdown",
   "metadata": {},
   "source": [
    "### vehicle_transmission"
   ]
  },
  {
   "cell_type": "code",
   "execution_count": 560,
   "metadata": {},
   "outputs": [
    {
     "data": {
      "text/plain": [
       "автоматическая      64300\n",
       "вариатор            19988\n",
       "роботизированная    13941\n",
       "механическая        11535\n",
       "Name: vehicle_transmission, dtype: int64"
      ]
     },
     "execution_count": 560,
     "metadata": {},
     "output_type": "execute_result"
    }
   ],
   "source": [
    "'''Here everything is ok. I'll use One Hot Encoding for this feature later'''\n",
    "data['vehicle_transmission'].value_counts()"
   ]
  },
  {
   "cell_type": "markdown",
   "metadata": {},
   "source": [
    "### vehicle_passport"
   ]
  },
  {
   "cell_type": "code",
   "execution_count": 561,
   "metadata": {},
   "outputs": [
    {
     "name": "stdout",
     "output_type": "stream",
     "text": [
      "Missing values qty: 21152\n"
     ]
    },
    {
     "data": {
      "text/plain": [
       "Оригинал    78803\n",
       "Дубликат     9809\n",
       "Name: vehicle_passport, dtype: int64"
      ]
     },
     "execution_count": 561,
     "metadata": {},
     "output_type": "execute_result"
    }
   ],
   "source": [
    "print('Missing values qty:', data['vehicle_passport'].isna().sum())\n",
    "\n",
    "data['vehicle_passport'].value_counts()"
   ]
  },
  {
   "cell_type": "code",
   "execution_count": 562,
   "metadata": {},
   "outputs": [],
   "source": [
    "'''This feature contains 21152 of missing values and only 2 classes, where one of them is more popular than other one.\n",
    "Let's remove it'''\n",
    "data = data.drop(columns = ['vehicle_passport'])"
   ]
  },
  {
   "cell_type": "markdown",
   "metadata": {},
   "source": [
    "### wheel_drive"
   ]
  },
  {
   "cell_type": "code",
   "execution_count": 563,
   "metadata": {},
   "outputs": [
    {
     "name": "stdout",
     "output_type": "stream",
     "text": [
      "Missing values qty: 21152\n"
     ]
    },
    {
     "data": {
      "text/plain": [
       "полный      51288\n",
       "передний    31145\n",
       "задний       6179\n",
       "Name: wheel_drive, dtype: int64"
      ]
     },
     "execution_count": 563,
     "metadata": {},
     "output_type": "execute_result"
    }
   ],
   "source": [
    "print('Missing values qty:', data['wheel_drive'].isna().sum())\n",
    "\n",
    "data['wheel_drive'].value_counts()"
   ]
  },
  {
   "cell_type": "markdown",
   "metadata": {},
   "source": [
    "### engine_displacement"
   ]
  },
  {
   "cell_type": "code",
   "execution_count": 564,
   "metadata": {},
   "outputs": [
    {
     "data": {
      "text/plain": [
       "0    1.8 LTR\n",
       "1    1.6 LTR\n",
       "2    1.6 LTR\n",
       "3    1.4 LTR\n",
       "4    1.4 LTR\n",
       "Name: engine_displacement, dtype: object"
      ]
     },
     "execution_count": 564,
     "metadata": {},
     "output_type": "execute_result"
    }
   ],
   "source": [
    "data['engine_displacement'].head()"
   ]
  },
  {
   "cell_type": "code",
   "execution_count": 565,
   "metadata": {},
   "outputs": [],
   "source": [
    "data['engine_displacement'] = data['engine_displacement'].apply(lambda x: x.split()[0])"
   ]
  },
  {
   "cell_type": "code",
   "execution_count": 566,
   "metadata": {},
   "outputs": [
    {
     "name": "stdout",
     "output_type": "stream",
     "text": [
      "Missing values with \"LTR\": 99\n"
     ]
    }
   ],
   "source": [
    "print('Missing values with \"LTR\":', len(data[data['engine_displacement'] == 'LTR']))"
   ]
  },
  {
   "cell_type": "code",
   "execution_count": 567,
   "metadata": {},
   "outputs": [],
   "source": [
    "top_value = data['engine_displacement'].describe()['top']\n",
    "data['engine_displacement'] = [top_value if i == 'LTR' else i for i in data['engine_displacement'].tolist()]\n",
    "data['engine_displacement'] = data['engine_displacement'].astype(float)"
   ]
  },
  {
   "cell_type": "code",
   "execution_count": 568,
   "metadata": {},
   "outputs": [
    {
     "data": {
      "text/plain": [
       "0         1.8\n",
       "1         1.6\n",
       "2         1.6\n",
       "3         1.4\n",
       "4         1.4\n",
       "         ... \n",
       "109759    2.0\n",
       "109760    2.4\n",
       "109761    2.0\n",
       "109762    2.4\n",
       "109763    1.6\n",
       "Name: engine_displacement, Length: 109764, dtype: float64"
      ]
     },
     "execution_count": 568,
     "metadata": {},
     "output_type": "execute_result"
    }
   ],
   "source": [
    "data['engine_displacement']"
   ]
  },
  {
   "cell_type": "code",
   "execution_count": 569,
   "metadata": {},
   "outputs": [
    {
     "data": {
      "text/plain": [
       "<Axes: xlabel='count', ylabel='engine_displacement'>"
      ]
     },
     "execution_count": 569,
     "metadata": {},
     "output_type": "execute_result"
    },
    {
     "data": {
      "image/png": "[encoded data removed]",
      "text/plain": [
       "<Figure size 1000x1000 with 1 Axes>"
      ]
     },
     "metadata": {},
     "output_type": "display_data"
    }
   ],
   "source": [
    "fig, ax = pyplot.subplots(figsize=(10,10))\n",
    "sns.countplot(data=data, y=\"engine_displacement\", palette=\"ch:.100\", ax=ax)"
   ]
  },
  {
   "cell_type": "markdown",
   "metadata": {},
   "source": [
    "### equipment_dict"
   ]
  },
  {
   "cell_type": "code",
   "execution_count": 570,
   "metadata": {},
   "outputs": [
    {
     "data": {
      "text/plain": [
       "\"{'cruise-control': True, 'asr': True, 'tinted-glass': True, 'esp': True, 'adaptive-light': True, 'usb': True, 'multi-wheel': True, 'xenon': True, 'audiosystem-tv': True, 'heated-wash-system': True, 'ashtray-and-cigarette-lighter': True, 'airbag-passenger': True, 'front-centre-armrest': True, 'lock': True, 'door-sill-panel': True, 'servo': True, 'electro-mirrors': True, 'drl': True, 'electro-window-back': True, 'feedback-alarm': True, 'mirrors-heat': True, 'volume-sensor': True, '17-inch-wheels': True, 'dark-interior': True, 'park-assist-f': True, 'combo-interior': True, 'rear-seats-heat': True, 'cooling-box': True, 'seat-memory': True, 'music-super': True, 'park-assist-r': True, 'engine-proof': True, 'start-stop-function': True, 'airbag-driver': True, 'isofix': True, 'aux': True, 'drive-mode-sys': True, 'electro-window-front': True, 'light-sensor': True, 'hcc': True, 'automatic-lighting-control': True, 'airbag-curtain': True, 'passenger-seat-updown': True, 'computer': True, 'seat-transformation': True, 'passenger-seat-electric': True, 'alarm': True, 'light-cleaner': True, 'alloy-wheel-disks': True, 'leather-gear-stick': True, 'ptf': True, 'rain-sensor': True, 'airbag-side': True, 'tyre-pressure': True, 'voice-recognition': True, 'remote-engine-start': True, 'migration-flag': True, 'abs': True, 'front-seats-heat': True, 'bluetooth': True, 'wheel-configuration2': True, 'wheel-leather': True, 'wheel-configuration1': True, 'immo': True, 'light-interior': True, 'climate-control-2': True, 'auto-mirrors': True, '12v-socket': True}\""
      ]
     },
     "execution_count": 570,
     "metadata": {},
     "output_type": "execute_result"
    }
   ],
   "source": [
    "data['equipment_dict'][0]"
   ]
  },
  {
   "cell_type": "code",
   "execution_count": 571,
   "metadata": {},
   "outputs": [
    {
     "data": {
      "text/plain": [
       "0    {'cruise-control': True, 'asr': True, 'tinted-...\n",
       "1    {'cruise-control': True, 'glonass': True, 'asr...\n",
       "2    {'cruise-control': True, 'glonass': True, 'esp...\n",
       "3    {'cruise-control': True, 'esp': True, 'usb': T...\n",
       "4    {'cruise-control': True, 'asr': True, 'esp': T...\n",
       "Name: equipment_dict, dtype: object"
      ]
     },
     "execution_count": 571,
     "metadata": {},
     "output_type": "execute_result"
    }
   ],
   "source": [
    "data['equipment_dict'] = data['equipment_dict'].apply(lambda x: ast.literal_eval(x))\n",
    "data['equipment_dict'].head()"
   ]
  },
  {
   "cell_type": "code",
   "execution_count": 572,
   "metadata": {},
   "outputs": [
    {
     "data": {
      "text/plain": [
       "0    {'cruise-control': True, 'asr': True, 'tinted-...\n",
       "1    {'cruise-control': True, 'glonass': True, 'asr...\n",
       "2    {'cruise-control': True, 'glonass': True, 'esp...\n",
       "3    {'cruise-control': True, 'esp': True, 'usb': T...\n",
       "4    {'cruise-control': True, 'asr': True, 'esp': T...\n",
       "5    {'cruise-control': True, 'asr': True, 'esp': T...\n",
       "6    {'steel-wheels': True, 'esp': True, 'airbag-dr...\n",
       "7    {'cruise-control': True, 'glonass': True, 'esp...\n",
       "8    {'cruise-control': True, 'asr': True, 'tinted-...\n",
       "9    {'cruise-control': True, 'asr': True, 'esp': T...\n",
       "Name: equipment_dict, dtype: object"
      ]
     },
     "execution_count": 572,
     "metadata": {},
     "output_type": "execute_result"
    }
   ],
   "source": [
    "data['equipment_dict'].head(10)"
   ]
  },
  {
   "cell_type": "code",
   "execution_count": 573,
   "metadata": {},
   "outputs": [
    {
     "name": "stdout",
     "output_type": "stream",
     "text": [
      "{'cruise-control': True, 'asr': True, 'tinted-glass': True, 'esp': True, 'adaptive-light': True, 'usb': True, 'multi-wheel': True, 'xenon': True, 'audiosystem-tv': True, 'heated-wash-system': True, 'ashtray-and-cigarette-lighter': True, 'airbag-passenger': True, 'front-centre-armrest': True, 'lock': True, 'door-sill-panel': True, 'servo': True, 'electro-mirrors': True, 'drl': True, 'electro-window-back': True, 'feedback-alarm': True, 'mirrors-heat': True, 'volume-sensor': True, '17-inch-wheels': True, 'dark-interior': True, 'park-assist-f': True, 'combo-interior': True, 'rear-seats-heat': True, 'cooling-box': True, 'seat-memory': True, 'music-super': True, 'park-assist-r': True, 'engine-proof': True, 'start-stop-function': True, 'airbag-driver': True, 'isofix': True, 'aux': True, 'drive-mode-sys': True, 'electro-window-front': True, 'light-sensor': True, 'hcc': True, 'automatic-lighting-control': True, 'airbag-curtain': True, 'passenger-seat-updown': True, 'computer': True, 'seat-transformation': True, 'passenger-seat-electric': True, 'alarm': True, 'light-cleaner': True, 'alloy-wheel-disks': True, 'leather-gear-stick': True, 'ptf': True, 'rain-sensor': True, 'airbag-side': True, 'tyre-pressure': True, 'voice-recognition': True, 'remote-engine-start': True, 'migration-flag': True, 'abs': True, 'front-seats-heat': True, 'bluetooth': True, 'wheel-configuration2': True, 'wheel-leather': True, 'wheel-configuration1': True, 'immo': True, 'light-interior': True, 'climate-control-2': True, 'auto-mirrors': True, '12v-socket': True}\n"
     ]
    }
   ],
   "source": [
    "'''It's very interesting feature, because it contains dictionaries with a lot of binary characteristics.\n",
    "For example, \"cruise-control\", \"airbag-passenger\", \"navigation\" and so on. It contains only True values. \n",
    "I'll choose important characteristics of car in my opinion and include them to main dataframe.\n",
    "If feature doesn't contain characteristic I'll put False'''\n",
    "print(data['equipment_dict'][0])"
   ]
  },
  {
   "cell_type": "code",
   "execution_count": 574,
   "metadata": {},
   "outputs": [],
   "source": [
    "selected_features = ['cruise-control', 'electro-mirrors', 'computer', 'navigation', 'rain-sensor', 'alarm', 'auto-mirrors']\n",
    "\n",
    "for f in selected_features:\n",
    "    data[re.sub('-', '_', f)] = [True if i.get(f) is not None else False for i in data['equipment_dict'].tolist()]\n",
    "\n",
    "data['climate_control'] = [True if [s for s in list(i.keys()) if 'climate-control' in s] else False for i in data['equipment_dict'].tolist()]\n",
    "data['airbag'] = [True if [s for s in list(i.keys()) if 'airbag' in s] else False for i in data['equipment_dict'].tolist()]\n",
    "data['audio'] = [True if [s for s in list(i.keys()) if 'music' in s or 'audio' in s] else False for i in data['equipment_dict'].tolist()]"
   ]
  },
  {
   "cell_type": "code",
   "execution_count": 576,
   "metadata": {},
   "outputs": [
    {
     "data": {
      "image/png": "[encoded data removed]",
      "text/plain": [
       "<Figure size 2000x800 with 10 Axes>"
      ]
     },
     "metadata": {},
     "output_type": "display_data"
    }
   ],
   "source": [
    "fig, ax = plt.subplots(2,5, figsize=(20,8))\n",
    "\n",
    "sns.countplot(data=data, x='cruise_control', ax=ax[0,0])\n",
    "sns.countplot(data=data, x='electro_mirrors', ax=ax[0,1])\n",
    "sns.countplot(data=data, x='computer', ax=ax[0,2])\n",
    "sns.countplot(data=data, x='navigation', ax=ax[0,3])\n",
    "sns.countplot(data=data, x='airbag', ax=ax[0,4])\n",
    "\n",
    "sns.countplot(data=data, x='rain_sensor', ax=ax[1,0])\n",
    "sns.countplot(data=data, x='alarm', ax=ax[1,1])\n",
    "sns.countplot(data=data, x='auto_mirrors', ax=ax[1,2])\n",
    "sns.countplot(data=data, x='climate_control', ax=ax[1,3])\n",
    "sns.countplot(data=data, x='audio', ax=ax[1,4])\n",
    "\n",
    "fig.show()"
   ]
  },
  {
   "cell_type": "code",
   "execution_count": null,
   "metadata": {},
   "outputs": [],
   "source": []
  },
  {
   "cell_type": "markdown",
   "metadata": {},
   "source": [
    "### steering_wheel"
   ]
  },
  {
   "cell_type": "code",
   "execution_count": 582,
   "metadata": {},
   "outputs": [
    {
     "name": "stdout",
     "output_type": "stream",
     "text": [
      "Missing values qty: 21153\n"
     ]
    },
    {
     "data": {
      "text/plain": [
       "Левый     85551\n",
       "Правый     3060\n",
       "Name: steering_wheel, dtype: int64"
      ]
     },
     "execution_count": 582,
     "metadata": {},
     "output_type": "execute_result"
    }
   ],
   "source": [
    "print('Missing values qty:', data['steering_wheel'].isna().sum())\n",
    "\n",
    "data['steering_wheel'].value_counts()"
   ]
  },
  {
   "cell_type": "code",
   "execution_count": 583,
   "metadata": {},
   "outputs": [],
   "source": [
    "data = data.drop(columns=['steering_wheel'])"
   ]
  },
  {
   "cell_type": "markdown",
   "metadata": {},
   "source": [
    "### mileage"
   ]
  },
  {
   "cell_type": "code",
   "execution_count": 587,
   "metadata": {},
   "outputs": [
    {
     "name": "stdout",
     "output_type": "stream",
     "text": [
      "Missing values qty: 21152\n"
     ]
    }
   ],
   "source": [
    "print('Missing values qty:', data['mileage'].isna().sum())"
   ]
  },
  {
   "cell_type": "code",
   "execution_count": null,
   "metadata": {},
   "outputs": [],
   "source": []
  },
  {
   "cell_type": "markdown",
   "metadata": {},
   "source": [
    "### date_added"
   ]
  },
  {
   "cell_type": "code",
   "execution_count": 598,
   "metadata": {},
   "outputs": [
    {
     "name": "stdout",
     "output_type": "stream",
     "text": [
      "Missing values qty: 21152\n"
     ]
    },
    {
     "data": {
      "text/html": [
       "<div>\n",
       "<style scoped>\n",
       "    .dataframe tbody tr th:only-of-type {\n",
       "        vertical-align: middle;\n",
       "    }\n",
       "\n",
       "    .dataframe tbody tr th {\n",
       "        vertical-align: top;\n",
       "    }\n",
       "\n",
       "    .dataframe thead th {\n",
       "        text-align: right;\n",
       "    }\n",
       "</style>\n",
       "<table border=\"1\" class=\"dataframe\">\n",
       "  <thead>\n",
       "    <tr style=\"text-align: right;\">\n",
       "      <th></th>\n",
       "      <th>date_added</th>\n",
       "    </tr>\n",
       "  </thead>\n",
       "  <tbody>\n",
       "    <tr>\n",
       "      <th>25 сентября</th>\n",
       "      <td>38377</td>\n",
       "    </tr>\n",
       "    <tr>\n",
       "      <th>26 сентября</th>\n",
       "      <td>6403</td>\n",
       "    </tr>\n",
       "    <tr>\n",
       "      <th>27 сентября</th>\n",
       "      <td>5889</td>\n",
       "    </tr>\n",
       "    <tr>\n",
       "      <th>24 сентября</th>\n",
       "      <td>4631</td>\n",
       "    </tr>\n",
       "    <tr>\n",
       "      <th>29 сентября</th>\n",
       "      <td>4624</td>\n",
       "    </tr>\n",
       "    <tr>\n",
       "      <th>...</th>\n",
       "      <td>...</td>\n",
       "    </tr>\n",
       "    <tr>\n",
       "      <th>9 ноября 2018</th>\n",
       "      <td>1</td>\n",
       "    </tr>\n",
       "    <tr>\n",
       "      <th>26 сентября 2019</th>\n",
       "      <td>1</td>\n",
       "    </tr>\n",
       "    <tr>\n",
       "      <th>28 сентября 2018</th>\n",
       "      <td>1</td>\n",
       "    </tr>\n",
       "    <tr>\n",
       "      <th>27 августа 2018</th>\n",
       "      <td>1</td>\n",
       "    </tr>\n",
       "    <tr>\n",
       "      <th>27 мая 2019</th>\n",
       "      <td>1</td>\n",
       "    </tr>\n",
       "  </tbody>\n",
       "</table>\n",
       "<p>920 rows × 1 columns</p>\n",
       "</div>"
      ],
      "text/plain": [
       "                  date_added\n",
       "25 сентября            38377\n",
       "26 сентября             6403\n",
       "27 сентября             5889\n",
       "24 сентября             4631\n",
       "29 сентября             4624\n",
       "...                      ...\n",
       "9 ноября 2018              1\n",
       "26 сентября 2019           1\n",
       "28 сентября 2018           1\n",
       "27 августа 2018            1\n",
       "27 мая 2019                1\n",
       "\n",
       "[920 rows x 1 columns]"
      ]
     },
     "execution_count": 598,
     "metadata": {},
     "output_type": "execute_result"
    }
   ],
   "source": [
    "'''This feature shows date when the ad for sale was published.\n",
    "Latest date actually indicates to date of data parsing.\n",
    "Also, I know the data was parsed in September 2021, so dates without a year are 2021.'''\n",
    "print('Missing values qty:', data['date_added'].isna().sum())\n",
    "\n",
    "data['date_added'].value_counts().to_frame()"
   ]
  },
  {
   "cell_type": "code",
   "execution_count": 605,
   "metadata": {},
   "outputs": [],
   "source": [
    "'''Let's add 2021 year to dates without year'''\n",
    "data['date_added'] = [i + ' 2021' if re.search('20\\d{2}', str(i).split()[-1]) is None and str(i) != 'nan' else i for i in data['date_added'].tolist()]"
   ]
  },
  {
   "cell_type": "code",
   "execution_count": 606,
   "metadata": {},
   "outputs": [
    {
     "data": {
      "text/plain": [
       "0         24 сентября 2021\n",
       "1         24 сентября 2021\n",
       "2                      NaN\n",
       "3         25 сентября 2021\n",
       "4                      NaN\n",
       "                ...       \n",
       "109759    25 сентября 2021\n",
       "109760    30 сентября 2021\n",
       "109761                 NaN\n",
       "109762    25 сентября 2021\n",
       "109763    30 сентября 2021\n",
       "Name: date_added, Length: 109764, dtype: object"
      ]
     },
     "execution_count": 606,
     "metadata": {},
     "output_type": "execute_result"
    }
   ],
   "source": [
    "data['date_added']"
   ]
  },
  {
   "cell_type": "code",
   "execution_count": null,
   "metadata": {},
   "outputs": [],
   "source": [
    "'''Names and numbers of monthes'''\n",
    "month_dict = {\n",
    "    'января': '1',\n",
    "    'февраля': '2',\n",
    "    'марта': '3',\n",
    "    'апреля': '4',\n",
    "    'мая': '5',\n",
    "    'июня': '6',\n",
    "    'июля': '7',\n",
    "    'августа': '8',\n",
    "    'сентября': '9',\n",
    "    'октября': '10',\n",
    "    'ноября': '11',\n",
    "    'декабря': '12',\n",
    "}"
   ]
  },
  {
   "cell_type": "code",
   "execution_count": 636,
   "metadata": {},
   "outputs": [],
   "source": [
    "'''Let's replace monthes words to numbers'''\n",
    "data['date_added'] = [i.split()[0] + '.' + month_dict.get(i.split()[1]) + '.' + i.split()[2] if str(i) != 'nan' else i for i in data['date_added'].tolist()]\n",
    "\n",
    "'''Converting string dates to datetime format'''\n",
    "data['date_added'] = data['date_added'].apply(lambda x: datetime.strptime(x, '%d.%m.%Y').date() if str(x) != 'nan' else x)\n",
    "data['date_added'][0]"
   ]
  },
  {
   "cell_type": "code",
   "execution_count": 645,
   "metadata": {},
   "outputs": [
    {
     "data": {
      "text/plain": [
       "2021-09-25    38377\n",
       "2021-09-26     6403\n",
       "2021-09-27     5889\n",
       "2021-09-24     4631\n",
       "2021-09-29     4624\n",
       "              ...  \n",
       "2018-11-09        1\n",
       "2019-09-26        1\n",
       "2018-09-28        1\n",
       "2018-08-27        1\n",
       "2019-05-27        1\n",
       "Name: date_added, Length: 920, dtype: int64"
      ]
     },
     "execution_count": 645,
     "metadata": {},
     "output_type": "execute_result"
    }
   ],
   "source": [
    "data['date_added'].value_counts()"
   ]
  },
  {
   "cell_type": "code",
   "execution_count": 652,
   "metadata": {},
   "outputs": [
    {
     "name": "stdout",
     "output_type": "stream",
     "text": [
      "Date of data parsing is 2021-09-30\n"
     ]
    }
   ],
   "source": [
    "parsing_date = max([i for i in data['date_added'].tolist() if str(i) != 'nan'])\n",
    "print('Date of data parsing is', parsing_date)\n",
    "\n",
    "'''Let's fill missing values in date_added by parsing_date'''\n",
    "data['date_added'] = data['date_added'].fillna(parsing_date)"
   ]
  },
  {
   "cell_type": "markdown",
   "metadata": {},
   "source": [
    "### model_date"
   ]
  },
  {
   "cell_type": "code",
   "execution_count": null,
   "metadata": {},
   "outputs": [],
   "source": []
  },
  {
   "cell_type": "code",
   "execution_count": null,
   "metadata": {},
   "outputs": [],
   "source": []
  }
 ],
 "metadata": {
  "kernelspec": {
   "display_name": "Python 3",
   "language": "python",
   "name": "python3"
  },
  "language_info": {
   "codemirror_mode": {
    "name": "ipython",
    "version": 3
   },
   "file_extension": ".py",
   "mimetype": "text/x-python",
   "name": "python",
   "nbconvert_exporter": "python",
   "pygments_lexer": "ipython3",
   "version": "3.10.0"
  },
  "orig_nbformat": 4
 },
 "nbformat": 4,
 "nbformat_minor": 2
}
